{
 "cells": [
  {
   "cell_type": "markdown",
   "metadata": {},
   "source": [
    "# Import libraries and functions"
   ]
  },
  {
   "cell_type": "code",
   "execution_count": 135,
   "metadata": {},
   "outputs": [],
   "source": [
    "import plotly.express as px\n",
    "\n",
    "from functions import (\n",
    "    load_data,\n",
    "    group_and_aggregate_data,\n",
    "    remove_sparse_columns,\n",
    "    dimensionality_reduction\n",
    ")"
   ]
  },
  {
   "cell_type": "markdown",
   "metadata": {},
   "source": [
    "# Part 1: Compare Cities"
   ]
  },
  {
   "cell_type": "markdown",
   "metadata": {},
   "source": [
    "1) Load the dataset"
   ]
  },
  {
   "cell_type": "code",
   "execution_count": 136,
   "metadata": {},
   "outputs": [
    {
     "name": "stdout",
     "output_type": "stream",
     "text": [
      "Data Loaded. Shape: (12545, 42)\n"
     ]
    }
   ],
   "source": [
    "filepath = 'data/knesset_25.xlsx'  # or .csv if preferred\n",
    "df = load_data(filepath)\n",
    "print(\"Data Loaded. Shape:\", df.shape)"
   ]
  },
  {
   "cell_type": "markdown",
   "metadata": {},
   "source": [
    "2) Group by city_name and aggregate by sum"
   ]
  },
  {
   "cell_type": "code",
   "execution_count": 137,
   "metadata": {},
   "outputs": [
    {
     "name": "stdout",
     "output_type": "stream",
     "text": [
      "Aggregated by city_name (sum). Shape: (1216, 42)\n"
     ]
    },
    {
     "data": {
      "text/html": [
       "<div>\n",
       "<style scoped>\n",
       "    .dataframe tbody tr th:only-of-type {\n",
       "        vertical-align: middle;\n",
       "    }\n",
       "\n",
       "    .dataframe tbody tr th {\n",
       "        vertical-align: top;\n",
       "    }\n",
       "\n",
       "    .dataframe thead th {\n",
       "        text-align: right;\n",
       "    }\n",
       "</style>\n",
       "<table border=\"1\" class=\"dataframe\">\n",
       "  <thead>\n",
       "    <tr style=\"text-align: right;\">\n",
       "      <th></th>\n",
       "      <th>city_name</th>\n",
       "      <th>ballot_code</th>\n",
       "      <th>party_avoda</th>\n",
       "      <th>party_shahar_kalkali_hadash</th>\n",
       "      <th>party_bayit_yehudi</th>\n",
       "      <th>party_agudat_israel</th>\n",
       "      <th>party_daled</th>\n",
       "      <th>party_vavmem</th>\n",
       "      <th>party_shahar_koach_hevrati</th>\n",
       "      <th>party_kama</th>\n",
       "      <th>...</th>\n",
       "      <th>party_tze'irim_bo'arim</th>\n",
       "      <th>party_manhigut_hevratit</th>\n",
       "      <th>party_kol_hasviva_vehachai</th>\n",
       "      <th>party_halev_hayehudi</th>\n",
       "      <th>party_seder_chadash</th>\n",
       "      <th>party_kol</th>\n",
       "      <th>party_beometz_bishvilech</th>\n",
       "      <th>party_kavod_umasoret</th>\n",
       "      <th>party_shas</th>\n",
       "      <th>party_daat_tov_vera</th>\n",
       "    </tr>\n",
       "  </thead>\n",
       "  <tbody>\n",
       "    <tr>\n",
       "      <th>0</th>\n",
       "      <td>אבו גווייעד שבט</td>\n",
       "      <td>13.0</td>\n",
       "      <td>1</td>\n",
       "      <td>0</td>\n",
       "      <td>0</td>\n",
       "      <td>0</td>\n",
       "      <td>4</td>\n",
       "      <td>38</td>\n",
       "      <td>0</td>\n",
       "      <td>0</td>\n",
       "      <td>...</td>\n",
       "      <td>1</td>\n",
       "      <td>0</td>\n",
       "      <td>0</td>\n",
       "      <td>0</td>\n",
       "      <td>0</td>\n",
       "      <td>0</td>\n",
       "      <td>0</td>\n",
       "      <td>0</td>\n",
       "      <td>4</td>\n",
       "      <td>3</td>\n",
       "    </tr>\n",
       "    <tr>\n",
       "      <th>1</th>\n",
       "      <td>אבו גוש</td>\n",
       "      <td>38.2</td>\n",
       "      <td>14</td>\n",
       "      <td>1</td>\n",
       "      <td>1</td>\n",
       "      <td>3</td>\n",
       "      <td>1263</td>\n",
       "      <td>312</td>\n",
       "      <td>0</td>\n",
       "      <td>0</td>\n",
       "      <td>...</td>\n",
       "      <td>2</td>\n",
       "      <td>7</td>\n",
       "      <td>1</td>\n",
       "      <td>0</td>\n",
       "      <td>1</td>\n",
       "      <td>1</td>\n",
       "      <td>3</td>\n",
       "      <td>0</td>\n",
       "      <td>4</td>\n",
       "      <td>0</td>\n",
       "    </tr>\n",
       "    <tr>\n",
       "      <th>2</th>\n",
       "      <td>אבו סנאן</td>\n",
       "      <td>170.2</td>\n",
       "      <td>34</td>\n",
       "      <td>0</td>\n",
       "      <td>3</td>\n",
       "      <td>0</td>\n",
       "      <td>677</td>\n",
       "      <td>2030</td>\n",
       "      <td>4</td>\n",
       "      <td>1</td>\n",
       "      <td>...</td>\n",
       "      <td>1</td>\n",
       "      <td>4</td>\n",
       "      <td>1</td>\n",
       "      <td>3</td>\n",
       "      <td>1</td>\n",
       "      <td>6</td>\n",
       "      <td>9</td>\n",
       "      <td>0</td>\n",
       "      <td>12</td>\n",
       "      <td>1</td>\n",
       "    </tr>\n",
       "    <tr>\n",
       "      <th>3</th>\n",
       "      <td>אבו עבדון שבט</td>\n",
       "      <td>1.0</td>\n",
       "      <td>0</td>\n",
       "      <td>0</td>\n",
       "      <td>0</td>\n",
       "      <td>0</td>\n",
       "      <td>1</td>\n",
       "      <td>1</td>\n",
       "      <td>0</td>\n",
       "      <td>0</td>\n",
       "      <td>...</td>\n",
       "      <td>0</td>\n",
       "      <td>0</td>\n",
       "      <td>0</td>\n",
       "      <td>0</td>\n",
       "      <td>0</td>\n",
       "      <td>0</td>\n",
       "      <td>0</td>\n",
       "      <td>0</td>\n",
       "      <td>0</td>\n",
       "      <td>0</td>\n",
       "    </tr>\n",
       "    <tr>\n",
       "      <th>4</th>\n",
       "      <td>אבו קורינאת שבט</td>\n",
       "      <td>26.5</td>\n",
       "      <td>5</td>\n",
       "      <td>0</td>\n",
       "      <td>1</td>\n",
       "      <td>0</td>\n",
       "      <td>10</td>\n",
       "      <td>65</td>\n",
       "      <td>0</td>\n",
       "      <td>0</td>\n",
       "      <td>...</td>\n",
       "      <td>0</td>\n",
       "      <td>1</td>\n",
       "      <td>0</td>\n",
       "      <td>0</td>\n",
       "      <td>2</td>\n",
       "      <td>1</td>\n",
       "      <td>0</td>\n",
       "      <td>0</td>\n",
       "      <td>3</td>\n",
       "      <td>0</td>\n",
       "    </tr>\n",
       "  </tbody>\n",
       "</table>\n",
       "<p>5 rows × 42 columns</p>\n",
       "</div>"
      ],
      "text/plain": [
       "         city_name  ballot_code  party_avoda  party_shahar_kalkali_hadash  \\\n",
       "0  אבו גווייעד שבט         13.0            1                            0   \n",
       "1          אבו גוש         38.2           14                            1   \n",
       "2         אבו סנאן        170.2           34                            0   \n",
       "3    אבו עבדון שבט          1.0            0                            0   \n",
       "4  אבו קורינאת שבט         26.5            5                            0   \n",
       "\n",
       "   party_bayit_yehudi  party_agudat_israel  party_daled  party_vavmem  \\\n",
       "0                   0                    0            4            38   \n",
       "1                   1                    3         1263           312   \n",
       "2                   3                    0          677          2030   \n",
       "3                   0                    0            1             1   \n",
       "4                   1                    0           10            65   \n",
       "\n",
       "   party_shahar_koach_hevrati  party_kama  ...  party_tze'irim_bo'arim  \\\n",
       "0                           0           0  ...                       1   \n",
       "1                           0           0  ...                       2   \n",
       "2                           4           1  ...                       1   \n",
       "3                           0           0  ...                       0   \n",
       "4                           0           0  ...                       0   \n",
       "\n",
       "   party_manhigut_hevratit  party_kol_hasviva_vehachai  party_halev_hayehudi  \\\n",
       "0                        0                           0                     0   \n",
       "1                        7                           1                     0   \n",
       "2                        4                           1                     3   \n",
       "3                        0                           0                     0   \n",
       "4                        1                           0                     0   \n",
       "\n",
       "   party_seder_chadash  party_kol  party_beometz_bishvilech  \\\n",
       "0                    0          0                         0   \n",
       "1                    1          1                         3   \n",
       "2                    1          6                         9   \n",
       "3                    0          0                         0   \n",
       "4                    2          1                         0   \n",
       "\n",
       "   party_kavod_umasoret  party_shas  party_daat_tov_vera  \n",
       "0                     0           4                    3  \n",
       "1                     0           4                    0  \n",
       "2                     0          12                    1  \n",
       "3                     0           0                    0  \n",
       "4                     0           3                    0  \n",
       "\n",
       "[5 rows x 42 columns]"
      ]
     },
     "metadata": {},
     "output_type": "display_data"
    }
   ],
   "source": [
    "city_agg_df = group_and_aggregate_data(df, group_by_column='city_name', agg_func='sum')\n",
    "print(\"Aggregated by city_name (sum). Shape:\", city_agg_df.shape)\n",
    "display(city_agg_df.head())"
   ]
  },
  {
   "cell_type": "markdown",
   "metadata": {},
   "source": [
    "3) Remove sparse columns (e.g., parties with fewer than 1000 total votes)"
   ]
  },
  {
   "cell_type": "code",
   "execution_count": 138,
   "metadata": {},
   "outputs": [
    {
     "name": "stdout",
     "output_type": "stream",
     "text": [
      "After removing sparse parties, shape = (1216, 28)\n"
     ]
    },
    {
     "data": {
      "text/html": [
       "<div>\n",
       "<style scoped>\n",
       "    .dataframe tbody tr th:only-of-type {\n",
       "        vertical-align: middle;\n",
       "    }\n",
       "\n",
       "    .dataframe tbody tr th {\n",
       "        vertical-align: top;\n",
       "    }\n",
       "\n",
       "    .dataframe thead th {\n",
       "        text-align: right;\n",
       "    }\n",
       "</style>\n",
       "<table border=\"1\" class=\"dataframe\">\n",
       "  <thead>\n",
       "    <tr style=\"text-align: right;\">\n",
       "      <th></th>\n",
       "      <th>city_name</th>\n",
       "      <th>ballot_code</th>\n",
       "      <th>party_avoda</th>\n",
       "      <th>party_shahar_kalkali_hadash</th>\n",
       "      <th>party_bayit_yehudi</th>\n",
       "      <th>party_agudat_israel</th>\n",
       "      <th>party_daled</th>\n",
       "      <th>party_vavmem</th>\n",
       "      <th>party_tet</th>\n",
       "      <th>party_israel_hofshit_demokratit</th>\n",
       "      <th>...</th>\n",
       "      <th>party_raam</th>\n",
       "      <th>party_yesh_atid</th>\n",
       "      <th>party_pesofit</th>\n",
       "      <th>party_tze'irim_bo'arim</th>\n",
       "      <th>party_kol_hasviva_vehachai</th>\n",
       "      <th>party_seder_chadash</th>\n",
       "      <th>party_kol</th>\n",
       "      <th>party_beometz_bishvilech</th>\n",
       "      <th>party_shas</th>\n",
       "      <th>party_daat_tov_vera</th>\n",
       "    </tr>\n",
       "  </thead>\n",
       "  <tbody>\n",
       "    <tr>\n",
       "      <th>0</th>\n",
       "      <td>אבו גווייעד שבט</td>\n",
       "      <td>13.0</td>\n",
       "      <td>1</td>\n",
       "      <td>0</td>\n",
       "      <td>0</td>\n",
       "      <td>0</td>\n",
       "      <td>4</td>\n",
       "      <td>38</td>\n",
       "      <td>0</td>\n",
       "      <td>0</td>\n",
       "      <td>...</td>\n",
       "      <td>468</td>\n",
       "      <td>1</td>\n",
       "      <td>0</td>\n",
       "      <td>1</td>\n",
       "      <td>0</td>\n",
       "      <td>0</td>\n",
       "      <td>0</td>\n",
       "      <td>0</td>\n",
       "      <td>4</td>\n",
       "      <td>3</td>\n",
       "    </tr>\n",
       "    <tr>\n",
       "      <th>1</th>\n",
       "      <td>אבו גוש</td>\n",
       "      <td>38.2</td>\n",
       "      <td>14</td>\n",
       "      <td>1</td>\n",
       "      <td>1</td>\n",
       "      <td>3</td>\n",
       "      <td>1263</td>\n",
       "      <td>312</td>\n",
       "      <td>13</td>\n",
       "      <td>0</td>\n",
       "      <td>...</td>\n",
       "      <td>838</td>\n",
       "      <td>26</td>\n",
       "      <td>0</td>\n",
       "      <td>2</td>\n",
       "      <td>1</td>\n",
       "      <td>1</td>\n",
       "      <td>1</td>\n",
       "      <td>3</td>\n",
       "      <td>4</td>\n",
       "      <td>0</td>\n",
       "    </tr>\n",
       "    <tr>\n",
       "      <th>2</th>\n",
       "      <td>אבו סנאן</td>\n",
       "      <td>170.2</td>\n",
       "      <td>34</td>\n",
       "      <td>0</td>\n",
       "      <td>3</td>\n",
       "      <td>0</td>\n",
       "      <td>677</td>\n",
       "      <td>2030</td>\n",
       "      <td>6</td>\n",
       "      <td>4</td>\n",
       "      <td>...</td>\n",
       "      <td>1160</td>\n",
       "      <td>163</td>\n",
       "      <td>0</td>\n",
       "      <td>1</td>\n",
       "      <td>1</td>\n",
       "      <td>1</td>\n",
       "      <td>6</td>\n",
       "      <td>9</td>\n",
       "      <td>12</td>\n",
       "      <td>1</td>\n",
       "    </tr>\n",
       "    <tr>\n",
       "      <th>3</th>\n",
       "      <td>אבו עבדון שבט</td>\n",
       "      <td>1.0</td>\n",
       "      <td>0</td>\n",
       "      <td>0</td>\n",
       "      <td>0</td>\n",
       "      <td>0</td>\n",
       "      <td>1</td>\n",
       "      <td>1</td>\n",
       "      <td>0</td>\n",
       "      <td>0</td>\n",
       "      <td>...</td>\n",
       "      <td>39</td>\n",
       "      <td>0</td>\n",
       "      <td>0</td>\n",
       "      <td>0</td>\n",
       "      <td>0</td>\n",
       "      <td>0</td>\n",
       "      <td>0</td>\n",
       "      <td>0</td>\n",
       "      <td>0</td>\n",
       "      <td>0</td>\n",
       "    </tr>\n",
       "    <tr>\n",
       "      <th>4</th>\n",
       "      <td>אבו קורינאת שבט</td>\n",
       "      <td>26.5</td>\n",
       "      <td>5</td>\n",
       "      <td>0</td>\n",
       "      <td>1</td>\n",
       "      <td>0</td>\n",
       "      <td>10</td>\n",
       "      <td>65</td>\n",
       "      <td>0</td>\n",
       "      <td>0</td>\n",
       "      <td>...</td>\n",
       "      <td>1096</td>\n",
       "      <td>4</td>\n",
       "      <td>1</td>\n",
       "      <td>0</td>\n",
       "      <td>0</td>\n",
       "      <td>2</td>\n",
       "      <td>1</td>\n",
       "      <td>0</td>\n",
       "      <td>3</td>\n",
       "      <td>0</td>\n",
       "    </tr>\n",
       "  </tbody>\n",
       "</table>\n",
       "<p>5 rows × 28 columns</p>\n",
       "</div>"
      ],
      "text/plain": [
       "         city_name  ballot_code  party_avoda  party_shahar_kalkali_hadash  \\\n",
       "0  אבו גווייעד שבט         13.0            1                            0   \n",
       "1          אבו גוש         38.2           14                            1   \n",
       "2         אבו סנאן        170.2           34                            0   \n",
       "3    אבו עבדון שבט          1.0            0                            0   \n",
       "4  אבו קורינאת שבט         26.5            5                            0   \n",
       "\n",
       "   party_bayit_yehudi  party_agudat_israel  party_daled  party_vavmem  \\\n",
       "0                   0                    0            4            38   \n",
       "1                   1                    3         1263           312   \n",
       "2                   3                    0          677          2030   \n",
       "3                   0                    0            1             1   \n",
       "4                   1                    0           10            65   \n",
       "\n",
       "   party_tet  party_israel_hofshit_demokratit  ...  party_raam  \\\n",
       "0          0                                0  ...         468   \n",
       "1         13                                0  ...         838   \n",
       "2          6                                4  ...        1160   \n",
       "3          0                                0  ...          39   \n",
       "4          0                                0  ...        1096   \n",
       "\n",
       "   party_yesh_atid  party_pesofit  party_tze'irim_bo'arim  \\\n",
       "0                1              0                       1   \n",
       "1               26              0                       2   \n",
       "2              163              0                       1   \n",
       "3                0              0                       0   \n",
       "4                4              1                       0   \n",
       "\n",
       "   party_kol_hasviva_vehachai  party_seder_chadash  party_kol  \\\n",
       "0                           0                    0          0   \n",
       "1                           1                    1          1   \n",
       "2                           1                    1          6   \n",
       "3                           0                    0          0   \n",
       "4                           0                    2          1   \n",
       "\n",
       "   party_beometz_bishvilech  party_shas  party_daat_tov_vera  \n",
       "0                         0           4                    3  \n",
       "1                         3           4                    0  \n",
       "2                         9          12                    1  \n",
       "3                         0           0                    0  \n",
       "4                         0           3                    0  \n",
       "\n",
       "[5 rows x 28 columns]"
      ]
     },
     "metadata": {},
     "output_type": "display_data"
    }
   ],
   "source": [
    "threshold_for_parties = 1000\n",
    "city_cleaned_df = remove_sparse_columns(city_agg_df, threshold_for_parties)\n",
    "print(\"After removing sparse parties, shape =\", city_cleaned_df.shape)\n",
    "display(city_cleaned_df.head())"
   ]
  },
  {
   "cell_type": "markdown",
   "metadata": {},
   "source": [
    "4) Perform PCA, keeping city_name as meta_columns"
   ]
  },
  {
   "cell_type": "code",
   "execution_count": 139,
   "metadata": {},
   "outputs": [
    {
     "name": "stdout",
     "output_type": "stream",
     "text": [
      "Reduced DataFrame (Cities). Shape: (1216, 3)\n"
     ]
    },
    {
     "data": {
      "text/html": [
       "<div>\n",
       "<style scoped>\n",
       "    .dataframe tbody tr th:only-of-type {\n",
       "        vertical-align: middle;\n",
       "    }\n",
       "\n",
       "    .dataframe tbody tr th {\n",
       "        vertical-align: top;\n",
       "    }\n",
       "\n",
       "    .dataframe thead th {\n",
       "        text-align: right;\n",
       "    }\n",
       "</style>\n",
       "<table border=\"1\" class=\"dataframe\">\n",
       "  <thead>\n",
       "    <tr style=\"text-align: right;\">\n",
       "      <th></th>\n",
       "      <th>city_name</th>\n",
       "      <th>PC1</th>\n",
       "      <th>PC2</th>\n",
       "    </tr>\n",
       "  </thead>\n",
       "  <tbody>\n",
       "    <tr>\n",
       "      <th>0</th>\n",
       "      <td>אבו גווייעד שבט</td>\n",
       "      <td>-0.627134</td>\n",
       "      <td>-0.161529</td>\n",
       "    </tr>\n",
       "    <tr>\n",
       "      <th>1</th>\n",
       "      <td>אבו גוש</td>\n",
       "      <td>-0.292946</td>\n",
       "      <td>-1.786730</td>\n",
       "    </tr>\n",
       "    <tr>\n",
       "      <th>2</th>\n",
       "      <td>אבו סנאן</td>\n",
       "      <td>0.636294</td>\n",
       "      <td>-2.708674</td>\n",
       "    </tr>\n",
       "    <tr>\n",
       "      <th>3</th>\n",
       "      <td>אבו עבדון שבט</td>\n",
       "      <td>-0.766639</td>\n",
       "      <td>0.176253</td>\n",
       "    </tr>\n",
       "    <tr>\n",
       "      <th>4</th>\n",
       "      <td>אבו קורינאת שבט</td>\n",
       "      <td>-0.469137</td>\n",
       "      <td>-0.627456</td>\n",
       "    </tr>\n",
       "  </tbody>\n",
       "</table>\n",
       "</div>"
      ],
      "text/plain": [
       "         city_name       PC1       PC2\n",
       "0  אבו גווייעד שבט -0.627134 -0.161529\n",
       "1          אבו גוש -0.292946 -1.786730\n",
       "2         אבו סנאן  0.636294 -2.708674\n",
       "3    אבו עבדון שבט -0.766639  0.176253\n",
       "4  אבו קורינאת שבט -0.469137 -0.627456"
      ]
     },
     "metadata": {},
     "output_type": "display_data"
    }
   ],
   "source": [
    "meta_cols = ['city_name']\n",
    "city_reduced_df = dimensionality_reduction(city_cleaned_df, num_components=2, meta_columns=meta_cols)\n",
    "print(\"Reduced DataFrame (Cities). Shape:\", city_reduced_df.shape)\n",
    "display(city_reduced_df.head())"
   ]
  },
  {
   "cell_type": "markdown",
   "metadata": {},
   "source": [
    "5) Visualize the 2D PCA for cities"
   ]
  },
  {
   "cell_type": "code",
   "execution_count": 140,
   "metadata": {},
   "outputs": [
    {
     "data": {
      "application/vnd.plotly.v1+json": {
       "config": {
        "plotlyServerURL": "https://plot.ly"
       },
       "data": [
        {
         "customdata": [
          [
           "אבו גווייעד שבט"
          ],
          [
           "אבו גוש"
          ],
          [
           "אבו סנאן"
          ],
          [
           "אבו עבדון שבט"
          ],
          [
           "אבו קורינאת שבט"
          ],
          [
           "אבו קרינאת יישוב"
          ],
          [
           "אבו רובייעה שבט"
          ],
          [
           "אבו רוקייק שבט"
          ],
          [
           "אבו תלול"
          ],
          [
           "אבטין"
          ],
          [
           "אבטליון"
          ],
          [
           "אביאל"
          ],
          [
           "אביבים"
          ],
          [
           "אביגדור"
          ],
          [
           "אביחיל"
          ],
          [
           "אביטל"
          ],
          [
           "אביעזר"
          ],
          [
           "אבירים"
          ],
          [
           "אבן יהודה"
          ],
          [
           "אבן מנחם"
          ],
          [
           "אבן ספיר"
          ],
          [
           "אבן שמואל"
          ],
          [
           "אבני איתן"
          ],
          [
           "אבני חפץ"
          ],
          [
           "אבשלום"
          ],
          [
           "אדורה"
          ],
          [
           "אדירים"
          ],
          [
           "אדמית"
          ],
          [
           "אדרת"
          ],
          [
           "אודים"
          ],
          [
           "אודם"
          ],
          [
           "אוהד"
          ],
          [
           "אום אלפחם"
          ],
          [
           "אום אלקוטוף"
          ],
          [
           "אום בטין"
          ],
          [
           "אומן"
          ],
          [
           "אומץ"
          ],
          [
           "אופקים"
          ],
          [
           "אור הגנוז"
          ],
          [
           "אור הנר"
          ],
          [
           "אור יהודה"
          ],
          [
           "אור עקיבא"
          ],
          [
           "אורה"
          ],
          [
           "אורות"
          ],
          [
           "אורטל"
          ],
          [
           "אורים"
          ],
          [
           "אורנית"
          ],
          [
           "אושה"
          ],
          [
           "אזור"
          ],
          [
           "אחווה"
          ],
          [
           "אחוזם"
          ],
          [
           "אחוזת ברק"
          ],
          [
           "אחיהוד"
          ],
          [
           "אחיטוב"
          ],
          [
           "אחיסמך"
          ],
          [
           "אחיעזר"
          ],
          [
           "אטרש שבט"
          ],
          [
           "איבים"
          ],
          [
           "אייל"
          ],
          [
           "איילת השחר"
          ],
          [
           "אילון"
          ],
          [
           "אילות"
          ],
          [
           "אילניה"
          ],
          [
           "אילת"
          ],
          [
           "אירוס"
          ],
          [
           "איתמר"
          ],
          [
           "איתן"
          ],
          [
           "אכסאל"
          ],
          [
           "אל סייד"
          ],
          [
           "אלומה"
          ],
          [
           "אלומות"
          ],
          [
           "אלון הגליל"
          ],
          [
           "אלון מורה"
          ],
          [
           "אלון שבות"
          ],
          [
           "אלוני אבא"
          ],
          [
           "אלוני הבשן"
          ],
          [
           "אלוני יצחק"
          ],
          [
           "אלונים"
          ],
          [
           "אליאב"
          ],
          [
           "אליכין"
          ],
          [
           "אליעד"
          ],
          [
           "אליפז"
          ],
          [
           "אליפלט"
          ],
          [
           "אליקים"
          ],
          [
           "אלישיב"
          ],
          [
           "אלישמע"
          ],
          [
           "אלמגור"
          ],
          [
           "אלמוג"
          ],
          [
           "אלעד"
          ],
          [
           "אלעזר"
          ],
          [
           "אלעריאן"
          ],
          [
           "אלפי מנשה"
          ],
          [
           "אלקוש"
          ],
          [
           "אלקנה"
          ],
          [
           "אלרום"
          ],
          [
           "אמונים"
          ],
          [
           "אמירים"
          ],
          [
           "אמנון"
          ],
          [
           "אמציה"
          ],
          [
           "אניעם"
          ],
          [
           "אסד שבט"
          ],
          [
           "אספר"
          ],
          [
           "אעבלין"
          ],
          [
           "אעצם שבט"
          ],
          [
           "אפיק"
          ],
          [
           "אפיקים"
          ],
          [
           "אפק"
          ],
          [
           "אפרת"
          ],
          [
           "ארבל"
          ],
          [
           "ארגמן"
          ],
          [
           "ארז"
          ],
          [
           "אריאל"
          ],
          [
           "ארסוף"
          ],
          [
           "אשבול"
          ],
          [
           "אשדוד"
          ],
          [
           "אשדות יעקב איחוד"
          ],
          [
           "אשדות יעקב מאוחד"
          ],
          [
           "אשחר"
          ],
          [
           "אשכולות"
          ],
          [
           "אשל הנשיא"
          ],
          [
           "אשלים"
          ],
          [
           "אשקלון"
          ],
          [
           "אשרת"
          ],
          [
           "אשתאול"
          ],
          [
           "באקה אלגרביה"
          ],
          [
           "באר אורה"
          ],
          [
           "באר גנים"
          ],
          [
           "באר טוביה"
          ],
          [
           "באר יעקב"
          ],
          [
           "באר מילכה"
          ],
          [
           "באר שבע"
          ],
          [
           "בארות יצחק"
          ],
          [
           "בארותיים"
          ],
          [
           "בארי"
          ],
          [
           "בוסתן הגליל"
          ],
          [
           "בועיינהנוגידאת"
          ],
          [
           "בוקעאתא"
          ],
          [
           "בורגתה"
          ],
          [
           "בחן"
          ],
          [
           "בטחה"
          ],
          [
           "ביצרון"
          ],
          [
           "ביר אלמכסור"
          ],
          [
           "ביר הדאג"
          ],
          [
           "ביריה"
          ],
          [
           "בית אורן"
          ],
          [
           "בית אל"
          ],
          [
           "בית אלעזרי"
          ],
          [
           "בית אלפא"
          ],
          [
           "בית אריה"
          ],
          [
           "בית גוברין"
          ],
          [
           "בית גמליאל"
          ],
          [
           "בית גן"
          ],
          [
           "בית דגן"
          ],
          [
           "בית הגדי"
          ],
          [
           "בית הלוי"
          ],
          [
           "בית הלל"
          ],
          [
           "בית העמק"
          ],
          [
           "בית הערבה"
          ],
          [
           "בית השיטה"
          ],
          [
           "בית זיד"
          ],
          [
           "בית זית"
          ],
          [
           "בית זרע"
          ],
          [
           "בית חורון"
          ],
          [
           "בית חירות"
          ],
          [
           "בית חלקיה"
          ],
          [
           "בית חנן"
          ],
          [
           "בית חנניה"
          ],
          [
           "בית חשמונאי"
          ],
          [
           "בית יהושע"
          ],
          [
           "בית יוסף"
          ],
          [
           "בית ינאי"
          ],
          [
           "בית יצחקשער חפר"
          ],
          [
           "בית לחם הגלילית"
          ],
          [
           "בית מאיר"
          ],
          [
           "בית נחמיה"
          ],
          [
           "בית ניר"
          ],
          [
           "בית נקופה"
          ],
          [
           "בית עובד"
          ],
          [
           "בית עוזיאל"
          ],
          [
           "בית עזרא"
          ],
          [
           "בית עריף"
          ],
          [
           "בית צבי"
          ],
          [
           "בית קמה"
          ],
          [
           "בית קשת"
          ],
          [
           "בית רבן"
          ],
          [
           "בית רימון"
          ],
          [
           "בית שאן"
          ],
          [
           "בית שמש"
          ],
          [
           "בית שערים"
          ],
          [
           "בית שקמה"
          ],
          [
           "ביתן אהרן"
          ],
          [
           "ביתר עילית"
          ],
          [
           "בלפוריה"
          ],
          [
           "בן זכאי"
          ],
          [
           "בן עמי"
          ],
          [
           "בן שמן כפר נוער"
          ],
          [
           "בן שמן מושב"
          ],
          [
           "בני ברק"
          ],
          [
           "בני דקלים"
          ],
          [
           "בני דרום"
          ],
          [
           "בני דרור"
          ],
          [
           "בני יהודה"
          ],
          [
           "בני נצרים"
          ],
          [
           "בני עטרות"
          ],
          [
           "בני עיש"
          ],
          [
           "בני ציון"
          ],
          [
           "בני ראם"
          ],
          [
           "בניה"
          ],
          [
           "בנימינהגבעת עדה"
          ],
          [
           "בסמה"
          ],
          [
           "בסמת טבעון"
          ],
          [
           "בענה"
          ],
          [
           "בצרה"
          ],
          [
           "בצת"
          ],
          [
           "בקוע"
          ],
          [
           "בקעות"
          ],
          [
           "בר גיורא"
          ],
          [
           "בר יוחאי"
          ],
          [
           "ברוכין"
          ],
          [
           "ברור חיל"
          ],
          [
           "ברוש"
          ],
          [
           "ברכה"
          ],
          [
           "ברכיה"
          ],
          [
           "ברעם"
          ],
          [
           "ברק"
          ],
          [
           "ברקאי"
          ],
          [
           "ברקן"
          ],
          [
           "ברקת"
          ],
          [
           "בת הדר"
          ],
          [
           "בת חן"
          ],
          [
           "בת חפר"
          ],
          [
           "בת ים"
          ],
          [
           "בת עין"
          ],
          [
           "בת שלמה"
          ],
          [
           "גאולי תימן"
          ],
          [
           "גאולים"
          ],
          [
           "גאליה"
          ],
          [
           "גבולות"
          ],
          [
           "גבים"
          ],
          [
           "גבע"
          ],
          [
           "גבע בנימין"
          ],
          [
           "גבע כרמל"
          ],
          [
           "גבעולים"
          ],
          [
           "גבעון החדשה"
          ],
          [
           "גבעות בר"
          ],
          [
           "גבעת אבני"
          ],
          [
           "גבעת אלה"
          ],
          [
           "גבעת ברנר"
          ],
          [
           "גבעת השלושה"
          ],
          [
           "גבעת זאב"
          ],
          [
           "גבעת חיים איחוד"
          ],
          [
           "גבעת חיים מאוחד"
          ],
          [
           "גבעת חן"
          ],
          [
           "גבעת יואב"
          ],
          [
           "גבעת יערים"
          ],
          [
           "גבעת ישעיהו"
          ],
          [
           "גבעת כח"
          ],
          [
           "גבעת נילי"
          ],
          [
           "גבעת עוז"
          ],
          [
           "גבעת שמואל"
          ],
          [
           "גבעת שפירא"
          ],
          [
           "גבעתי"
          ],
          [
           "גבעתיים"
          ],
          [
           "גברעם"
          ],
          [
           "גבת"
          ],
          [
           "גדות"
          ],
          [
           "גדיידהמכר"
          ],
          [
           "גדיש"
          ],
          [
           "גדעונה"
          ],
          [
           "גדרה"
          ],
          [
           "גולס"
          ],
          [
           "גונן"
          ],
          [
           "גורן"
          ],
          [
           "גורנות הגליל"
          ],
          [
           "גזית"
          ],
          [
           "גזר"
          ],
          [
           "גיאה"
          ],
          [
           "גיבתון"
          ],
          [
           "גיזו"
          ],
          [
           "גילון"
          ],
          [
           "גילת"
          ],
          [
           "גינוסר"
          ],
          [
           "גיניגר"
          ],
          [
           "גינתון"
          ],
          [
           "גיתה"
          ],
          [
           "גיתית"
          ],
          [
           "גלאון"
          ],
          [
           "גלגוליה"
          ],
          [
           "גלגל"
          ],
          [
           "גליל ים"
          ],
          [
           "גלעד אבן יצחק"
          ],
          [
           "גמזו"
          ],
          [
           "גן הדרום"
          ],
          [
           "גן השומרון"
          ],
          [
           "גן חיים"
          ],
          [
           "גן יאשיה"
          ],
          [
           "גן יבנה"
          ],
          [
           "גן נר"
          ],
          [
           "גן שורק"
          ],
          [
           "גן שלמה"
          ],
          [
           "גן שמואל"
          ],
          [
           "גנאביב שבט"
          ],
          [
           "גנות"
          ],
          [
           "גנות הדר"
          ],
          [
           "גני הדר"
          ],
          [
           "גני טל"
          ],
          [
           "גני יוחנן"
          ],
          [
           "גני מודיעין"
          ],
          [
           "גני עם"
          ],
          [
           "גני תקווה"
          ],
          [
           "גסר אזרקא"
          ],
          [
           "געש"
          ],
          [
           "געתון"
          ],
          [
           "גפן"
          ],
          [
           "גרופית"
          ],
          [
           "גש גוש חלב"
          ],
          [
           "גשור"
          ],
          [
           "גשר"
          ],
          [
           "גשר הזיו"
          ],
          [
           "גת"
          ],
          [
           "גת קיבוץ"
          ],
          [
           "גת רימון"
          ],
          [
           "דאלית אלכרמל"
          ],
          [
           "דבורה"
          ],
          [
           "דבוריה"
          ],
          [
           "דבירה"
          ],
          [
           "דברת"
          ],
          [
           "דגניה א"
          ],
          [
           "דגניה ב"
          ],
          [
           "דובב"
          ],
          [
           "דולב"
          ],
          [
           "דור"
          ],
          [
           "דורות"
          ],
          [
           "דחי"
          ],
          [
           "דייר אלאסד"
          ],
          [
           "דייר חנא"
          ],
          [
           "דימונה"
          ],
          [
           "דישון"
          ],
          [
           "דליה"
          ],
          [
           "דלתון"
          ],
          [
           "דמיידה"
          ],
          [
           "דן"
          ],
          [
           "דפנה"
          ],
          [
           "דקל"
          ],
          [
           "דריגאת"
          ],
          [
           "האון"
          ],
          [
           "הבונים"
          ],
          [
           "הגושרים"
          ],
          [
           "הדר עם"
          ],
          [
           "הוד השרון"
          ],
          [
           "הודיה"
          ],
          [
           "הוואשלה שבט"
          ],
          [
           "הוזייל שבט"
          ],
          [
           "הושעיה"
          ],
          [
           "הזורע"
          ],
          [
           "הזורעים"
          ],
          [
           "החותרים"
          ],
          [
           "היוגב"
          ],
          [
           "הילה"
          ],
          [
           "המעפיל"
          ],
          [
           "הסוללים"
          ],
          [
           "העוגן"
          ],
          [
           "הר אדר"
          ],
          [
           "הר גילה"
          ],
          [
           "הר עמשא"
          ],
          [
           "הראל"
          ],
          [
           "הרדוף"
          ],
          [
           "הרצליה"
          ],
          [
           "הררית"
          ],
          [
           "ורד יריחו"
          ],
          [
           "ורדון"
          ],
          [
           "זבדיאל"
          ],
          [
           "זוהר"
          ],
          [
           "זיקים"
          ],
          [
           "זיתן"
          ],
          [
           "זכרון יעקב"
          ],
          [
           "זכריה"
          ],
          [
           "זמר"
          ],
          [
           "זמרת"
          ],
          [
           "זנוח"
          ],
          [
           "זרועה"
          ],
          [
           "זרזיר"
          ],
          [
           "זרחיה"
          ],
          [
           "חבצלת השרון"
          ],
          [
           "חבר"
          ],
          [
           "חברון"
          ],
          [
           "חגור"
          ],
          [
           "חגי"
          ],
          [
           "חגלה"
          ],
          [
           "חדיד"
          ],
          [
           "חדנס"
          ],
          [
           "חדרה"
          ],
          [
           "חואלד"
          ],
          [
           "חולדה"
          ],
          [
           "חולון"
          ],
          [
           "חולית"
          ],
          [
           "חולתה"
          ],
          [
           "חוסן"
          ],
          [
           "חוסנייה"
          ],
          [
           "חופית"
          ],
          [
           "חוקוק"
          ],
          [
           "חורה"
          ],
          [
           "חורפיש"
          ],
          [
           "חורשים"
          ],
          [
           "חזון"
          ],
          [
           "חיבת ציון"
          ],
          [
           "חיננית"
          ],
          [
           "חיפה"
          ],
          [
           "חירות"
          ],
          [
           "חלוץ"
          ],
          [
           "חלץ"
          ],
          [
           "חמאם"
          ],
          [
           "חמד"
          ],
          [
           "חמדיה"
          ],
          [
           "חמדת"
          ],
          [
           "חמרה"
          ],
          [
           "חניאל"
          ],
          [
           "חניתה"
          ],
          [
           "חנתון"
          ],
          [
           "חספין"
          ],
          [
           "חפץ חיים"
          ],
          [
           "חפציבה"
          ],
          [
           "חצב"
          ],
          [
           "חצבה"
          ],
          [
           "חצור הגלילית"
          ],
          [
           "חצוראשדוד"
          ],
          [
           "חצרים"
          ],
          [
           "חרב לאת"
          ],
          [
           "חרוצים"
          ],
          [
           "חריש"
          ],
          [
           "חרמש"
          ],
          [
           "חרשים"
          ],
          [
           "חשמונאים"
          ],
          [
           "טבריה"
          ],
          [
           "טובאזנגריה"
          ],
          [
           "טורעאן"
          ],
          [
           "טייבה"
          ],
          [
           "טייבה בעמק"
          ],
          [
           "טירה"
          ],
          [
           "טירת יהודה"
          ],
          [
           "טירת כרמל"
          ],
          [
           "טירת צבי"
          ],
          [
           "טל שחר"
          ],
          [
           "טלאל"
          ],
          [
           "טללים"
          ],
          [
           "טלמון"
          ],
          [
           "טמרה"
          ],
          [
           "טמרה יזרעאל"
          ],
          [
           "טנא"
          ],
          [
           "טפחות"
          ],
          [
           "יאנוחגת"
          ],
          [
           "יבול"
          ],
          [
           "יבנאל"
          ],
          [
           "יבנה"
          ],
          [
           "יגור"
          ],
          [
           "יגל"
          ],
          [
           "יד בנימין"
          ],
          [
           "יד השמונה"
          ],
          [
           "יד חנה"
          ],
          [
           "יד מרדכי"
          ],
          [
           "יד נתן"
          ],
          [
           "יד רמבם"
          ],
          [
           "יהודמונוסון"
          ],
          [
           "יהל"
          ],
          [
           "יובל"
          ],
          [
           "יובלים"
          ],
          [
           "יודפת"
          ],
          [
           "יונתן"
          ],
          [
           "יושיביה"
          ],
          [
           "יזרעאל"
          ],
          [
           "יחיעם"
          ],
          [
           "יטבתה"
          ],
          [
           "ייטב"
          ],
          [
           "יכיני"
          ],
          [
           "ינוב"
          ],
          [
           "ינון"
          ],
          [
           "יסוד המעלה"
          ],
          [
           "יסודות"
          ],
          [
           "יסעור"
          ],
          [
           "יעד"
          ],
          [
           "יעף"
          ],
          [
           "יערה"
          ],
          [
           "יפיע"
          ],
          [
           "יפית"
          ],
          [
           "יפעת"
          ],
          [
           "יפתח"
          ],
          [
           "יצהר"
          ],
          [
           "יציץ"
          ],
          [
           "יקום"
          ],
          [
           "יקיר"
          ],
          [
           "יקנעם מושבה"
          ],
          [
           "יקנעם עילית"
          ],
          [
           "יראון"
          ],
          [
           "ירדנה"
          ],
          [
           "ירוחם"
          ],
          [
           "ירושלים"
          ],
          [
           "ירחיב"
          ],
          [
           "ירכא"
          ],
          [
           "ירקונה"
          ],
          [
           "ישע"
          ],
          [
           "ישעי"
          ],
          [
           "ישרש"
          ],
          [
           "יתד"
          ],
          [
           "כאבול"
          ],
          [
           "כאוכב אבו אלהיגא"
          ],
          [
           "כברי"
          ],
          [
           "כדיתה"
          ],
          [
           "כוכב השחר"
          ],
          [
           "כוכב יאיר"
          ],
          [
           "כוכב יעקב"
          ],
          [
           "כוכב מיכאל"
          ],
          [
           "כורזים"
          ],
          [
           "כחל"
          ],
          [
           "כחלה"
          ],
          [
           "כיסופים"
          ],
          [
           "כישור"
          ],
          [
           "כליל"
          ],
          [
           "כלנית"
          ],
          [
           "כמאנה"
          ],
          [
           "כמהין"
          ],
          [
           "כמון"
          ],
          [
           "כנף"
          ],
          [
           "כנרת מושבה"
          ],
          [
           "כנרת קבוצה"
          ],
          [
           "כסיפה"
          ],
          [
           "כסלון"
          ],
          [
           "כסראסמיע"
          ],
          [
           "כעביהטבאשחגאגרה"
          ],
          [
           "כפר אביב"
          ],
          [
           "כפר אדומים"
          ],
          [
           "כפר אוריה"
          ],
          [
           "כפר אחים"
          ],
          [
           "כפר ביאליק"
          ],
          [
           "כפר בילו"
          ],
          [
           "כפר בלום"
          ],
          [
           "כפר בן נון"
          ],
          [
           "כפר ברא"
          ],
          [
           "כפר ברוך"
          ],
          [
           "כפר גדעון"
          ],
          [
           "כפר גלים"
          ],
          [
           "כפר גליקסון"
          ],
          [
           "כפר גלעדי"
          ],
          [
           "כפר דניאל"
          ],
          [
           "כפר האורנים"
          ],
          [
           "כפר החורש"
          ],
          [
           "כפר המכבי"
          ],
          [
           "כפר הנגיד"
          ],
          [
           "כפר הנשיא"
          ],
          [
           "כפר הס"
          ],
          [
           "כפר הראה"
          ],
          [
           "כפר הריף"
          ],
          [
           "כפר ויתקין"
          ],
          [
           "כפר ורבורג"
          ],
          [
           "כפר ורדים"
          ],
          [
           "כפר זיתים"
          ],
          [
           "כפר חבד"
          ],
          [
           "כפר חושן"
          ],
          [
           "כפר חיטים"
          ],
          [
           "כפר חיים"
          ],
          [
           "כפר חנניה"
          ],
          [
           "כפר חסידים א"
          ],
          [
           "כפר חסידים ב"
          ],
          [
           "כפר חרוב"
          ],
          [
           "כפר טרומן"
          ],
          [
           "כפר יאסיף"
          ],
          [
           "כפר ידידיה"
          ],
          [
           "כפר יהושע"
          ],
          [
           "כפר יונה"
          ],
          [
           "כפר יחזקאל"
          ],
          [
           "כפר יעבץ"
          ],
          [
           "כפר כמא"
          ],
          [
           "כפר כנא"
          ],
          [
           "כפר מונש"
          ],
          [
           "כפר מימון"
          ],
          [
           "כפר מלל"
          ],
          [
           "כפר מנדא"
          ],
          [
           "כפר מנחם"
          ],
          [
           "כפר מסריק"
          ],
          [
           "כפר מצר"
          ],
          [
           "כפר מרדכי"
          ],
          [
           "כפר נטר"
          ],
          [
           "כפר סאלד"
          ],
          [
           "כפר סבא"
          ],
          [
           "כפר סילבר"
          ],
          [
           "כפר סירקין"
          ],
          [
           "כפר עזה"
          ],
          [
           "כפר עציון"
          ],
          [
           "כפר פינס"
          ],
          [
           "כפר קאסם"
          ],
          [
           "כפר קיש"
          ],
          [
           "כפר קרע"
          ],
          [
           "כפר ראש הנקרה"
          ],
          [
           "כפר רוזנואלד זרעית"
          ],
          [
           "כפר רופין"
          ],
          [
           "כפר רות"
          ],
          [
           "כפר שמאי"
          ],
          [
           "כפר שמואל"
          ],
          [
           "כפר שמריהו"
          ],
          [
           "כפר תבור"
          ],
          [
           "כפר תפוח"
          ],
          [
           "כרכום"
          ],
          [
           "כרם בן זמרה"
          ],
          [
           "כרם יבנה ישיבה"
          ],
          [
           "כרם מהרל"
          ],
          [
           "כרם שלום"
          ],
          [
           "כרמי יוסף"
          ],
          [
           "כרמי צור"
          ],
          [
           "כרמי קטיף"
          ],
          [
           "כרמיאל"
          ],
          [
           "כרמיה"
          ],
          [
           "כרמים"
          ],
          [
           "כרמל"
          ],
          [
           "לבון"
          ],
          [
           "לביא"
          ],
          [
           "לבנים"
          ],
          [
           "להב"
          ],
          [
           "להבות הבשן"
          ],
          [
           "להבות חביבה"
          ],
          [
           "להבים"
          ],
          [
           "לוד"
          ],
          [
           "לוזית"
          ],
          [
           "לוחמי הגיטאות"
          ],
          [
           "לוטם"
          ],
          [
           "לוטן"
          ],
          [
           "לימן"
          ],
          [
           "לכיש"
          ],
          [
           "לפיד"
          ],
          [
           "לפידות"
          ],
          [
           "לקיה"
          ],
          [
           "מאור"
          ],
          [
           "מאיר שפיה"
          ],
          [
           "מבוא ביתר"
          ],
          [
           "מבוא דותן"
          ],
          [
           "מבוא חורון"
          ],
          [
           "מבוא חמה"
          ],
          [
           "מבוא מודיעים"
          ],
          [
           "מבועים"
          ],
          [
           "מבטחים"
          ],
          [
           "מבקיעים"
          ],
          [
           "מבשרת ציון"
          ],
          [
           "מגאר"
          ],
          [
           "מגד אלכרום"
          ],
          [
           "מגדים"
          ],
          [
           "מגדל"
          ],
          [
           "מגדל העמק"
          ],
          [
           "מגדל עוז"
          ],
          [
           "מגדל שמס"
          ],
          [
           "מגדלים"
          ],
          [
           "מגידו"
          ],
          [
           "מגל"
          ],
          [
           "מגן"
          ],
          [
           "מגן שאול"
          ],
          [
           "מגשימים"
          ],
          [
           "מדרך עוז"
          ],
          [
           "מדרשת בן גוריון"
          ],
          [
           "מודיעין עילית"
          ],
          [
           "מודיעיןמכביםרעות"
          ],
          [
           "מולדת"
          ],
          [
           "מוצא עילית"
          ],
          [
           "מוקייבלה"
          ],
          [
           "מורן"
          ],
          [
           "מורשת"
          ],
          [
           "מזור"
          ],
          [
           "מזכרת בתיה"
          ],
          [
           "מזרע"
          ],
          [
           "מזרעה"
          ],
          [
           "מחולה"
          ],
          [
           "מחנה הילה"
          ],
          [
           "מחנה טלי"
          ],
          [
           "מחנה יהודית"
          ],
          [
           "מחנה יוכבד"
          ],
          [
           "מחנה יפה"
          ],
          [
           "מחנה מרים"
          ],
          [
           "מחנה תל נוף"
          ],
          [
           "מחניים"
          ],
          [
           "מחסיה"
          ],
          [
           "מטולה"
          ],
          [
           "מטע"
          ],
          [
           "מי עמי"
          ],
          [
           "מיטב"
          ],
          [
           "מייסר"
          ],
          [
           "מיצר"
          ],
          [
           "מירב"
          ],
          [
           "מירון"
          ],
          [
           "מישר"
          ],
          [
           "מיתר"
          ],
          [
           "מכורה"
          ],
          [
           "מכחול"
          ],
          [
           "מכמורת"
          ],
          [
           "מכמנים"
          ],
          [
           "מלאה"
          ],
          [
           "מלילות"
          ],
          [
           "מלכיה"
          ],
          [
           "מנוחה"
          ],
          [
           "מנוף"
          ],
          [
           "מנות"
          ],
          [
           "מנחמיה"
          ],
          [
           "מנרה"
          ],
          [
           "מנשית זבדה"
          ],
          [
           "מסד"
          ],
          [
           "מסדה"
          ],
          [
           "מסילות"
          ],
          [
           "מסילת ציון"
          ],
          [
           "מסלול"
          ],
          [
           "מסעדה"
          ],
          [
           "מסעודין אלעזאזמה"
          ],
          [
           "מעברות"
          ],
          [
           "מעגלים"
          ],
          [
           "מעגן"
          ],
          [
           "מעגן מיכאל"
          ],
          [
           "מעוז חיים"
          ],
          [
           "מעון"
          ],
          [
           "מעונה"
          ],
          [
           "מעטפות חיצוניות"
          ],
          [
           "מעיליא"
          ],
          [
           "מעין ברוך"
          ],
          [
           "מעין צבי"
          ],
          [
           "מעלה אדומים"
          ],
          [
           "מעלה אפרים"
          ],
          [
           "מעלה גלבוע"
          ],
          [
           "מעלה גמלא"
          ],
          [
           "מעלה החמישה"
          ],
          [
           "מעלה לבונה"
          ],
          [
           "מעלה מכמש"
          ],
          [
           "מעלה עירון"
          ],
          [
           "מעלה עמוס"
          ],
          [
           "מעלותתרשיחא"
          ],
          [
           "מענית"
          ],
          [
           "מעש"
          ],
          [
           "מפלסים"
          ],
          [
           "מצדות יהודה"
          ],
          [
           "מצובה"
          ],
          [
           "מצליח"
          ],
          [
           "מצפה"
          ],
          [
           "מצפה אביב"
          ],
          [
           "מצפה אילן"
          ],
          [
           "מצפה יריחו"
          ],
          [
           "מצפה נטופה"
          ],
          [
           "מצפה רמון"
          ],
          [
           "מצפה שלם"
          ],
          [
           "מצר"
          ],
          [
           "מקווה ישראל"
          ],
          [
           "מרגליות"
          ],
          [
           "מרום גולן"
          ],
          [
           "מרחב עם"
          ],
          [
           "מרחביה מושב"
          ],
          [
           "מרחביה קיבוץ"
          ],
          [
           "מרכז שפירא"
          ],
          [
           "משאבי שדה"
          ],
          [
           "משגב דב"
          ],
          [
           "משגב עם"
          ],
          [
           "משהד"
          ],
          [
           "משואה"
          ],
          [
           "משואות יצחק"
          ],
          [
           "משכיות"
          ],
          [
           "משמר איילון"
          ],
          [
           "משמר דוד"
          ],
          [
           "משמר הירדן"
          ],
          [
           "משמר הנגב"
          ],
          [
           "משמר העמק"
          ],
          [
           "משמר השבעה"
          ],
          [
           "משמר השרון"
          ],
          [
           "משמרות"
          ],
          [
           "משמרת"
          ],
          [
           "משען"
          ],
          [
           "מתן"
          ],
          [
           "מתת"
          ],
          [
           "מתתיהו"
          ],
          [
           "נאות גולן"
          ],
          [
           "נאות הכיכר"
          ],
          [
           "נאות מרדכי"
          ],
          [
           "נאות סמדר"
          ],
          [
           "נאעורה"
          ],
          [
           "נבטים"
          ],
          [
           "נגבה"
          ],
          [
           "נגוהות"
          ],
          [
           "נהורה"
          ],
          [
           "נהלל"
          ],
          [
           "נהריה"
          ],
          [
           "נוב"
          ],
          [
           "נוגה"
          ],
          [
           "נוה צוף"
          ],
          [
           "נווה"
          ],
          [
           "נווה אור"
          ],
          [
           "נווה אטיב"
          ],
          [
           "נווה אילן"
          ],
          [
           "נווה איתן"
          ],
          [
           "נווה דניאל"
          ],
          [
           "נווה זוהר"
          ],
          [
           "נווה זיו"
          ],
          [
           "נווה ים"
          ],
          [
           "נווה ימין"
          ],
          [
           "נווה ירק"
          ],
          [
           "נווה מבטח"
          ],
          [
           "נווה מיכאל"
          ],
          [
           "נווה שלום"
          ],
          [
           "נועם"
          ],
          [
           "נוף איילון"
          ],
          [
           "נוף הגליל"
          ],
          [
           "נופים"
          ],
          [
           "נופית"
          ],
          [
           "נופך"
          ],
          [
           "נוקדים"
          ],
          [
           "נורדיה"
          ],
          [
           "נורית"
          ],
          [
           "נחושה"
          ],
          [
           "נחל עוז"
          ],
          [
           "נחלה"
          ],
          [
           "נחליאל"
          ],
          [
           "נחלים"
          ],
          [
           "נחם"
          ],
          [
           "נחף"
          ],
          [
           "נחשולים"
          ],
          [
           "נחשון"
          ],
          [
           "נחשונים"
          ],
          [
           "נטועה"
          ],
          [
           "נטור"
          ],
          [
           "נטע"
          ],
          [
           "נטעים"
          ],
          [
           "נטף"
          ],
          [
           "ניין"
          ],
          [
           "נילי"
          ],
          [
           "ניצן"
          ],
          [
           "ניצן ב"
          ],
          [
           "ניצנה קהילת חינוך"
          ],
          [
           "ניצני סיני"
          ],
          [
           "ניצני עוז"
          ],
          [
           "ניצנים"
          ],
          [
           "ניר אליהו"
          ],
          [
           "ניר בנים"
          ],
          [
           "ניר גלים"
          ],
          [
           "ניר דוד תל עמל"
          ],
          [
           "ניר חן"
          ],
          [
           "ניר יפה"
          ],
          [
           "ניר יצחק"
          ],
          [
           "ניר ישראל"
          ],
          [
           "ניר משה"
          ],
          [
           "ניר עוז"
          ],
          [
           "ניר עם"
          ],
          [
           "ניר עציון"
          ],
          [
           "ניר עקיבא"
          ],
          [
           "ניר צבי"
          ],
          [
           "נירים"
          ],
          [
           "נירית"
          ],
          [
           "נס הרים"
          ],
          [
           "נס עמים"
          ],
          [
           "נס ציונה"
          ],
          [
           "נעורים"
          ],
          [
           "נעלה"
          ],
          [
           "נעמה"
          ],
          [
           "נען"
          ],
          [
           "נצאצרה שבט"
          ],
          [
           "נצר חזני"
          ],
          [
           "נצר סרני"
          ],
          [
           "נצרת"
          ],
          [
           "נשר"
          ],
          [
           "נתיב הגדוד"
          ],
          [
           "נתיב הלה"
          ],
          [
           "נתיב העשרה"
          ],
          [
           "נתיב השיירה"
          ],
          [
           "נתיבות"
          ],
          [
           "נתניה"
          ],
          [
           "סאגור"
          ],
          [
           "סאסא"
          ],
          [
           "סביון"
          ],
          [
           "סגולה"
          ],
          [
           "סואעד חמרייה"
          ],
          [
           "סולם"
          ],
          [
           "סוסיה"
          ],
          [
           "סופה"
          ],
          [
           "סחנין"
          ],
          [
           "סייד שבט"
          ],
          [
           "סלמה"
          ],
          [
           "סלעית"
          ],
          [
           "סמר"
          ],
          [
           "סנסנה"
          ],
          [
           "סעד"
          ],
          [
           "סעוה"
          ],
          [
           "סער"
          ],
          [
           "ספיר"
          ],
          [
           "סתריה"
          ],
          [
           "עבדון"
          ],
          [
           "עברון"
          ],
          [
           "עגור"
          ],
          [
           "עגר"
          ],
          [
           "עדי"
          ],
          [
           "עדנים"
          ],
          [
           "עוזה"
          ],
          [
           "עוזייר"
          ],
          [
           "עולש"
          ],
          [
           "עומר"
          ],
          [
           "עופר"
          ],
          [
           "עופרה"
          ],
          [
           "עוצם"
          ],
          [
           "עוקבי בנו עוקבה"
          ],
          [
           "עזר"
          ],
          [
           "עזריאל"
          ],
          [
           "עזריה"
          ],
          [
           "עזריקם"
          ],
          [
           "עטאוונה שבט"
          ],
          [
           "עטרת"
          ],
          [
           "עידן"
          ],
          [
           "עיילבון"
          ],
          [
           "עיינות"
          ],
          [
           "עילוט"
          ],
          [
           "עין איילה"
          ],
          [
           "עין אלאסד"
          ],
          [
           "עין גב"
          ],
          [
           "עין גדי"
          ],
          [
           "עין דור"
          ],
          [
           "עין הבשור"
          ],
          [
           "עין הוד"
          ],
          [
           "עין החורש"
          ],
          [
           "עין המפרץ"
          ],
          [
           "עין הנציב"
          ],
          [
           "עין העמק"
          ],
          [
           "עין השופט"
          ],
          [
           "עין השלושה"
          ],
          [
           "עין ורד"
          ],
          [
           "עין זיוון"
          ],
          [
           "עין חוד"
          ],
          [
           "עין חרוד איחוד"
          ],
          [
           "עין חרוד מאוחד"
          ],
          [
           "עין יהב"
          ],
          [
           "עין יעקב"
          ],
          [
           "עין כרמל"
          ],
          [
           "עין מאהל"
          ],
          [
           "עין נקובא"
          ],
          [
           "עין עירון"
          ],
          [
           "עין צורים"
          ],
          [
           "עין קנייא"
          ],
          [
           "עין ראפה"
          ],
          [
           "עין שמר"
          ],
          [
           "עין שריד"
          ],
          [
           "עין תמר"
          ],
          [
           "עינת"
          ],
          [
           "עכו"
          ],
          [
           "עלומים"
          ],
          [
           "עלי"
          ],
          [
           "עלי זהב"
          ],
          [
           "עלמה"
          ],
          [
           "עלמון"
          ],
          [
           "עמוקה"
          ],
          [
           "עמיחי"
          ],
          [
           "עמינדב"
          ],
          [
           "עמיעד"
          ],
          [
           "עמיעוז"
          ],
          [
           "עמיקם"
          ],
          [
           "עמיר"
          ],
          [
           "עמנואל"
          ],
          [
           "עמקה"
          ],
          [
           "ענב"
          ],
          [
           "עספיא"
          ],
          [
           "עפולה"
          ],
          [
           "עצמון שגב"
          ],
          [
           "עראבה"
          ],
          [
           "עראמשה"
          ],
          [
           "ערב אל נעים"
          ],
          [
           "ערד"
          ],
          [
           "ערוגות"
          ],
          [
           "ערערה"
          ],
          [
           "ערערהבנגב"
          ],
          [
           "עשרת"
          ],
          [
           "עתלית"
          ],
          [
           "עתניאל"
          ],
          [
           "פארן"
          ],
          [
           "פדואל"
          ],
          [
           "פדויים"
          ],
          [
           "פדיה"
          ],
          [
           "פוריה  כפר עבודה"
          ],
          [
           "פוריה  נווה עובד"
          ],
          [
           "פוריה עילית"
          ],
          [
           "פוריידיס"
          ],
          [
           "פורת"
          ],
          [
           "פטיש"
          ],
          [
           "פלך"
          ],
          [
           "פלמחים"
          ],
          [
           "פני חבר"
          ],
          [
           "פסגות"
          ],
          [
           "פסוטה"
          ],
          [
           "פעמי תשז"
          ],
          [
           "פצאל"
          ],
          [
           "פקיעין בוקייעה"
          ],
          [
           "פקיעין חדשה"
          ],
          [
           "פרדס חנהכרכור"
          ],
          [
           "פרדסיה"
          ],
          [
           "פרוד"
          ],
          [
           "פרזון"
          ],
          [
           "פרי גן"
          ],
          [
           "פתח תקווה"
          ],
          [
           "פתחיה"
          ],
          [
           "צאלים"
          ],
          [
           "צביה"
          ],
          [
           "צבעון"
          ],
          [
           "צובה"
          ],
          [
           "צוחר"
          ],
          [
           "צופים"
          ],
          [
           "צופית"
          ],
          [
           "צופר"
          ],
          [
           "צוקי ים"
          ],
          [
           "צוקים"
          ],
          [
           "צור הדסה"
          ],
          [
           "צור יצחק"
          ],
          [
           "צור משה"
          ],
          [
           "צור נתן"
          ],
          [
           "צוריאל"
          ],
          [
           "צורית"
          ],
          [
           "ציפורי"
          ],
          [
           "צלפון"
          ],
          [
           "צנדלה"
          ],
          [
           "צפריה"
          ],
          [
           "צפרירים"
          ],
          [
           "צפת"
          ],
          [
           "צרופה"
          ],
          [
           "צרעה"
          ],
          [
           "קבועה שבט"
          ],
          [
           "קבוצת יבנה"
          ],
          [
           "קדומים"
          ],
          [
           "קדימהצורן"
          ],
          [
           "קדמת צבי"
          ],
          [
           "קדר"
          ],
          [
           "קדרון"
          ],
          [
           "קדרים"
          ],
          [
           "קודייראת אצאנעשבט"
          ],
          [
           "קוואעין שבט"
          ],
          [
           "קוממיות"
          ],
          [
           "קורנית"
          ],
          [
           "קטורה"
          ],
          [
           "קיסריה"
          ],
          [
           "קלחים"
          ],
          [
           "קליה"
          ],
          [
           "קלנסווה"
          ],
          [
           "קלע"
          ],
          [
           "קציר"
          ],
          [
           "קצר אסר"
          ],
          [
           "קצרין"
          ],
          [
           "קרית אונו"
          ],
          [
           "קרית ארבע"
          ],
          [
           "קרית אתא"
          ],
          [
           "קרית ביאליק"
          ],
          [
           "קרית גת"
          ],
          [
           "קרית טבעון"
          ],
          [
           "קרית ים"
          ],
          [
           "קרית יערים"
          ],
          [
           "קרית מוצקין"
          ],
          [
           "קרית מלאכי"
          ],
          [
           "קרית נטפים"
          ],
          [
           "קרית ענבים"
          ],
          [
           "קרית עקרון"
          ],
          [
           "קרית שמונה"
          ],
          [
           "קרני שומרון"
          ],
          [
           "קשת"
          ],
          [
           "ראמה"
          ],
          [
           "ראס אלעין"
          ],
          [
           "ראס עלי"
          ],
          [
           "ראש העין"
          ],
          [
           "ראש פינה"
          ],
          [
           "ראש צורים"
          ],
          [
           "ראשון לציון"
          ],
          [
           "רבבה"
          ],
          [
           "רבדים"
          ],
          [
           "רביבים"
          ],
          [
           "רגבה"
          ],
          [
           "רגבים"
          ],
          [
           "רהט"
          ],
          [
           "רווחה"
          ],
          [
           "רוויה"
          ],
          [
           "רוחמה"
          ],
          [
           "רומאנה"
          ],
          [
           "רומת הייב"
          ],
          [
           "רועי"
          ],
          [
           "רותם"
          ],
          [
           "רחוב"
          ],
          [
           "רחובות"
          ],
          [
           "רחלים"
          ],
          [
           "ריחאניה"
          ],
          [
           "ריחן"
          ],
          [
           "ריינה"
          ],
          [
           "רימונים"
          ],
          [
           "רינתיה"
          ],
          [
           "רכסים"
          ],
          [
           "רםאון"
          ],
          [
           "רמות"
          ],
          [
           "רמות השבים"
          ],
          [
           "רמות מאיר"
          ],
          [
           "רמות מנשה"
          ],
          [
           "רמות נפתלי"
          ],
          [
           "רמלה"
          ],
          [
           "רמת גן"
          ],
          [
           "רמת דוד"
          ],
          [
           "רמת הכובש"
          ],
          [
           "רמת השופט"
          ],
          [
           "רמת השרון"
          ],
          [
           "רמת יוחנן"
          ],
          [
           "רמת ישי"
          ],
          [
           "רמת מגשימים"
          ],
          [
           "רמת צבי"
          ],
          [
           "רמת רזיאל"
          ],
          [
           "רמת רחל"
          ],
          [
           "רנן"
          ],
          [
           "רעים"
          ],
          [
           "רעננה"
          ],
          [
           "רקפת"
          ],
          [
           "רשפון"
          ],
          [
           "רשפים"
          ],
          [
           "רתמים"
          ],
          [
           "שאר ישוב"
          ],
          [
           "שבי דרום"
          ],
          [
           "שבי ציון"
          ],
          [
           "שבי שומרון"
          ],
          [
           "שבלי  אום אלגנם"
          ],
          [
           "שגבשלום"
          ],
          [
           "שדה אילן"
          ],
          [
           "שדה אליהו"
          ],
          [
           "שדה אליעזר"
          ],
          [
           "שדה בוקר"
          ],
          [
           "שדה דוד"
          ],
          [
           "שדה ורבורג"
          ],
          [
           "שדה יואב"
          ],
          [
           "שדה יעקב"
          ],
          [
           "שדה יצחק"
          ],
          [
           "שדה משה"
          ],
          [
           "שדה נחום"
          ],
          [
           "שדה נחמיה"
          ],
          [
           "שדה ניצן"
          ],
          [
           "שדה עוזיהו"
          ],
          [
           "שדה צבי"
          ],
          [
           "שדות ים"
          ],
          [
           "שדות מיכה"
          ],
          [
           "שדי אברהם"
          ],
          [
           "שדי חמד"
          ],
          [
           "שדי תרומות"
          ],
          [
           "שדמה"
          ],
          [
           "שדמות דבורה"
          ],
          [
           "שדמות מחולה"
          ],
          [
           "שדרות"
          ],
          [
           "שואבה"
          ],
          [
           "שובה"
          ],
          [
           "שובל"
          ],
          [
           "שוהם"
          ],
          [
           "שומרה"
          ],
          [
           "שומריה"
          ],
          [
           "שוקדה"
          ],
          [
           "שורש"
          ],
          [
           "שורשים"
          ],
          [
           "שושנת העמקים"
          ],
          [
           "שזור"
          ],
          [
           "שחר"
          ],
          [
           "שחרות"
          ],
          [
           "שיבולים"
          ],
          [
           "שייח דנון"
          ],
          [
           "שילה"
          ],
          [
           "שילת"
          ],
          [
           "שכניה"
          ],
          [
           "שלווה"
          ],
          [
           "שלוחות"
          ],
          [
           "שלומי"
          ],
          [
           "שלומית"
          ],
          [
           "שמיר"
          ],
          [
           "שמעה"
          ],
          [
           "שמרת"
          ],
          [
           "שמשית"
          ],
          [
           "שני"
          ],
          [
           "שניר"
          ],
          [
           "שעב"
          ],
          [
           "שעל"
          ],
          [
           "שעלבים"
          ],
          [
           "שער אפרים"
          ],
          [
           "שער הגולן"
          ],
          [
           "שער העמקים"
          ],
          [
           "שער מנשה"
          ],
          [
           "שער שומרון"
          ],
          [
           "שפיים"
          ],
          [
           "שפיר"
          ],
          [
           "שפר"
          ],
          [
           "שפרעם"
          ],
          [
           "שקד"
          ],
          [
           "שקף"
          ],
          [
           "שרונה"
          ],
          [
           "שריגים ליאון"
          ],
          [
           "שריד"
          ],
          [
           "שרשרת"
          ],
          [
           "שתולה"
          ],
          [
           "שתולים"
          ],
          [
           "תאשור"
          ],
          [
           "תדהר"
          ],
          [
           "תובל"
          ],
          [
           "תומר"
          ],
          [
           "תושיה"
          ],
          [
           "תימורים"
          ],
          [
           "תירוש"
          ],
          [
           "תל אביב  יפו"
          ],
          [
           "תל יוסף"
          ],
          [
           "תל יצחק"
          ],
          [
           "תל מונד"
          ],
          [
           "תל עדשים"
          ],
          [
           "תל קציר"
          ],
          [
           "תל שבע"
          ],
          [
           "תל תאומים"
          ],
          [
           "תלם"
          ],
          [
           "תלמי אליהו"
          ],
          [
           "תלמי אלעזר"
          ],
          [
           "תלמי בילו"
          ],
          [
           "תלמי יוסף"
          ],
          [
           "תלמי יחיאל"
          ],
          [
           "תלמי יפה"
          ],
          [
           "תלמים"
          ],
          [
           "תמרת"
          ],
          [
           "תנובות"
          ],
          [
           "תעוז"
          ],
          [
           "תפרח"
          ],
          [
           "תקומה"
          ],
          [
           "תקוע"
          ],
          [
           "תראבין אצאנע שבט"
          ],
          [
           "תראבין אצאנעישוב"
          ],
          [
           "תרום"
          ]
         ],
         "hovertemplate": "PC1=%{x}<br>PC2=%{y}<br>city_name=%{customdata[0]}<extra></extra>",
         "legendgroup": "",
         "marker": {
          "color": "#636efa",
          "symbol": "circle"
         },
         "mode": "markers",
         "name": "",
         "showlegend": false,
         "type": "scattergl",
         "x": [
          -0.627134013443088,
          -0.2929457681970685,
          0.6362936505080673,
          -0.7666392797649249,
          -0.469136957919932,
          -0.6983699250582108,
          -0.3676482683625582,
          -0.3850156532892264,
          -0.7084914509719521,
          -0.6334240523449608,
          -0.7063049477151226,
          -0.6838470035614276,
          -0.7533186261399254,
          -0.6914399553315677,
          -0.6257998576581184,
          -0.7420509102181586,
          -0.6558315659167933,
          -0.7181119470118379,
          0.5810808831435651,
          -0.7078245243119852,
          -0.682078714305684,
          -0.6736895443388864,
          -0.7119864403313432,
          -0.6431695730780733,
          -0.7445911536040245,
          -0.7482590635148391,
          -0.7572805909408793,
          -0.7158832826062086,
          -0.6914906299768586,
          -0.6152716784916104,
          -0.7157738736491432,
          -0.7458489677711542,
          2.331004657263975,
          -0.709494752546287,
          -0.5535328283366684,
          -0.7381085708406255,
          -0.6716522254078378,
          1.2433395688316058,
          -0.7563410847632192,
          -0.6821017685349354,
          2.106115709404245,
          0.8462689129257411,
          -0.6871829435823046,
          -0.7306151944525072,
          -0.7341499123766033,
          -0.6739101262970891,
          0.3097082884338301,
          -0.7163191374291076,
          0.3327336354818061,
          -0.7556376220650726,
          -0.7504230236785584,
          -0.4158104411080165,
          -0.6969398011168263,
          -0.6755157764816954,
          -0.7219451414812675,
          -0.6610982465968572,
          -0.5276469461171774,
          -0.7176115538362549,
          -0.7308300880011794,
          -0.6519932571987384,
          -0.6485647861757197,
          -0.7467182778510197,
          -0.7188546658007637,
          4.367229804830177,
          -0.7177377558565492,
          -0.715036266035744,
          -0.736048628216767,
          0.06356469061575858,
          -0.5353187441368187,
          -0.721456536550599,
          -0.7366683137091612,
          -0.6633839520609556,
          -0.708703789298152,
          -0.30083518010330484,
          -0.7017488102062072,
          -0.7185565718447278,
          -0.7679300118504225,
          -0.6455851467831016,
          -0.7063636919297286,
          -0.4662357896292888,
          -0.73300914143534,
          -0.7193560368720334,
          -0.7061324363010993,
          -0.675548905573663,
          -0.7024799516713197,
          -0.6930866139899189,
          -0.702480822117797,
          -0.7574128919941595,
          0.7909142274712317,
          -0.5615954166628837,
          -0.7183716595579395,
          -0.1664994760496417,
          -0.756542790599538,
          -0.2597607472871268,
          -0.6764631077097024,
          -0.6469406693224895,
          -0.45882900759321205,
          -0.730024043366137,
          -0.762193870103569,
          -0.6278251670824944,
          -0.7137730837076353,
          -0.7277421557837657,
          0.34198243444022,
          -0.2417772935652909,
          -0.7413819578835075,
          -0.6014769300231255,
          -0.6712872587403289,
          0.6732317585459952,
          -0.7225013420899107,
          -0.7623084174512119,
          -0.6650130960225974,
          1.4290520549508527,
          -0.7640010098272128,
          -0.7416650697794374,
          19.59491711209927,
          -0.6266584426494536,
          -0.6986569358899433,
          -0.6689479000290894,
          -0.7023087567628497,
          -0.7587696268777856,
          -0.7156524886868676,
          14.458611116523128,
          -0.6471235372524032,
          -0.7010682920934548,
          1.1116826048206874,
          -0.6957517576778263,
          -0.6361949567778061,
          -0.6714393885528221,
          1.6302227674201843,
          -0.716579046766639,
          20.176077790990323,
          -0.6801795452334372,
          -0.6490154056157066,
          -0.6004305128841071,
          -0.6997225659221209,
          -0.19627225967428874,
          -0.7128676141875236,
          -0.6344941298904142,
          -0.7050492524601916,
          -0.728277973643144,
          -0.6337102674201962,
          -0.2876780456105414,
          -0.4360791510431924,
          -0.7230288109706519,
          -0.47166951196534623,
          -0.5009568165292142,
          -0.611154776221476,
          -0.6470091555756368,
          -0.22821758095714753,
          -0.7331386759025331,
          -0.6663575762272282,
          1.44538206893566,
          -0.18223289742020246,
          -0.7088631835149325,
          -0.7105195458494306,
          -0.6971015201635483,
          -0.6091409990168709,
          -0.7171040481947927,
          -0.6211915294017019,
          -0.760711896731528,
          -0.6222544938617577,
          -0.5572954071130861,
          -0.6425121005895422,
          -0.7154786444932276,
          -0.7543698612238179,
          -0.7185158818986361,
          -0.7048894591820056,
          -0.501561055359567,
          -0.656323833612764,
          -0.7511027804932227,
          -0.7508311226406016,
          -0.5071671934183944,
          -0.6613179324388689,
          -0.7124856160358184,
          -0.7095751349433331,
          -0.7152044299468947,
          -0.7204054864395861,
          -0.7467832679281938,
          -0.6829997946859401,
          -0.6867102156851709,
          -0.7094829784292029,
          -0.7677707150644885,
          -0.7054821620298662,
          -0.5915438988386563,
          -0.7490186894955722,
          -0.6544359253226082,
          0.7801310496015134,
          5.073704042994709,
          -0.6507726052012539,
          -0.702603457613154,
          -0.7606318282475913,
          0.6242192654920877,
          -0.73647823713427,
          -0.6881823880495896,
          -0.7009810809903839,
          -0.7495473347394481,
          -0.7191986805575357,
          5.5683961172016385,
          -0.7153495884108985,
          -0.6653333671893032,
          -0.7191576443525547,
          -0.5863539776220407,
          -0.7359602712321153,
          -0.6574201778928116,
          0.1405303241266661,
          -0.6639342456920918,
          -0.5488216109924783,
          -0.7145672980352852,
          0.6885638137424911,
          -0.011017907533379988,
          -0.280529633851517,
          -0.27146369647760493,
          -0.6527800853611061,
          -0.6634004254004154,
          -0.7201729913088016,
          -0.7576521746160835,
          -0.7342416905974234,
          -0.687805893416833,
          -0.6637237095613521,
          -0.60955521007384,
          -0.7456705046549287,
          -0.680100794543645,
          -0.7037138896388784,
          -0.713759616119595,
          -0.7476256028432434,
          -0.7053503785221333,
          -0.42590853059292966,
          -0.68041289511998,
          -0.7353746410018339,
          -0.7151980995121858,
          -0.14479019997771633,
          13.971787543688508,
          -0.5883937593848565,
          -0.686354396061624,
          -0.6991769700817742,
          -0.6115852681147518,
          -0.12512306780881854,
          -0.7302637448455407,
          -0.7125219823601068,
          -0.6965685763575616,
          -0.46491860728258794,
          -0.6952235697520861,
          -0.7533441836973627,
          -0.596015893928545,
          -0.6913529541465027,
          -0.42631532629548424,
          -0.6389529897875105,
          -0.472337272067112,
          -0.7143321149675604,
          0.43803724332739885,
          -0.5990167779752984,
          -0.5812585356936567,
          -0.7238371762555798,
          -0.6995835310673539,
          -0.6616182982613734,
          -0.6896167808889266,
          -0.6505063227648784,
          -0.7282752317590486,
          -0.7178708927845676,
          2.3125345400133415,
          -0.7441478827219693,
          -0.7243360903711039,
          5.642418527752645,
          -0.6814461233488343,
          -0.630757476467024,
          -0.7182878464823297,
          1.1213336345226412,
          -0.759330080941634,
          -0.7499812574267166,
          1.4544146478061197,
          -0.012831134742381924,
          -0.6167307138115904,
          -0.7101374721758741,
          -0.7519930185874265,
          -0.6709784028002173,
          -0.7177662348256387,
          -0.7148387093918808,
          -0.7453491442080066,
          -0.75410420377072,
          -0.6627217861796637,
          -0.5692417876495893,
          -0.6884968432546137,
          -0.7196524909381748,
          -0.6999110451103532,
          -0.7093206109799016,
          -0.6429336140092629,
          -0.7157630779232985,
          -0.13446139415982095,
          -0.7577395320530538,
          -0.6560890708773733,
          -0.739971287462226,
          -0.6628489935859223,
          -0.7341966927367847,
          -0.6898219469630331,
          -0.7093636448817419,
          -0.6357657835172299,
          1.3494112390555966,
          -0.48189871034633075,
          -0.7470895565388105,
          -0.7329603382770562,
          -0.6337967164047437,
          -0.6832157985467991,
          -0.7200203669692703,
          -0.6912491307001583,
          -0.7396979057115367,
          -0.6955821810857363,
          -0.7322824668367778,
          -0.6209787179125622,
          -0.7511558539492826,
          1.3963517758229425,
          0.30704890623311126,
          -0.677925221291385,
          -0.6492337331266725,
          -0.749903859370687,
          -0.7515229812837074,
          -0.5306033752950051,
          -0.7160326351042453,
          -0.7101180963285691,
          -0.6253842038841547,
          -0.1813569948601906,
          -0.6710408431384759,
          -0.7429155204360788,
          2.5667788372566624,
          -0.7525602221439387,
          0.08192786869905931,
          -0.6920030939053005,
          -0.7252530123728259,
          -0.7283096326336432,
          -0.6938825701541261,
          -0.7550757407404071,
          -0.6431491396517606,
          -0.7265382929411935,
          -0.6312517720325925,
          -0.743625076244755,
          0.031347665796006445,
          -0.0199236133795833,
          1.9410861641148975,
          -0.7434531004068733,
          -0.6913363046221974,
          -0.7330897078976853,
          -0.7286897953024335,
          -0.7209884466833659,
          -0.700310770258862,
          -0.7404763410016805,
          -0.7321745861202704,
          -0.7610624004252211,
          -0.7405556682600039,
          -0.6584218660322328,
          -0.7220919800212166,
          5.374381009046288,
          -0.731263559525588,
          -0.6948333233236501,
          -0.7238594447053202,
          -0.5115652971492001,
          -0.639836307970119,
          -0.6937217042672432,
          -0.7159656362600504,
          -0.6660996513953329,
          -0.7192075719715298,
          -0.7004078515786558,
          -0.6847900320865028,
          -0.6799258750915653,
          -0.3383879864095272,
          -0.6154582039031735,
          -0.738433708286292,
          -0.7503776879885475,
          -0.6382134969460926,
          9.366846983961386,
          -0.5540325487060835,
          -0.7117890069165134,
          -0.758280488927302,
          -0.738032423042725,
          -0.7590128074816401,
          -0.6835915657669712,
          -0.6767712650468751,
          1.4095191062592929,
          -0.6782217436280121,
          -0.11360897537066181,
          -0.7417470080610182,
          -0.7434457492538009,
          -0.7481910877161082,
          -0.37325392185356493,
          -0.7311053227423305,
          -0.751061364175047,
          -0.7328184830109079,
          -0.7493893993052702,
          -0.6609385382181155,
          -0.7418611734882619,
          -0.712487028971914,
          -0.6677833903115278,
          -0.6680755988356,
          9.254125209176909,
          -0.6566841935722036,
          -0.6500268697152323,
          19.375766592217932,
          -0.7553759797608999,
          -0.6901930372664263,
          -0.6643045163670566,
          -0.6676563628560152,
          -0.6688443025223745,
          -0.6327413951437585,
          -0.07145550701163875,
          0.5724102177261969,
          -0.7358254730880551,
          -0.7355034656737673,
          -0.6734228183672206,
          -0.6392893443535752,
          30.801760074740915,
          -0.6376137131593141,
          -0.601331868116156,
          -0.672292666896279,
          -0.602543689965154,
          -0.6677761042748754,
          -0.6943510247297179,
          -0.7538330752084118,
          -0.7586104348484484,
          -0.6902102234611427,
          -0.6723538677679773,
          -0.692727660835825,
          -0.6592860079906974,
          -0.7314576076489404,
          -0.6043375488817264,
          -0.447707895812891,
          -0.6297757841711107,
          -0.15479295757823025,
          -0.7036142311701788,
          -0.6696158945481142,
          -0.6440931761440565,
          -0.6054967830299615,
          1.8413106247002504,
          -0.7534288956675097,
          -0.722889099502017,
          -0.35992075987255384,
          2.815542089917425,
          -0.3837252098972387,
          0.05991364744428179,
          1.8276164270664172,
          -0.5996592613898342,
          1.3222306363327767,
          -0.6816991514543878,
          2.224106388720949,
          -0.6257579903339432,
          -0.5665796255362406,
          -0.6308043271431352,
          -0.7138072501218242,
          -0.5203525100655809,
          1.7457133063543226,
          -0.6429055189798254,
          -0.7015933130424497,
          -0.752737207993464,
          -0.0668214393193564,
          -0.7490149033575226,
          -0.37034675618465746,
          4.309922280392126,
          -0.4595309271164073,
          -0.7166413456459442,
          -0.5516274492972374,
          -0.7169556639410198,
          -0.7018913624224503,
          -0.6568529549457935,
          -0.716774052066696,
          -0.7017483021421087,
          2.551720691547766,
          -0.7543280695717428,
          -0.7144460883811344,
          -0.6166115820020989,
          -0.5974291789563624,
          -0.6720276766290437,
          -0.7487487986721837,
          -0.6835818148347178,
          -0.6907240904327177,
          -0.7186565019648444,
          -0.7265294255105618,
          -0.7211398113219166,
          -0.656103314751823,
          -0.6940492972731085,
          -0.6209262434415755,
          -0.757366630208257,
          -0.7013239105316823,
          -0.6903405412003221,
          -0.7458155452015267,
          -0.7264057280456042,
          0.5209744216394572,
          -0.7620178629497889,
          -0.6719488298609231,
          -0.7134774813339785,
          -0.7198746993015634,
          -0.7294657511461371,
          -0.7040049874219912,
          -0.48536267438868996,
          -0.5980184052652425,
          1.9753456312146038,
          -0.7326264409489234,
          -0.7250525805802943,
          0.12852960578453884,
          39.91961958103117,
          -0.684812389740629,
          1.88276053831218,
          -0.7229840763938291,
          -0.7448993327510381,
          -0.6972932543979148,
          -0.671918953637915,
          -0.6423741054275728,
          0.046244612919085416,
          -0.4759305876080559,
          -0.618912920223565,
          -0.7340641057936274,
          -0.6246997541993993,
          0.1831833057782788,
          -0.3839990213205577,
          -0.6994403817201659,
          -0.7271630751352035,
          -0.7271727594424686,
          -0.7578420441787552,
          -0.7362773265758924,
          -0.7005733888352537,
          -0.6017438804811384,
          -0.7502799971828723,
          -0.6379993162155955,
          -0.7590572340874496,
          -0.6638635019639849,
          -0.7341333460278929,
          -0.7217381602519566,
          -0.5918975021774959,
          0.38877365060976,
          -0.7253324447384254,
          0.32589523185493613,
          -0.23796902721079863,
          -0.7179788707026922,
          -0.3358590573959499,
          -0.6560785745734216,
          -0.7239250052075593,
          -0.6909262031614306,
          -0.678920900851282,
          -0.6631770033460381,
          -0.6982574641690297,
          -0.5215095850363066,
          -0.7381858194289876,
          -0.7594172288820649,
          -0.759632092725737,
          -0.7443533247841355,
          -0.6128929196037177,
          -0.7159414592832346,
          -0.571244248376463,
          -0.6702792475514707,
          -0.7372384739990223,
          -0.6468550419401466,
          -0.6508416981005904,
          -0.6725128503345389,
          -0.6131087796986385,
          -0.6991179778230163,
          -0.5861499126961606,
          -0.6419791639932076,
          -0.13441345558531248,
          -0.7325914204476882,
          -0.5359415703725606,
          -0.6839485113947568,
          -0.7454676850938723,
          -0.7276464977394861,
          -0.7216913058538024,
          -0.7176148217870302,
          -0.7193642574250773,
          -0.7135023311488619,
          -0.6868855952228606,
          0.24685058375794172,
          -0.7285819192171129,
          -0.5220692553519982,
          2.3306997397908833,
          -0.5727470871704691,
          -0.7196201910715021,
          -0.45088462113823013,
          0.7976881963788766,
          -0.6987549099258803,
          -0.704343932235107,
          -0.7484386157997605,
          1.0808580154857041,
          -0.5910397497858013,
          -0.7087012581625485,
          -0.39158540489943644,
          -0.7293282843001493,
          -0.6955313655451554,
          -0.6589868858339896,
          10.118384424202526,
          -0.7638675528326623,
          -0.6349494272784968,
          -0.6980830313621909,
          -0.6466694044520802,
          -0.6727338575341613,
          0.9076984892835723,
          -0.6508190127029834,
          0.5226457231113282,
          -0.6211888364844207,
          -0.7598024069550349,
          -0.7222452221976,
          -0.7446526225443681,
          -0.7533807739726066,
          -0.6940188160437968,
          -0.6537414738468196,
          0.0045457183594269455,
          -0.7100047113052675,
          -0.6713733434626173,
          -0.7415898530584788,
          -0.7609439583143264,
          -0.6932833010683424,
          -0.7631458412189953,
          -0.635816956010172,
          -0.7213087295156067,
          -0.7363396224375274,
          4.6682696760876095,
          -0.7237738689388719,
          -0.735367814454615,
          -0.7496438420177521,
          -0.7213523810423101,
          -0.6499994356688565,
          -0.6160664408470314,
          -0.72658012825524,
          -0.6651722471989472,
          -0.6146638020242629,
          -0.2705334394441239,
          6.829532502130425,
          -0.6833611696689045,
          -0.6789825310711881,
          -0.6249754146861939,
          -0.7524496666557733,
          -0.6770756717301826,
          -0.7157807742037565,
          -0.5393898868472814,
          -0.7349288856860161,
          0.04922060768522086,
          -0.6360814536476365,
          -0.7660472815004582,
          -0.679197955844312,
          -0.7343118652125085,
          -0.6602806653996828,
          -0.682678311739517,
          -0.7457834015066002,
          -0.5872158093360565,
          -0.7445358150913967,
          -0.7219759455745268,
          1.0859153226298617,
          4.444665183474791,
          0.8947526355610983,
          -0.6742674473727743,
          -0.5882279680051016,
          1.8893014849672174,
          -0.7334900860234957,
          -0.7367280604226699,
          -0.721239385316052,
          -0.6612661096860808,
          -0.6677769824130008,
          -0.7349850073241594,
          -0.7330912352658613,
          -0.681755254796287,
          -0.688851461356134,
          -0.5412885521837973,
          0.6713271074293461,
          8.510953521015537,
          -0.7031384627400282,
          -0.5793232157247322,
          -0.5566525931349997,
          -0.7257311502537296,
          -0.5942290580893564,
          -0.6596776005425758,
          0.6816447588223593,
          -0.63444334739776,
          -0.4200079909789275,
          -0.7013758116473159,
          -0.7596057541729024,
          -0.7609187720377577,
          -0.7595204415439363,
          -0.7409182972639058,
          -0.7574631509117032,
          -0.7668266545931154,
          -0.7588653093158221,
          -0.6950045513808327,
          -0.7526153477701117,
          -0.5618601745394117,
          -0.6946031993518331,
          -0.7078215895987108,
          -0.7052950355749507,
          -0.6388364426605259,
          -0.7435494729303032,
          -0.7117858526791736,
          -0.6909491864324964,
          -0.7317597818205176,
          0.26791376909546494,
          -0.7490618384580098,
          -0.701095638721002,
          -0.6253723420188134,
          -0.7125264028530837,
          -0.7344340900309428,
          -0.731756508439632,
          -0.7378570120564708,
          -0.7449763678530289,
          -0.6828709753829901,
          -0.7047153480391256,
          -0.6238622323231457,
          -0.7274422343929172,
          -0.6434145372604717,
          -0.709645949981537,
          -0.7299375920041405,
          -0.7321899353719361,
          -0.6458370054746514,
          -0.6857433434826979,
          -0.7419088299280681,
          0.31981154078041113,
          -0.6055388833640755,
          -0.6895569923284003,
          -0.7441640553013769,
          -0.4648587113155562,
          -0.6793211154622434,
          -0.7471034497695135,
          -0.6714916146905713,
          115.25467862514719,
          -0.5105574981861093,
          -0.7267939246198709,
          -0.699404140358313,
          2.170035884332768,
          -0.4468259080061163,
          -0.6569935148752701,
          -0.7058293718843545,
          -0.7087439246844128,
          -0.7237197862149788,
          -0.6220472418160301,
          0.31857066267414064,
          -0.7247544746825554,
          1.8054020061891494,
          -0.6953035474707832,
          -0.6936873056481369,
          -0.6794124369060754,
          -0.7182250494521758,
          -0.5402890643614481,
          -0.6635754451314977,
          -0.7634450962504228,
          -0.6116420206779577,
          -0.6787459028794507,
          -0.6488416775642739,
          -0.6152862393393571,
          -0.15387308022867777,
          -0.6537066524010806,
          -0.716144238188001,
          -0.7546691211134066,
          -0.717331322108552,
          -0.6948200297089304,
          -0.7409569112819117,
          -0.7039828433284905,
          -0.6609866242070398,
          -0.5338074223767939,
          -0.7026699758862397,
          -0.6847406937843186,
          -0.7470525847697355,
          -0.38617396729709785,
          -0.7478953139170315,
          -0.680557870275996,
          -0.7604596421276607,
          -0.6542238397106125,
          -0.6703523639655804,
          -0.6383329113078675,
          -0.6784857823854741,
          -0.5811607857478654,
          -0.6115363325336174,
          -0.714773084844762,
          -0.5821350955162055,
          -0.6792644455435205,
          -0.6535070516740106,
          -0.4729539968541633,
          -0.7520065108548734,
          -0.7507633074692628,
          -0.7202190325769365,
          -0.7182127517194862,
          -0.7090960399643768,
          -0.6758248082198696,
          -0.5847035868427011,
          -0.6614020970862634,
          -0.7061290570206123,
          -0.7461684183549642,
          -0.6335766757184126,
          -0.7011662633526612,
          6.5031293591821955,
          -0.6655648940727443,
          -0.741977285876116,
          -0.6747430282798805,
          -0.7470800090708287,
          -0.6592818059294464,
          -0.719581148204913,
          -0.7176452922324763,
          -0.7026450080406743,
          -0.4247504386163937,
          -0.7312409877420781,
          -0.7041007206093292,
          -0.7034202063126249,
          -0.5985757862921012,
          -0.6494372664866366,
          -0.6931893241067589,
          -0.7305640445437734,
          -0.7426934947535692,
          -0.7227764371963571,
          -0.5278744522191711,
          4.86853177919583,
          -0.7056260117284119,
          -0.5894025549254153,
          -0.7473800187559823,
          -0.48884102505069604,
          -0.6510659650145492,
          -0.7532057606247367,
          -0.621182239680713,
          -0.72688253628711,
          -0.6934570908423622,
          -0.7491085877528851,
          -0.6113462962251774,
          -0.7408777128256674,
          0.19135292837296955,
          -0.7048490701347994,
          -0.6324523275676505,
          -0.7292949555000622,
          -0.7516940036707853,
          -0.7086080913754973,
          -0.7252928261633214,
          -0.717323713957915,
          -0.7161945877251961,
          -0.6093145115931504,
          -0.6312162843337489,
          -0.5531511022005214,
          -0.7128297188890875,
          -0.7413912396301457,
          -0.7142604998185799,
          -0.6671487677703783,
          -0.7119328745958524,
          -0.7098793677152054,
          -0.7248871463002178,
          -0.6799387145506787,
          -0.6429274047159513,
          -0.7008476981546767,
          -0.6948229369951903,
          -0.7100058291003658,
          -0.7120288891138379,
          -0.6838091117001566,
          -0.7098300315974418,
          -0.6996640969220924,
          -0.7072670951376004,
          -0.7402742528327341,
          -0.6485229777759526,
          -0.6971625810936947,
          -0.641103807128336,
          -0.6980753262135184,
          -0.7358710727965216,
          3.9174208849312766,
          -0.7614661139861851,
          -0.5052262580365263,
          -0.7605053490176558,
          -0.6342714952800637,
          -0.7546322596180829,
          -0.742466295675698,
          -0.6355853892673239,
          4.866897658167119,
          1.8697617300611789,
          -0.7532303784602518,
          -0.6611268262578509,
          -0.6255212861022198,
          -0.7328443089085248,
          1.6709933391702305,
          22.208139090705508,
          -0.07490864272874859,
          -0.7173433936144686,
          -0.44551121037188296,
          -0.6823745193585079,
          -0.7645915406143585,
          -0.47186437534925507,
          -0.6744211776580271,
          -0.7413075236396225,
          1.7202528111796682,
          -0.7415975794090702,
          -0.5458288111559467,
          -0.6629144554373783,
          -0.690041246124871,
          -0.6735716205371158,
          -0.6715853156820435,
          -0.6283253862392365,
          -0.7213722151120188,
          -0.7090295073042479,
          -0.6531423322242146,
          -0.7404108011235262,
          -0.5482621145431826,
          -0.6867236689761845,
          -0.3274438250910942,
          -0.528876398947104,
          -0.6295397176997329,
          -0.7490645780522338,
          -0.5209323342587318,
          -0.5732991707642506,
          0.05880225166885354,
          -0.7234612620985534,
          -0.5164757875598014,
          -0.6968284197552056,
          -0.7511852794667875,
          -0.711449465500136,
          -0.7221620987834917,
          -0.7162752024840998,
          -0.6332391695532894,
          -0.7667742606554526,
          -0.739849463955278,
          -0.7173217306491597,
          -0.13530259382688564,
          -0.7632511289924405,
          -0.2803839808894213,
          -0.6708764561253622,
          -0.6639011258184441,
          -0.6658012848024567,
          -0.6923699784870302,
          -0.6173845835488988,
          -0.6615174252453178,
          -0.691487562759909,
          -0.6531405779970479,
          -0.6167029873643367,
          -0.6259384432326728,
          -0.7034408587242333,
          -0.6836821611535441,
          -0.7456343230125785,
          -0.5894115600441775,
          -0.7180305617675427,
          -0.756212010381494,
          -0.727384364975052,
          -0.661897091332593,
          -0.6807784002008603,
          -0.6412358857432441,
          -0.7147282589918758,
          0.10062740662543952,
          -0.47898498019797237,
          -0.6918490405278205,
          -0.6574149503234079,
          -0.7679313726143885,
          -0.6773244535569227,
          -0.6992809301308274,
          -0.6834819637683731,
          -0.7615582620459229,
          -0.664050072984512,
          4.224540655449516,
          -0.7081816670230103,
          -0.5759152475763193,
          -0.4340725654909319,
          -0.7338586165947163,
          -0.6372288031186084,
          -0.7528571491456925,
          -0.7635561080524121,
          -0.7115919054971495,
          -0.7201053988484032,
          -0.7539168481410361,
          -0.6612913543741327,
          -0.713547672141718,
          -0.6378861755578977,
          -0.733547082480516,
          -0.7027726712229874,
          1.3399787275939068,
          5.313658488369184,
          -0.634928386686904,
          1.0414036497762018,
          -0.6829526439799918,
          -0.6879069284680336,
          1.7929228393304002,
          -0.5876378449970908,
          0.7555850009472718,
          0.14664674640171296,
          -0.6883923200204178,
          0.0037691432652043485,
          -0.7025845165649504,
          -0.7422617449969394,
          -0.629794167822895,
          -0.7202031291177051,
          -0.6856465853742334,
          -0.6754608346999521,
          -0.6066565925108183,
          -0.5862916205175005,
          0.07342118615982665,
          -0.6695051198433482,
          -0.6982963690762147,
          -0.7511999672741956,
          -0.7025948237098946,
          -0.7484374077229449,
          -0.6427236250243213,
          -0.5907608082270771,
          -0.7367282957295658,
          -0.72900874299844,
          -0.17401625822279587,
          -0.7456928456891249,
          4.055123978916413,
          -0.03767286388995908,
          -0.6823090937811285,
          -0.7509666835130904,
          -0.7560601163091117,
          27.080991876366483,
          -0.6928820318997988,
          -0.717550630107648,
          -0.7113902671728385,
          -0.6648667993083263,
          -0.6545614804356966,
          -0.744245745088969,
          -0.555492363751789,
          -0.7083462220644573,
          -0.7433050093983872,
          -0.754484891442452,
          -0.6988754362922877,
          0.21046693416423393,
          -0.004421728154508817,
          -0.5485726018675714,
          -0.7321342395761223,
          -0.7536175134502039,
          -0.6830289851354596,
          -0.6790406495911442,
          -0.6993921391141744,
          -0.6810033078814935,
          -0.6467187642233545,
          -0.7298249988646918,
          1.6641370498662644,
          -0.6162506843968765,
          -0.6537061716750558,
          -0.6884199515597654,
          -0.6227148061693524,
          -0.44558305611422866,
          1.16557679726231,
          -0.6895255395460166,
          -0.6853941226967016,
          -0.5810890614694997,
          -0.7478807369116711,
          -0.7127892887153389,
          -0.7561985591313909,
          -0.762678279338836,
          -0.6813695572934925,
          -0.7038856314397162,
          -0.19012524054281993,
          -0.7373804718816833,
          -0.7206010692151137,
          0.7075950233164383,
          -0.6751748165724588,
          -0.30684436215653127,
          -0.4776105134280673,
          0.6481602236748655,
          3.4266621382781355,
          -0.27254616064793585,
          5.620650293231435,
          5.359184189100469,
          5.609838551303456,
          1.7952480568082072,
          5.039983984119829,
          -0.5767638910765812,
          5.7186785439024925,
          1.4466827309133494,
          -0.7226519561695195,
          -0.7415185671866924,
          0.40729594819817605,
          1.6803281135143018,
          0.018908134606088627,
          -0.6981209534340133,
          0.48735510737927235,
          -0.7235637021024743,
          -0.7452293802274557,
          5.742187239145296,
          -0.39473476399402296,
          -0.6758482028939172,
          26.406800595736414,
          -0.6073330324745693,
          -0.6841874429773287,
          -0.5919338454717946,
          -0.6369009791000457,
          -0.7319141096932001,
          3.6751414921280956,
          -0.7446173294583486,
          -0.758827070002456,
          -0.7062491752030164,
          -0.6988468252069072,
          -0.5471947372161167,
          -0.7601622007746652,
          -0.7463121908641905,
          -0.7567620314323575,
          14.065983651560408,
          -0.7281125683949787,
          -0.5998952102969975,
          -0.750619032855811,
          0.5545181748995777,
          -0.6408987011167735,
          -0.7049161411555758,
          -0.3924477950989261,
          -0.7068679457973571,
          -0.59277624239088,
          -0.6639165001449004,
          -0.7235064575689918,
          -0.6109494241684466,
          -0.7297338903785996,
          5.114244607974198,
          17.639173708148878,
          -0.722241985650097,
          -0.6568718445480365,
          -0.6553306280736603,
          3.418791008936499,
          -0.630106368563543,
          -0.05102595771715457,
          -0.7076047486055046,
          -0.702301650853379,
          -0.7197395332898213,
          -0.7210916481236741,
          -0.6312897620867648,
          -0.7245965473453317,
          8.560186454593907,
          -0.6640780341793296,
          -0.5970896623228457,
          -0.5872264127961737,
          -0.7100255323896095,
          -0.7066042457748851,
          -0.7564256543998759,
          -0.6637368673199411,
          -0.7254630111154449,
          -0.28770383516331033,
          -0.15728055194715915,
          -0.6982857122723579,
          -0.6221547732045524,
          -0.6217276018797593,
          -0.7141971390726215,
          -0.7348106433753047,
          -0.6550786460891759,
          -0.7045195782066592,
          -0.6802942082231522,
          -0.7270677565110797,
          -0.6676625710770511,
          -0.6565101703085104,
          -0.6537775130941409,
          -0.7352834271475764,
          -0.7059224550071332,
          -0.6965964810526585,
          -0.6142777950504265,
          -0.7533393789559251,
          -0.7467819492934034,
          -0.6568647806604498,
          -0.6978912197249505,
          -0.691139341725609,
          -0.6532568586931117,
          -0.7071664127635555,
          1.9536676693779924,
          -0.7124682094461873,
          -0.7403195650782564,
          -0.6928244388428273,
          1.539806611260201,
          -0.7554422358633491,
          -0.7478395555528679,
          -0.738982986007126,
          -0.4129145819747042,
          -0.7279103574356421,
          -0.7250463872012625,
          -0.6584722849621168,
          -0.733393570816981,
          -0.745114649002814,
          -0.7497327989636025,
          -0.46764146860708294,
          -0.46123579771189843,
          -0.6735794601892466,
          -0.6870101338490099,
          -0.7447325345497142,
          -0.7077157944884476,
          -0.14881749121379167,
          -0.7575592034818531,
          -0.6198693253023931,
          -0.7291690359285836,
          -0.7046126376576116,
          -0.597757453920442,
          -0.6616433143400119,
          -0.6775518335163361,
          -0.2545911245784659,
          -0.7461362091249404,
          -0.6838108157280842,
          -0.6432579928889949,
          -0.7210970360153607,
          -0.6378496479328843,
          -0.7691398820627983,
          0.08001702326232008,
          -0.6437502674857589,
          -0.7113224788630947,
          -0.7434912345104284,
          4.2392961164707375,
          -0.6714819880751018,
          -0.6988276028876116,
          -0.7270062002181895,
          -0.6244526047065877,
          -0.6909819410880427,
          -0.757061121610049,
          -0.7458499638782645,
          -0.5031498241442414,
          -0.7331953192495879,
          -0.7341928486880276,
          -0.7164244177412635,
          -0.7379663338131938,
          -0.7455862400699219,
          -0.585679361630595,
          -0.7080797527095269,
          52.69131947707799,
          -0.7055418484352683,
          -0.6406888007390723,
          0.6253069617198697,
          -0.6984484369197774,
          -0.6904542216817982,
          0.4365273986165127,
          -0.7406735537699141,
          -0.7493213058967293,
          -0.7467718009721434,
          -0.7094633009638955,
          -0.7469829874261033,
          -0.7463497509368452,
          -0.7117356154567125,
          -0.6862713945511613,
          -0.7216705732557153,
          -0.6428120038778398,
          -0.6493684929314293,
          -0.7245073778071823,
          -0.7193444928991055,
          -0.7090169460681109,
          -0.19175726962289502,
          -0.7651876059478491,
          -0.7513465531926677,
          -0.6885576884280884
         ],
         "xaxis": "x",
         "y": [
          -0.1615290444043374,
          -1.7867298121960125,
          -2.7086739552232943,
          0.17625338422078113,
          -0.6274561005760944,
          -0.02599782473041833,
          -0.7769867878972504,
          -1.2333330234453583,
          -0.2451896697096423,
          -0.3753515031037259,
          0.2155355298054819,
          0.22235316265032112,
          0.21578124845050714,
          0.2184176815595154,
          0.2287562931297921,
          0.21703970696113303,
          0.20505863822158477,
          0.21365210385004207,
          0.3663758881058986,
          0.20847849327530776,
          0.21448466892028697,
          0.24599007704941586,
          0.22509804219739335,
          0.24537153540804538,
          0.2101256536479519,
          0.21379344918745644,
          0.21253052062088423,
          0.2000295415398857,
          0.21914655927419063,
          0.2306615364732983,
          0.20449306353640975,
          0.20846999060588398,
          -10.991166757014982,
          -0.13645072339912057,
          -0.6909533589366538,
          0.21518554065293719,
          0.2090704110673484,
          0.8553539039881223,
          0.21608756086714953,
          0.20516706493602643,
          0.8704148422062303,
          0.5363030445257153,
          0.22429632762850987,
          0.21336304782906085,
          0.21316017456566352,
          0.2013491970142935,
          0.38659885721212683,
          0.20552763545672365,
          0.42599591458778224,
          0.2088636539367989,
          0.2151864007295716,
          0.22900298191532673,
          0.22721182183058228,
          0.21588390599359963,
          0.23088676697383595,
          0.2551888780147375,
          -0.2119584871244631,
          0.20828579196676517,
          0.20842635841496163,
          0.21718955661840236,
          0.22160478767074368,
          0.20992036428849295,
          0.21118882801512423,
          0.7793344489510409,
          0.217212029739706,
          0.22627361079417052,
          0.21950332698492128,
          -3.5718917892151714,
          -0.5166772225865495,
          0.23578176992859387,
          0.21139943777667317,
          0.2045012242742062,
          0.22991170731335905,
          0.35687135182858437,
          0.21392657179896982,
          0.21855690204358133,
          0.20584322597804716,
          0.2181497975151722,
          0.22457186533428336,
          0.2780084883572451,
          0.21160042855152766,
          0.20620855580537684,
          0.21951479759559647,
          0.22422274412095264,
          0.2184240866928743,
          0.22354016341177543,
          0.20403298253737762,
          0.20766283001308478,
          1.358111951860061,
          0.2857714658851668,
          0.1398371452649173,
          0.34352984256488966,
          0.21108609857549368,
          0.38580634600484714,
          0.21878368512398153,
          0.23065555684787492,
          0.22302650314504263,
          0.217357196152349,
          0.20804310709244636,
          0.21283647244216186,
          0.11618587332607731,
          0.2233112879962554,
          -3.6666120869205665,
          -1.2240819064409374,
          0.21052325007750583,
          0.21368114842385735,
          0.2150961866704967,
          0.6329291109194146,
          0.2133399912342215,
          0.208650863873139,
          0.20610670625060298,
          0.4883927419296814,
          0.20635674206259266,
          0.21620843378193863,
          4.59227069654647,
          0.2187193412904,
          0.22108486076897302,
          0.23041745535199756,
          0.21641353817997266,
          0.20804500000436946,
          0.21877941907467702,
          2.601505034642151,
          0.21182218868357014,
          0.22775694274363498,
          -7.4830956563621545,
          0.22042784838510784,
          0.24902903092424766,
          0.22712242643511216,
          0.6152473417840969,
          0.20903285035653477,
          2.836409181680439,
          0.23219107886036847,
          0.22965389915975817,
          0.21957021946608254,
          0.22511126862677366,
          -2.637581886047226,
          0.20381825734577555,
          0.22778811791546505,
          0.21574208471337247,
          0.22483240533239376,
          0.22507203337890105,
          -2.5982525256474718,
          -0.3223528985892115,
          0.22385601430671873,
          0.23658296629385442,
          0.30639280987678724,
          0.21605990060532662,
          0.21409116126635666,
          0.30881945425405727,
          0.20936393770553538,
          0.2413002816895276,
          -0.1522987277192856,
          0.325586421452274,
          0.2222113573312465,
          0.21571399772087402,
          0.21277982949417681,
          0.210225942889929,
          0.22101282528180216,
          0.22126592155951,
          0.20641537558464781,
          0.21794011287746923,
          0.1889006240066395,
          0.24310742011102332,
          0.21231438434554906,
          0.22651444391206635,
          0.21695956558133628,
          0.2172772309929484,
          0.23941622177829247,
          0.21231709705079446,
          0.2131407858084995,
          0.20688810113475262,
          0.23184608382661107,
          0.2106165355825302,
          0.2206019129447481,
          0.21715667759948779,
          0.20913732183578776,
          0.212020509611296,
          0.20835357598343895,
          0.2268077491992169,
          0.22978062550112016,
          0.22615280857533987,
          0.20665277361580994,
          0.21347132133094254,
          0.23496528858458962,
          0.21431917823438829,
          0.24567287787196293,
          0.5682748497864634,
          2.8316811755626263,
          0.21344497912102875,
          0.22316472082036395,
          0.20699839042384058,
          1.5732968146481239,
          0.21306700857145125,
          0.2241313976141251,
          0.22238134434248408,
          0.2096837150285328,
          0.2156306128326565,
          5.197342302246528,
          0.22723241128985486,
          0.23581143598191256,
          0.21579022599476796,
          0.23054925608991228,
          0.21696932040910108,
          0.2087098936792463,
          0.29943530033986776,
          0.22186286658489168,
          0.23756959183670365,
          0.21894419322934697,
          0.3313140016263752,
          -2.1519152272394835,
          -1.4069091231957227,
          -2.5460534896624165,
          0.21136405954293105,
          0.21622484911503592,
          0.22069766151195502,
          0.20886377351252097,
          0.21678089619569335,
          0.23331960848240385,
          0.24482982979331133,
          0.19935254469731686,
          0.21407387546541698,
          0.2388091515490992,
          0.23486196218359331,
          0.20876737762319136,
          0.2123799796763706,
          0.21082496072787357,
          0.2621741136479612,
          0.24315784442432736,
          0.21640216355207145,
          0.21278111380946366,
          0.27790031086416606,
          2.1315443448081264,
          0.2293773567578292,
          0.20873186773323082,
          0.18390139251845203,
          0.2332933302769252,
          0.1488177761906481,
          0.20603442696728827,
          0.2151173142204965,
          0.20414268966913351,
          0.31505718596109866,
          0.2137659122085748,
          0.21299746694539623,
          0.22484057544957578,
          0.22249142197616203,
          0.23392879039237402,
          0.2257458378084427,
          0.23217982303776957,
          0.21399736926134988,
          0.6436043323204478,
          0.19963819630200222,
          0.1987764710091294,
          0.21452651687117646,
          0.21809040840105706,
          0.2236882477725883,
          0.20978586461085538,
          0.22221005790903386,
          0.21455354178956576,
          0.209516308815634,
          0.9650519288329695,
          0.2104325362912851,
          0.22306980300205478,
          0.890989609463162,
          0.21550583282097252,
          0.21441981370376595,
          0.21577621142646514,
          -5.900126729674169,
          0.21042974538182252,
          0.2129263308893915,
          0.6629787927288151,
          0.24252929468163928,
          0.2061212817725938,
          0.21395145805280136,
          0.2103561420801478,
          0.2195463208970469,
          0.20466792978672313,
          0.21656347085678995,
          0.2102555352505471,
          0.2091273238999299,
          0.2206027908854961,
          0.24282590556314457,
          0.2124291355238043,
          0.2106514252567605,
          0.22087274655972783,
          0.20904333914653966,
          0.2027305056333224,
          0.21154984932546853,
          -3.2797254545087453,
          0.20847513660076514,
          0.20320415836105676,
          0.20814601762518736,
          0.24537523308154194,
          0.21365976198881922,
          0.21049206249842645,
          0.21081428944062233,
          0.21592932653684604,
          0.56508677798869,
          0.24978276592151,
          0.21000073745958794,
          0.21041828101423493,
          0.21918208850497328,
          0.06612530136476365,
          0.21477895870013913,
          0.2193600680871356,
          0.21024592497745484,
          0.23306732315506337,
          0.21457441549225995,
          0.2892913914197643,
          0.2072967694105664,
          0.5618646701682563,
          -2.7529343440693417,
          0.21672514694898168,
          0.21065847555726974,
          0.21428812591327273,
          0.2086088089438477,
          -0.5321691612663492,
          0.20961235356718302,
          0.20749921801211646,
          0.22111418703211072,
          -2.515544532057074,
          0.21999983989432115,
          0.212421417480865,
          0.09279654002788426,
          0.20920094727950042,
          -3.0139557534920343,
          0.22009427279247407,
          0.21513477220801797,
          0.2097772379892466,
          0.21561984254758293,
          0.21084426013282978,
          0.2346429785514476,
          0.2152827207245114,
          0.2189684683230585,
          0.04301862944296278,
          -4.085529586704842,
          -3.6170742134297647,
          0.8095068262272227,
          0.21489426355064406,
          0.20666830750287168,
          0.2234875780624277,
          0.08415826870650063,
          0.2083660283176787,
          0.21597540185079578,
          0.21261443676784986,
          -0.05107487921816923,
          0.20607326799002235,
          0.20878064924549655,
          0.21659265388728194,
          0.2128592286728178,
          1.0322461348959797,
          0.21853668389649353,
          -0.22601464821317663,
          -0.06035506852285828,
          0.2936401760867412,
          0.20793812421162233,
          0.2309980644493237,
          0.2090663535080785,
          0.21311719216438713,
          0.2142673744390355,
          0.2124567626927825,
          0.2156935900673312,
          0.21594769717107873,
          0.2624898303347993,
          0.23445835723144226,
          0.21255399079468026,
          0.20475732407099026,
          0.20525783424275965,
          1.544041807129617,
          0.22220628208987123,
          0.20674011972722223,
          0.2085799821862166,
          0.22289353425856032,
          0.21083983258942143,
          0.2180095039052165,
          0.2339452524938714,
          0.5830557379437383,
          0.21621240432612193,
          -2.1076173621892274,
          0.21858176024498052,
          0.21767591591363358,
          0.2143344354432299,
          -1.3001178965741989,
          0.22467574981706265,
          0.2082933678157218,
          0.21672670155433393,
          0.21370682791488838,
          0.2269559773396334,
          0.21673076665638985,
          0.21388077382826154,
          0.22636489896421583,
          0.2209803340943954,
          1.6182885259835629,
          0.04904033987388429,
          0.21996176622067698,
          3.320624557007678,
          0.2071760866339529,
          0.22004418297484843,
          0.21803026436197342,
          -0.021540635580948923,
          0.21730102503979534,
          0.21317354775269012,
          -2.9022568195832883,
          0.1695040198064551,
          0.20864352129604186,
          0.21018321425727704,
          0.21978891456083668,
          0.23678969960396384,
          -6.079363377740925,
          0.21481861288982487,
          0.21270357003097656,
          0.22671623227339952,
          -0.19195674433636772,
          0.2450538031100517,
          0.20458224834900665,
          0.21224596583595506,
          0.20901347309232055,
          0.2168631559906726,
          0.21217026430424968,
          0.2088353885530326,
          0.23770325150511046,
          0.22178390087801755,
          0.2237598139087799,
          0.2066488987099578,
          0.20675146316942905,
          0.3991826403456374,
          0.20944307283693683,
          0.2100897799265164,
          0.2149497765519851,
          0.22462596727114417,
          0.6128742289246828,
          0.2097123539745709,
          0.20988355364288977,
          0.32741946322991666,
          1.0356903493866552,
          -1.1320678898018068,
          -3.357102362265503,
          -12.430075357779108,
          -0.2197747408948548,
          -8.90045076596469,
          0.24094193256042176,
          0.6415697113619672,
          0.25735746019264505,
          0.21534964810430152,
          0.23326342930648652,
          0.2187169176397958,
          0.2962821517516304,
          -11.115550627505451,
          -0.1462781246853293,
          0.22698042996489104,
          0.21175658533187747,
          0.14082292516407793,
          0.21034048272289324,
          0.3093363170649917,
          1.1313905031468474,
          0.1971419640991537,
          0.22493730749910912,
          0.3059317809288168,
          0.21845078294998213,
          0.21559595341164378,
          0.2091767941390701,
          0.2112936592657226,
          0.23201036579197118,
          0.6999754009592869,
          0.20733051892459928,
          0.21561818060981167,
          0.22076800041592665,
          0.2116817803042761,
          0.23229264998696844,
          0.2185869335326925,
          0.2089386090401495,
          0.21471513031382727,
          0.2098959647178964,
          0.21888826786914714,
          0.22203275647782927,
          0.216024153006969,
          0.18806530979880143,
          0.2247194944601438,
          0.22249026581963274,
          0.20919305783976455,
          0.2144073366100239,
          0.20962191050012108,
          0.2171888032964187,
          -4.598760802836353,
          0.20866658681130076,
          0.22300999129841556,
          0.21113196494509417,
          0.22774993133656868,
          0.2196859006311077,
          0.20998119361921064,
          0.25442815461412976,
          0.22019009697356007,
          0.577002498215026,
          0.21135708015647603,
          0.2035894651954164,
          0.36116864756255374,
          8.569662855979363,
          0.2298793682211334,
          -0.0944111819650895,
          0.2106350632796597,
          0.2122857256509748,
          0.22989430876628808,
          0.22402848073458095,
          0.20844635284688115,
          -4.476501936143241,
          -1.0983367141787785,
          0.21479594219039644,
          0.2104528559068342,
          0.24870210043632626,
          0.374277479897375,
          0.4095145324723574,
          0.22210127658348847,
          0.21396681947408153,
          0.21327129281650078,
          0.15059459547180998,
          0.21045078348217489,
          0.20414298441716805,
          0.19849800464916692,
          0.21056917759409996,
          -0.15010474367769588,
          0.2077225086640518,
          0.21913886873644087,
          0.2132412377323725,
          0.21634715701626406,
          0.23494931200359861,
          -3.284027607071394,
          0.21224733192660883,
          0.015148612085846723,
          -1.0460785038053053,
          0.21683426152774868,
          0.3267404820670139,
          0.22188811641541206,
          0.21474502868792794,
          0.21954680602092969,
          0.21719507787295947,
          0.21206915421090516,
          0.21279323142766426,
          -0.9749808241310338,
          0.21313105394893236,
          0.2127414283202529,
          0.20857575183657645,
          0.20676179093144206,
          0.2241020060167815,
          0.21424175467297085,
          0.23910965574942616,
          0.20588984999720114,
          0.2110062556867874,
          0.21575604309417287,
          0.21628823423583668,
          0.21518314979953765,
          0.24476816311995647,
          0.22220409793376775,
          0.20514793216483057,
          0.22166980651375653,
          0.23793844613319676,
          0.21468595849539815,
          0.3212909113753066,
          0.21448292656749143,
          0.21253936657981143,
          0.21201306100061207,
          0.21859457542340152,
          0.2224103703873224,
          0.21392657313302882,
          0.21180767191753863,
          0.21725076809269298,
          -3.508758932197798,
          0.21179065157531118,
          0.22438123665016282,
          0.5851458424260482,
          0.21714201116041262,
          0.21731104363836706,
          0.06621615537186226,
          -5.908363558944822,
          0.21575726660775096,
          0.23067105539938146,
          0.20835082739593258,
          -6.448874271357483,
          0.22476378445270742,
          0.21325669015064194,
          -0.5085463644634998,
          0.20788488821975648,
          0.2197804622704788,
          0.20896262466970209,
          1.5812666665730164,
          0.20726512598346924,
          0.22456615650320927,
          0.21267047458090274,
          0.25497067185634886,
          0.22716289778563106,
          -7.186322939887422,
          0.21499063454086326,
          -6.17604434258329,
          0.22783501867759012,
          0.20958952019289245,
          0.21306649241283535,
          0.20710355272945544,
          0.21267740235901358,
          0.21936118279002115,
          0.21945586597986114,
          0.28546747893788044,
          0.22627932847944857,
          0.19989847889707119,
          0.2170522291713615,
          0.2094099636940665,
          0.2201955363873069,
          0.2072075802570332,
          0.2300805321855421,
          0.22395209990013995,
          0.21842371394693963,
          0.43680411548686277,
          0.2118758713174842,
          0.2144126934766204,
          0.21369180103289154,
          0.21675289394946856,
          0.23409575084977757,
          0.22445654891314765,
          0.20994467743782885,
          0.21920682941029565,
          0.20641839121333214,
          0.22777013580167127,
          -5.244357939300641,
          0.22408167688086592,
          0.2173392364168818,
          0.21026086018766704,
          0.20499472510182928,
          0.2142542006253463,
          0.21177076219297866,
          0.2339986886298885,
          0.20043802116800405,
          -2.82726743236758,
          0.23247853778691652,
          0.20648717597796415,
          0.21929082961343158,
          0.21862455550846732,
          0.24945070252623747,
          0.21497913167814348,
          0.21334671433924904,
          0.22860980879619572,
          0.21469783891737942,
          0.21961258821240132,
          0.5368732326245983,
          -3.118819776266519,
          -5.567501417337904,
          0.2291688706600846,
          0.22986679219730288,
          0.6877965867163895,
          0.22076017478205026,
          0.2073589823948951,
          0.2159496393192574,
          0.2157401792276272,
          0.21629133027243758,
          0.20510386115495396,
          0.21550238365114832,
          0.20816201756255975,
          0.22115280822181704,
          0.21245255825919326,
          1.7503432422162788,
          1.8614819434558214,
          0.21754929292411856,
          0.20159222915450087,
          -0.6086867943804882,
          0.21373359140301487,
          0.26643561962521123,
          0.2165510720695657,
          0.46842437856488145,
          0.20305060086626955,
          -1.2438232491856818,
          0.2322221215727305,
          0.20801249786424794,
          0.20803155615082436,
          0.2079760279915094,
          0.2087849038082299,
          0.2084017579139884,
          0.20628388755131663,
          0.20808935039165144,
          0.21319711678489897,
          0.21449513155845257,
          0.23405987309839654,
          0.2198269172612204,
          0.20974373749417316,
          0.2074359583898457,
          -0.26080859521000493,
          0.2109400975790702,
          0.22682106521518383,
          0.22357162635557787,
          0.20976805624317518,
          0.35127954182172627,
          0.21087539473882225,
          0.032903881001365064,
          0.22173231512093738,
          0.2158678013106681,
          0.20940758924002692,
          0.2105977457097356,
          0.2092057084745341,
          0.21761519614991753,
          0.21166748012922948,
          0.21844761420335834,
          0.2278075174431886,
          0.20471977559741922,
          -0.12177968429420924,
          0.21747646602423523,
          0.21183129851667296,
          0.21062597010227035,
          0.21399355639396683,
          0.22571166442572183,
          0.2035374598063363,
          -2.5072599774412363,
          0.21075728283375597,
          0.2391198896608116,
          0.21179649584831897,
          0.22808909566017468,
          0.21590196385184574,
          0.21466673522573387,
          0.22211711631890174,
          -3.759290518865814,
          -0.7864465347128866,
          0.21334990305264134,
          0.21653994507850793,
          0.8831755981134788,
          0.22892996377375005,
          0.2340459062610399,
          0.21693843804210167,
          0.21496057389334386,
          0.2162245499999572,
          0.24276774805397208,
          -3.14109581687658,
          0.2199696773277058,
          -1.5458415154792469,
          0.2115587284691898,
          0.2081164666435917,
          0.21165135952964337,
          0.22449625862790273,
          0.24044600950492115,
          0.23408728873205087,
          0.20704866937959274,
          0.2184936518068633,
          0.2434697193958489,
          0.24932095195694776,
          0.23906273819234938,
          0.21117300149304222,
          0.22066750532946786,
          0.2086166903677159,
          0.20923001024628735,
          0.2104494083808305,
          0.21475388421288324,
          0.21634342580562954,
          0.2203947284122721,
          0.21359592657020524,
          0.2730540320530327,
          0.20619028634206152,
          0.21322778166883555,
          0.20752715788082965,
          -1.9240363177658526,
          0.21182502613525567,
          0.2377258167356712,
          0.20905813284871172,
          0.2063605360398675,
          0.21796359980384142,
          0.21689205121360727,
          0.22068309386843887,
          0.2034482866618907,
          0.21390909299385558,
          0.21145298193168788,
          0.20850932242412612,
          0.21002015173241095,
          0.22458345923625694,
          0.24774318864843828,
          0.20712108727213221,
          0.22574639296935936,
          0.21790260350838297,
          0.2093248191972862,
          0.2182972268827138,
          0.2073284441644754,
          -0.40718344066903245,
          0.2255636902664292,
          0.21495255688109158,
          0.21452661927521516,
          0.21792551998125137,
          0.2159851642233509,
          1.0734457710817786,
          0.24733812906854344,
          0.21612379506218565,
          0.24038476460546385,
          0.21418989484660045,
          0.20700841411636242,
          0.2091000174507212,
          0.21230673981034318,
          0.20254638340086314,
          0.2943456396981577,
          0.20436618895929037,
          0.2199299807194062,
          0.21227438906519858,
          0.21358794239517143,
          0.2175333112438475,
          0.2191657931930665,
          0.21783970271045616,
          0.11854176631387621,
          0.20699370550570703,
          0.2853033950005494,
          -3.5722719430951573,
          0.2260627782241773,
          0.24183270023619025,
          0.21354624339472464,
          0.2602576177554087,
          0.2293898116154997,
          0.20817286886994787,
          0.26219524291706786,
          0.21432764389058484,
          0.2201856121919156,
          0.21732867572271158,
          0.2490976005637334,
          0.21590201340402895,
          -3.594978992613769,
          0.21704997099585394,
          0.2221394235973229,
          0.2106278367011872,
          0.21164564247105225,
          0.21920208984182205,
          0.22281516927405948,
          0.215210355232711,
          0.206307077645167,
          -0.20766365850317015,
          0.24435371269730236,
          0.2535642170366172,
          0.2193057778557601,
          0.20812412688208806,
          0.21507428777966156,
          0.21543162634993376,
          0.21598648787261515,
          0.21547227123649676,
          0.2117588652101561,
          0.24050460720842018,
          0.21889640683453193,
          0.21270927181851484,
          0.21573773196576118,
          0.20878793863527087,
          0.21851460609031867,
          0.20996686132887593,
          0.21258105795296717,
          0.21394131642815825,
          0.22676029527303104,
          0.21599610913278774,
          0.21667671255181656,
          0.21353824225832171,
          0.21468900875715044,
          0.2233687291578979,
          0.20705635857387975,
          0.8126500868638538,
          0.20754276306161107,
          0.24694064411549005,
          0.20795227948254474,
          0.2195236823402845,
          0.10027385000008698,
          0.21761915405419813,
          0.2203616637929382,
          -20.263381511824964,
          0.5198549640374887,
          0.2078048180324667,
          0.22261281821317755,
          0.2241283275290473,
          0.21493200722839484,
          1.217116656481036,
          4.050408793619917,
          0.4406672164258301,
          0.20396197712120917,
          0.25206144786354234,
          0.21684288961585202,
          0.16914167295677454,
          -0.5796178316894106,
          0.24090661248230796,
          0.20625153236746196,
          -11.833350295956631,
          -0.005403194183775687,
          -0.6759879481346391,
          0.22961310352451667,
          0.21569812673462033,
          0.23154731678867826,
          0.24044454818988803,
          -0.1596094122219925,
          0.21234789114160446,
          0.221852779704864,
          0.21648634777619774,
          0.217672638609452,
          0.20917782197319756,
          0.211328465415338,
          0.14798425452320782,
          0.23833823266433057,
          0.1994073798608072,
          0.2174478691870435,
          -0.6173427456764802,
          0.21533709011100746,
          0.30211275562281653,
          0.21366821609097267,
          0.29267573945317793,
          0.22478759703502238,
          0.07703844239624759,
          0.2217158489742166,
          0.22331153915809884,
          0.2256978309204265,
          0.2358971525225397,
          0.18110971154212477,
          0.21771490202470076,
          0.2136119861503912,
          -1.2795248847021221,
          0.20665128056491727,
          -1.6779671457600995,
          0.22579888169359053,
          0.19751710688658455,
          0.2090612957501781,
          0.20780661532190875,
          0.22807051184811034,
          0.21525743361749028,
          0.21712245051775717,
          0.20851008890545256,
          0.21090499333294857,
          0.232184273076579,
          0.21756859637141332,
          0.209578003364072,
          0.2090592669104556,
          0.20448682050764122,
          0.21221715999106186,
          0.12227573976149379,
          0.21170991480212167,
          0.20914186288891132,
          0.2077195356158035,
          0.22183767006177374,
          0.21424410626422338,
          -3.571720915601879,
          -0.5280382650336681,
          0.21445769087057462,
          0.23549884770389914,
          0.20574489371835836,
          -0.08012269127925178,
          0.21191409904119968,
          0.2253046764130383,
          0.20805756379293053,
          0.21803973235095894,
          -4.3958464491048845,
          0.23088169643157022,
          0.2761505052680298,
          0.3232597036910679,
          0.22020513155192992,
          0.23726546794108153,
          0.20609539335105298,
          0.2080994083904119,
          0.21288459843054688,
          0.21252049479548374,
          0.21169182780266665,
          0.20790629014156978,
          0.20890983908227947,
          0.31355736789683597,
          0.2210633341182195,
          0.2260731769638807,
          -0.7285188667434901,
          1.2022261338331355,
          0.21490464765001824,
          -7.567728108673296,
          -0.06679461040593204,
          0.1081042114385546,
          0.6066635871327095,
          0.22663351841187335,
          -5.623235568206202,
          -3.662075674680526,
          0.22226330063456542,
          0.330874726675693,
          0.22994411659153427,
          0.20995110228649927,
          0.2540367442496832,
          0.21617588454535713,
          0.22027222257307214,
          0.21269125715392279,
          0.22920754257016462,
          0.22944411498722103,
          -2.34960361668543,
          0.2425116136360517,
          0.2255077797809982,
          0.20460164549523402,
          0.2157944018452239,
          0.21290367217327996,
          0.2407202275482454,
          -0.4955844225108855,
          0.21911811296350103,
          0.21228473986274402,
          -0.439488970592866,
          0.21725364478251336,
          0.8271015623260219,
          0.33954249820738824,
          0.21486735167108065,
          0.21340600030298468,
          0.20928896586761817,
          5.205379110849596,
          0.2198248397373108,
          0.21116661876217893,
          0.21879233179669558,
          0.21959725775227584,
          0.21035898317262372,
          0.21291196455369116,
          0.26860017475082615,
          0.21414471758901707,
          0.20944126915612807,
          0.20765859326962144,
          0.2097838797386429,
          0.3644292758514445,
          0.27829276328635966,
          0.22824551329624715,
          0.21000767357869646,
          0.21178452872126044,
          0.22413273624901378,
          0.2169796402918122,
          0.22098176794124458,
          -0.18090096716635326,
          0.22612503464287428,
          0.21397138989941128,
          0.6948082517822487,
          0.2311185887873983,
          0.19401764204135757,
          -0.02639439734481566,
          0.2346147656111924,
          0.3043716801590107,
          0.515455737635473,
          0.2209085247558905,
          0.2252287142493461,
          0.2209310517970903,
          0.20915338664362343,
          -0.02977503664100007,
          0.11621963287188837,
          0.21661595627614758,
          0.21323997309849968,
          0.21176428231769748,
          0.26736389085692014,
          0.21332993238951117,
          0.2129912548396284,
          -6.107694306546914,
          0.20664006032324309,
          0.20998132740312106,
          -0.5263703304148585,
          0.32224205655638766,
          0.7856042575226146,
          0.3186667650796952,
          1.2847029785148427,
          0.8450511565442015,
          1.3940579694986888,
          0.40387230979553346,
          0.6835798547771803,
          0.3576544214930203,
          0.9670804220135514,
          0.6831724197154022,
          0.2235419870033775,
          0.20652487832027988,
          0.392484879066571,
          0.5353441271518101,
          0.4119649709367785,
          0.23139694042863312,
          -1.490231485551157,
          0.09153323799507203,
          0.04410638367461564,
          1.482316947510727,
          0.253441806208039,
          0.2419916132690337,
          4.356416926790133,
          0.25441316400105174,
          0.2077576977200785,
          0.2210777211541742,
          0.21328603882841055,
          0.20690538561677171,
          -15.33666437382718,
          0.2183691969355489,
          0.21138296420194438,
          0.21470298581739203,
          -0.24353218615945507,
          -0.05094167727253894,
          0.20807064785305818,
          0.21109166038900115,
          0.21160530266335223,
          2.6275085671351524,
          0.22239745837692457,
          0.14206615003747977,
          0.21053414900234285,
          -4.482926077469034,
          0.2068501702478324,
          0.21528766649864226,
          0.5521217820434817,
          0.21450659206576314,
          0.1954480831095269,
          0.21749523060739867,
          0.2149431753039202,
          0.21816403102524837,
          0.21555313854485092,
          -3.3402367383575244,
          2.4675534860607313,
          0.212151928742331,
          0.21069043267482826,
          0.21451606379725066,
          0.7704239717548533,
          0.22479666380720176,
          0.3275475381028729,
          0.23052496062449085,
          0.21098236178272192,
          0.21122267521238408,
          0.20989022516224762,
          0.20417962377956497,
          0.21244760882008668,
          1.6819137015581143,
          0.21941230331098002,
          0.22115626843585534,
          0.2146615497031376,
          0.22789649892106142,
          0.2163284607217641,
          0.21051420003417912,
          0.2284949763739531,
          0.2221690988593558,
          -1.3218495002865407,
          -1.9728751651967469,
          0.23236015427035395,
          0.24543381566457104,
          0.2366084948352824,
          0.2163220702862657,
          0.21789954167167735,
          0.21343682450776744,
          0.21209749374063827,
          0.23712066967687379,
          0.21375978156290876,
          0.20197315752462566,
          0.2122232450113908,
          0.2263565864633632,
          0.21106545700645724,
          0.23336263134343702,
          0.2184174668536188,
          0.213547930931842,
          0.21351429364081126,
          0.21139700021415261,
          0.22636785142281227,
          0.2079821567682558,
          0.2107537110825756,
          0.2169521117209694,
          0.22914859015247105,
          0.7077092758955805,
          0.20725502050992736,
          0.2192837011923881,
          0.2158580152996065,
          0.5945397205279946,
          0.21034952119763844,
          0.21428384628820782,
          0.21774646839473977,
          0.16133995259533568,
          0.21152597702308976,
          0.21799825616664903,
          0.2125760032553759,
          0.21932785141982536,
          0.2103183935978838,
          0.21379226354067787,
          -0.6791206674636112,
          0.280543905762364,
          0.20548859129814384,
          0.2195644702139589,
          0.21931173874028895,
          0.22873043879959146,
          0.3378293491737533,
          0.2105257777984974,
          0.21304169337306791,
          0.2191995704575302,
          0.20828371601694212,
          0.22719942285968617,
          0.21868760854575486,
          0.2082289032955793,
          -2.0755117982372484,
          0.21156888180005662,
          0.24008135200170114,
          0.23551870399039773,
          0.21016509745643686,
          0.2076557269226381,
          0.20514072503293593,
          0.38889955036862656,
          0.21876499573389654,
          0.22165875222704534,
          0.2136157309188635,
          -9.541151075858636,
          0.22734174523715414,
          0.20441438760656933,
          0.21299990295359994,
          0.22258204016753366,
          0.2099227680152236,
          0.21236607272925806,
          0.21305367420255525,
          0.2342729445007132,
          0.2135567739051835,
          0.21664345710663893,
          0.20541918471439857,
          0.214713204871,
          0.21567697256419183,
          0.2029006861312544,
          0.21787627800507542,
          -1.2498918447263574,
          0.2192669341864971,
          0.19419477169608002,
          0.41682934561183244,
          0.2212128716876103,
          0.22035808611907107,
          -3.826159296051035,
          0.21741156034444764,
          0.21260284992613618,
          0.21271777002269138,
          0.2164584326401578,
          0.21344862164259407,
          0.21052753729934445,
          0.22244475336566022,
          0.22358022723482684,
          0.2269683227391903,
          0.22291922079969617,
          0.21319217409927252,
          0.2181956048623755,
          0.25740954504058033,
          0.22836004194654963,
          0.3372328898310204,
          0.17558353713237793,
          0.14135550488238022,
          0.22661547245601255
         ],
         "yaxis": "y"
        }
       ],
       "layout": {
        "legend": {
         "tracegroupgap": 0
        },
        "template": {
         "data": {
          "bar": [
           {
            "error_x": {
             "color": "#2a3f5f"
            },
            "error_y": {
             "color": "#2a3f5f"
            },
            "marker": {
             "line": {
              "color": "#E5ECF6",
              "width": 0.5
             },
             "pattern": {
              "fillmode": "overlay",
              "size": 10,
              "solidity": 0.2
             }
            },
            "type": "bar"
           }
          ],
          "barpolar": [
           {
            "marker": {
             "line": {
              "color": "#E5ECF6",
              "width": 0.5
             },
             "pattern": {
              "fillmode": "overlay",
              "size": 10,
              "solidity": 0.2
             }
            },
            "type": "barpolar"
           }
          ],
          "carpet": [
           {
            "aaxis": {
             "endlinecolor": "#2a3f5f",
             "gridcolor": "white",
             "linecolor": "white",
             "minorgridcolor": "white",
             "startlinecolor": "#2a3f5f"
            },
            "baxis": {
             "endlinecolor": "#2a3f5f",
             "gridcolor": "white",
             "linecolor": "white",
             "minorgridcolor": "white",
             "startlinecolor": "#2a3f5f"
            },
            "type": "carpet"
           }
          ],
          "choropleth": [
           {
            "colorbar": {
             "outlinewidth": 0,
             "ticks": ""
            },
            "type": "choropleth"
           }
          ],
          "contour": [
           {
            "colorbar": {
             "outlinewidth": 0,
             "ticks": ""
            },
            "colorscale": [
             [
              0,
              "#0d0887"
             ],
             [
              0.1111111111111111,
              "#46039f"
             ],
             [
              0.2222222222222222,
              "#7201a8"
             ],
             [
              0.3333333333333333,
              "#9c179e"
             ],
             [
              0.4444444444444444,
              "#bd3786"
             ],
             [
              0.5555555555555556,
              "#d8576b"
             ],
             [
              0.6666666666666666,
              "#ed7953"
             ],
             [
              0.7777777777777778,
              "#fb9f3a"
             ],
             [
              0.8888888888888888,
              "#fdca26"
             ],
             [
              1,
              "#f0f921"
             ]
            ],
            "type": "contour"
           }
          ],
          "contourcarpet": [
           {
            "colorbar": {
             "outlinewidth": 0,
             "ticks": ""
            },
            "type": "contourcarpet"
           }
          ],
          "heatmap": [
           {
            "colorbar": {
             "outlinewidth": 0,
             "ticks": ""
            },
            "colorscale": [
             [
              0,
              "#0d0887"
             ],
             [
              0.1111111111111111,
              "#46039f"
             ],
             [
              0.2222222222222222,
              "#7201a8"
             ],
             [
              0.3333333333333333,
              "#9c179e"
             ],
             [
              0.4444444444444444,
              "#bd3786"
             ],
             [
              0.5555555555555556,
              "#d8576b"
             ],
             [
              0.6666666666666666,
              "#ed7953"
             ],
             [
              0.7777777777777778,
              "#fb9f3a"
             ],
             [
              0.8888888888888888,
              "#fdca26"
             ],
             [
              1,
              "#f0f921"
             ]
            ],
            "type": "heatmap"
           }
          ],
          "heatmapgl": [
           {
            "colorbar": {
             "outlinewidth": 0,
             "ticks": ""
            },
            "colorscale": [
             [
              0,
              "#0d0887"
             ],
             [
              0.1111111111111111,
              "#46039f"
             ],
             [
              0.2222222222222222,
              "#7201a8"
             ],
             [
              0.3333333333333333,
              "#9c179e"
             ],
             [
              0.4444444444444444,
              "#bd3786"
             ],
             [
              0.5555555555555556,
              "#d8576b"
             ],
             [
              0.6666666666666666,
              "#ed7953"
             ],
             [
              0.7777777777777778,
              "#fb9f3a"
             ],
             [
              0.8888888888888888,
              "#fdca26"
             ],
             [
              1,
              "#f0f921"
             ]
            ],
            "type": "heatmapgl"
           }
          ],
          "histogram": [
           {
            "marker": {
             "pattern": {
              "fillmode": "overlay",
              "size": 10,
              "solidity": 0.2
             }
            },
            "type": "histogram"
           }
          ],
          "histogram2d": [
           {
            "colorbar": {
             "outlinewidth": 0,
             "ticks": ""
            },
            "colorscale": [
             [
              0,
              "#0d0887"
             ],
             [
              0.1111111111111111,
              "#46039f"
             ],
             [
              0.2222222222222222,
              "#7201a8"
             ],
             [
              0.3333333333333333,
              "#9c179e"
             ],
             [
              0.4444444444444444,
              "#bd3786"
             ],
             [
              0.5555555555555556,
              "#d8576b"
             ],
             [
              0.6666666666666666,
              "#ed7953"
             ],
             [
              0.7777777777777778,
              "#fb9f3a"
             ],
             [
              0.8888888888888888,
              "#fdca26"
             ],
             [
              1,
              "#f0f921"
             ]
            ],
            "type": "histogram2d"
           }
          ],
          "histogram2dcontour": [
           {
            "colorbar": {
             "outlinewidth": 0,
             "ticks": ""
            },
            "colorscale": [
             [
              0,
              "#0d0887"
             ],
             [
              0.1111111111111111,
              "#46039f"
             ],
             [
              0.2222222222222222,
              "#7201a8"
             ],
             [
              0.3333333333333333,
              "#9c179e"
             ],
             [
              0.4444444444444444,
              "#bd3786"
             ],
             [
              0.5555555555555556,
              "#d8576b"
             ],
             [
              0.6666666666666666,
              "#ed7953"
             ],
             [
              0.7777777777777778,
              "#fb9f3a"
             ],
             [
              0.8888888888888888,
              "#fdca26"
             ],
             [
              1,
              "#f0f921"
             ]
            ],
            "type": "histogram2dcontour"
           }
          ],
          "mesh3d": [
           {
            "colorbar": {
             "outlinewidth": 0,
             "ticks": ""
            },
            "type": "mesh3d"
           }
          ],
          "parcoords": [
           {
            "line": {
             "colorbar": {
              "outlinewidth": 0,
              "ticks": ""
             }
            },
            "type": "parcoords"
           }
          ],
          "pie": [
           {
            "automargin": true,
            "type": "pie"
           }
          ],
          "scatter": [
           {
            "fillpattern": {
             "fillmode": "overlay",
             "size": 10,
             "solidity": 0.2
            },
            "type": "scatter"
           }
          ],
          "scatter3d": [
           {
            "line": {
             "colorbar": {
              "outlinewidth": 0,
              "ticks": ""
             }
            },
            "marker": {
             "colorbar": {
              "outlinewidth": 0,
              "ticks": ""
             }
            },
            "type": "scatter3d"
           }
          ],
          "scattercarpet": [
           {
            "marker": {
             "colorbar": {
              "outlinewidth": 0,
              "ticks": ""
             }
            },
            "type": "scattercarpet"
           }
          ],
          "scattergeo": [
           {
            "marker": {
             "colorbar": {
              "outlinewidth": 0,
              "ticks": ""
             }
            },
            "type": "scattergeo"
           }
          ],
          "scattergl": [
           {
            "marker": {
             "colorbar": {
              "outlinewidth": 0,
              "ticks": ""
             }
            },
            "type": "scattergl"
           }
          ],
          "scattermapbox": [
           {
            "marker": {
             "colorbar": {
              "outlinewidth": 0,
              "ticks": ""
             }
            },
            "type": "scattermapbox"
           }
          ],
          "scatterpolar": [
           {
            "marker": {
             "colorbar": {
              "outlinewidth": 0,
              "ticks": ""
             }
            },
            "type": "scatterpolar"
           }
          ],
          "scatterpolargl": [
           {
            "marker": {
             "colorbar": {
              "outlinewidth": 0,
              "ticks": ""
             }
            },
            "type": "scatterpolargl"
           }
          ],
          "scatterternary": [
           {
            "marker": {
             "colorbar": {
              "outlinewidth": 0,
              "ticks": ""
             }
            },
            "type": "scatterternary"
           }
          ],
          "surface": [
           {
            "colorbar": {
             "outlinewidth": 0,
             "ticks": ""
            },
            "colorscale": [
             [
              0,
              "#0d0887"
             ],
             [
              0.1111111111111111,
              "#46039f"
             ],
             [
              0.2222222222222222,
              "#7201a8"
             ],
             [
              0.3333333333333333,
              "#9c179e"
             ],
             [
              0.4444444444444444,
              "#bd3786"
             ],
             [
              0.5555555555555556,
              "#d8576b"
             ],
             [
              0.6666666666666666,
              "#ed7953"
             ],
             [
              0.7777777777777778,
              "#fb9f3a"
             ],
             [
              0.8888888888888888,
              "#fdca26"
             ],
             [
              1,
              "#f0f921"
             ]
            ],
            "type": "surface"
           }
          ],
          "table": [
           {
            "cells": {
             "fill": {
              "color": "#EBF0F8"
             },
             "line": {
              "color": "white"
             }
            },
            "header": {
             "fill": {
              "color": "#C8D4E3"
             },
             "line": {
              "color": "white"
             }
            },
            "type": "table"
           }
          ]
         },
         "layout": {
          "annotationdefaults": {
           "arrowcolor": "#2a3f5f",
           "arrowhead": 0,
           "arrowwidth": 1
          },
          "autotypenumbers": "strict",
          "coloraxis": {
           "colorbar": {
            "outlinewidth": 0,
            "ticks": ""
           }
          },
          "colorscale": {
           "diverging": [
            [
             0,
             "#8e0152"
            ],
            [
             0.1,
             "#c51b7d"
            ],
            [
             0.2,
             "#de77ae"
            ],
            [
             0.3,
             "#f1b6da"
            ],
            [
             0.4,
             "#fde0ef"
            ],
            [
             0.5,
             "#f7f7f7"
            ],
            [
             0.6,
             "#e6f5d0"
            ],
            [
             0.7,
             "#b8e186"
            ],
            [
             0.8,
             "#7fbc41"
            ],
            [
             0.9,
             "#4d9221"
            ],
            [
             1,
             "#276419"
            ]
           ],
           "sequential": [
            [
             0,
             "#0d0887"
            ],
            [
             0.1111111111111111,
             "#46039f"
            ],
            [
             0.2222222222222222,
             "#7201a8"
            ],
            [
             0.3333333333333333,
             "#9c179e"
            ],
            [
             0.4444444444444444,
             "#bd3786"
            ],
            [
             0.5555555555555556,
             "#d8576b"
            ],
            [
             0.6666666666666666,
             "#ed7953"
            ],
            [
             0.7777777777777778,
             "#fb9f3a"
            ],
            [
             0.8888888888888888,
             "#fdca26"
            ],
            [
             1,
             "#f0f921"
            ]
           ],
           "sequentialminus": [
            [
             0,
             "#0d0887"
            ],
            [
             0.1111111111111111,
             "#46039f"
            ],
            [
             0.2222222222222222,
             "#7201a8"
            ],
            [
             0.3333333333333333,
             "#9c179e"
            ],
            [
             0.4444444444444444,
             "#bd3786"
            ],
            [
             0.5555555555555556,
             "#d8576b"
            ],
            [
             0.6666666666666666,
             "#ed7953"
            ],
            [
             0.7777777777777778,
             "#fb9f3a"
            ],
            [
             0.8888888888888888,
             "#fdca26"
            ],
            [
             1,
             "#f0f921"
            ]
           ]
          },
          "colorway": [
           "#636efa",
           "#EF553B",
           "#00cc96",
           "#ab63fa",
           "#FFA15A",
           "#19d3f3",
           "#FF6692",
           "#B6E880",
           "#FF97FF",
           "#FECB52"
          ],
          "font": {
           "color": "#2a3f5f"
          },
          "geo": {
           "bgcolor": "white",
           "lakecolor": "white",
           "landcolor": "#E5ECF6",
           "showlakes": true,
           "showland": true,
           "subunitcolor": "white"
          },
          "hoverlabel": {
           "align": "left"
          },
          "hovermode": "closest",
          "mapbox": {
           "style": "light"
          },
          "paper_bgcolor": "white",
          "plot_bgcolor": "#E5ECF6",
          "polar": {
           "angularaxis": {
            "gridcolor": "white",
            "linecolor": "white",
            "ticks": ""
           },
           "bgcolor": "#E5ECF6",
           "radialaxis": {
            "gridcolor": "white",
            "linecolor": "white",
            "ticks": ""
           }
          },
          "scene": {
           "xaxis": {
            "backgroundcolor": "#E5ECF6",
            "gridcolor": "white",
            "gridwidth": 2,
            "linecolor": "white",
            "showbackground": true,
            "ticks": "",
            "zerolinecolor": "white"
           },
           "yaxis": {
            "backgroundcolor": "#E5ECF6",
            "gridcolor": "white",
            "gridwidth": 2,
            "linecolor": "white",
            "showbackground": true,
            "ticks": "",
            "zerolinecolor": "white"
           },
           "zaxis": {
            "backgroundcolor": "#E5ECF6",
            "gridcolor": "white",
            "gridwidth": 2,
            "linecolor": "white",
            "showbackground": true,
            "ticks": "",
            "zerolinecolor": "white"
           }
          },
          "shapedefaults": {
           "line": {
            "color": "#2a3f5f"
           }
          },
          "ternary": {
           "aaxis": {
            "gridcolor": "white",
            "linecolor": "white",
            "ticks": ""
           },
           "baxis": {
            "gridcolor": "white",
            "linecolor": "white",
            "ticks": ""
           },
           "bgcolor": "#E5ECF6",
           "caxis": {
            "gridcolor": "white",
            "linecolor": "white",
            "ticks": ""
           }
          },
          "title": {
           "x": 0.05
          },
          "xaxis": {
           "automargin": true,
           "gridcolor": "white",
           "linecolor": "white",
           "ticks": "",
           "title": {
            "standoff": 15
           },
           "zerolinecolor": "white",
           "zerolinewidth": 2
          },
          "yaxis": {
           "automargin": true,
           "gridcolor": "white",
           "linecolor": "white",
           "ticks": "",
           "title": {
            "standoff": 15
           },
           "zerolinecolor": "white",
           "zerolinewidth": 2
          }
         }
        },
        "title": {
         "text": "Cities PCA Visualization"
        },
        "xaxis": {
         "anchor": "y",
         "domain": [
          0,
          1
         ],
         "title": {
          "text": "PC1"
         }
        },
        "yaxis": {
         "anchor": "x",
         "domain": [
          0,
          1
         ],
         "title": {
          "text": "PC2"
         }
        }
       }
      }
     },
     "metadata": {},
     "output_type": "display_data"
    }
   ],
   "source": [
    "fig_cities = px.scatter(\n",
    "    city_reduced_df,\n",
    "    x='PC1',\n",
    "    y='PC2',\n",
    "    hover_data=['city_name'],\n",
    "    title='Cities PCA Visualization'\n",
    ")\n",
    "fig_cities.show()"
   ]
  },
  {
   "cell_type": "markdown",
   "metadata": {},
   "source": [
    "# Part 2: Compare Parties"
   ]
  },
  {
   "cell_type": "markdown",
   "metadata": {},
   "source": [
    "1) Transpose so each row represents a party and each column a city.\n"
   ]
  },
  {
   "cell_type": "code",
   "execution_count": 141,
   "metadata": {},
   "outputs": [
    {
     "name": "stdout",
     "output_type": "stream",
     "text": [
      "Transposed. Now rows = parties, columns = cities. Shape: (41, 1216)\n"
     ]
    },
    {
     "data": {
      "text/html": [
       "<div>\n",
       "<style scoped>\n",
       "    .dataframe tbody tr th:only-of-type {\n",
       "        vertical-align: middle;\n",
       "    }\n",
       "\n",
       "    .dataframe tbody tr th {\n",
       "        vertical-align: top;\n",
       "    }\n",
       "\n",
       "    .dataframe thead th {\n",
       "        text-align: right;\n",
       "    }\n",
       "</style>\n",
       "<table border=\"1\" class=\"dataframe\">\n",
       "  <thead>\n",
       "    <tr style=\"text-align: right;\">\n",
       "      <th>city_name</th>\n",
       "      <th>אבו גווייעד שבט</th>\n",
       "      <th>אבו גוש</th>\n",
       "      <th>אבו סנאן</th>\n",
       "      <th>אבו עבדון שבט</th>\n",
       "      <th>אבו קורינאת שבט</th>\n",
       "      <th>אבו קרינאת יישוב</th>\n",
       "      <th>אבו רובייעה שבט</th>\n",
       "      <th>אבו רוקייק שבט</th>\n",
       "      <th>אבו תלול</th>\n",
       "      <th>אבטין</th>\n",
       "      <th>...</th>\n",
       "      <th>תלמים</th>\n",
       "      <th>תמרת</th>\n",
       "      <th>תנובות</th>\n",
       "      <th>תעוז</th>\n",
       "      <th>תפרח</th>\n",
       "      <th>תקומה</th>\n",
       "      <th>תקוע</th>\n",
       "      <th>תראבין אצאנע שבט</th>\n",
       "      <th>תראבין אצאנעישוב</th>\n",
       "      <th>תרום</th>\n",
       "    </tr>\n",
       "  </thead>\n",
       "  <tbody>\n",
       "    <tr>\n",
       "      <th>ballot_code</th>\n",
       "      <td>13.0</td>\n",
       "      <td>38.2</td>\n",
       "      <td>170.2</td>\n",
       "      <td>1.0</td>\n",
       "      <td>26.5</td>\n",
       "      <td>2.3</td>\n",
       "      <td>45.1</td>\n",
       "      <td>11.6</td>\n",
       "      <td>3.0</td>\n",
       "      <td>9.3</td>\n",
       "      <td>...</td>\n",
       "      <td>1.0</td>\n",
       "      <td>4.0</td>\n",
       "      <td>1.0</td>\n",
       "      <td>1.0</td>\n",
       "      <td>3.0</td>\n",
       "      <td>1.0</td>\n",
       "      <td>10.0</td>\n",
       "      <td>1.0</td>\n",
       "      <td>1.0</td>\n",
       "      <td>1.0</td>\n",
       "    </tr>\n",
       "    <tr>\n",
       "      <th>party_avoda</th>\n",
       "      <td>1.0</td>\n",
       "      <td>14.0</td>\n",
       "      <td>34.0</td>\n",
       "      <td>0.0</td>\n",
       "      <td>5.0</td>\n",
       "      <td>2.0</td>\n",
       "      <td>10.0</td>\n",
       "      <td>0.0</td>\n",
       "      <td>0.0</td>\n",
       "      <td>1.0</td>\n",
       "      <td>...</td>\n",
       "      <td>0.0</td>\n",
       "      <td>120.0</td>\n",
       "      <td>18.0</td>\n",
       "      <td>16.0</td>\n",
       "      <td>1.0</td>\n",
       "      <td>3.0</td>\n",
       "      <td>25.0</td>\n",
       "      <td>0.0</td>\n",
       "      <td>1.0</td>\n",
       "      <td>5.0</td>\n",
       "    </tr>\n",
       "    <tr>\n",
       "      <th>party_shahar_kalkali_hadash</th>\n",
       "      <td>0.0</td>\n",
       "      <td>1.0</td>\n",
       "      <td>0.0</td>\n",
       "      <td>0.0</td>\n",
       "      <td>0.0</td>\n",
       "      <td>0.0</td>\n",
       "      <td>0.0</td>\n",
       "      <td>0.0</td>\n",
       "      <td>0.0</td>\n",
       "      <td>0.0</td>\n",
       "      <td>...</td>\n",
       "      <td>3.0</td>\n",
       "      <td>3.0</td>\n",
       "      <td>1.0</td>\n",
       "      <td>3.0</td>\n",
       "      <td>4.0</td>\n",
       "      <td>2.0</td>\n",
       "      <td>18.0</td>\n",
       "      <td>0.0</td>\n",
       "      <td>0.0</td>\n",
       "      <td>4.0</td>\n",
       "    </tr>\n",
       "    <tr>\n",
       "      <th>party_bayit_yehudi</th>\n",
       "      <td>0.0</td>\n",
       "      <td>1.0</td>\n",
       "      <td>3.0</td>\n",
       "      <td>0.0</td>\n",
       "      <td>1.0</td>\n",
       "      <td>0.0</td>\n",
       "      <td>0.0</td>\n",
       "      <td>0.0</td>\n",
       "      <td>0.0</td>\n",
       "      <td>0.0</td>\n",
       "      <td>...</td>\n",
       "      <td>4.0</td>\n",
       "      <td>7.0</td>\n",
       "      <td>3.0</td>\n",
       "      <td>8.0</td>\n",
       "      <td>0.0</td>\n",
       "      <td>42.0</td>\n",
       "      <td>266.0</td>\n",
       "      <td>0.0</td>\n",
       "      <td>0.0</td>\n",
       "      <td>17.0</td>\n",
       "    </tr>\n",
       "    <tr>\n",
       "      <th>party_agudat_israel</th>\n",
       "      <td>0.0</td>\n",
       "      <td>3.0</td>\n",
       "      <td>0.0</td>\n",
       "      <td>0.0</td>\n",
       "      <td>0.0</td>\n",
       "      <td>1.0</td>\n",
       "      <td>5.0</td>\n",
       "      <td>0.0</td>\n",
       "      <td>0.0</td>\n",
       "      <td>0.0</td>\n",
       "      <td>...</td>\n",
       "      <td>7.0</td>\n",
       "      <td>1.0</td>\n",
       "      <td>4.0</td>\n",
       "      <td>3.0</td>\n",
       "      <td>670.0</td>\n",
       "      <td>1.0</td>\n",
       "      <td>13.0</td>\n",
       "      <td>0.0</td>\n",
       "      <td>0.0</td>\n",
       "      <td>12.0</td>\n",
       "    </tr>\n",
       "  </tbody>\n",
       "</table>\n",
       "<p>5 rows × 1216 columns</p>\n",
       "</div>"
      ],
      "text/plain": [
       "city_name                    אבו גווייעד שבט  אבו גוש  אבו סנאן  \\\n",
       "ballot_code                             13.0     38.2     170.2   \n",
       "party_avoda                              1.0     14.0      34.0   \n",
       "party_shahar_kalkali_hadash              0.0      1.0       0.0   \n",
       "party_bayit_yehudi                       0.0      1.0       3.0   \n",
       "party_agudat_israel                      0.0      3.0       0.0   \n",
       "\n",
       "city_name                    אבו עבדון שבט  אבו קורינאת שבט  אבו קרינאת יישוב  \\\n",
       "ballot_code                            1.0             26.5               2.3   \n",
       "party_avoda                            0.0              5.0               2.0   \n",
       "party_shahar_kalkali_hadash            0.0              0.0               0.0   \n",
       "party_bayit_yehudi                     0.0              1.0               0.0   \n",
       "party_agudat_israel                    0.0              0.0               1.0   \n",
       "\n",
       "city_name                    אבו רובייעה שבט  אבו רוקייק שבט  אבו תלול  אבטין  \\\n",
       "ballot_code                             45.1            11.6       3.0    9.3   \n",
       "party_avoda                             10.0             0.0       0.0    1.0   \n",
       "party_shahar_kalkali_hadash              0.0             0.0       0.0    0.0   \n",
       "party_bayit_yehudi                       0.0             0.0       0.0    0.0   \n",
       "party_agudat_israel                      5.0             0.0       0.0    0.0   \n",
       "\n",
       "city_name                    ...  תלמים   תמרת  תנובות  תעוז   תפרח  תקומה  \\\n",
       "ballot_code                  ...    1.0    4.0     1.0   1.0    3.0    1.0   \n",
       "party_avoda                  ...    0.0  120.0    18.0  16.0    1.0    3.0   \n",
       "party_shahar_kalkali_hadash  ...    3.0    3.0     1.0   3.0    4.0    2.0   \n",
       "party_bayit_yehudi           ...    4.0    7.0     3.0   8.0    0.0   42.0   \n",
       "party_agudat_israel          ...    7.0    1.0     4.0   3.0  670.0    1.0   \n",
       "\n",
       "city_name                     תקוע  תראבין אצאנע שבט  תראבין אצאנעישוב  תרום  \n",
       "ballot_code                   10.0               1.0               1.0   1.0  \n",
       "party_avoda                   25.0               0.0               1.0   5.0  \n",
       "party_shahar_kalkali_hadash   18.0               0.0               0.0   4.0  \n",
       "party_bayit_yehudi           266.0               0.0               0.0  17.0  \n",
       "party_agudat_israel           13.0               0.0               0.0  12.0  \n",
       "\n",
       "[5 rows x 1216 columns]"
      ]
     },
     "metadata": {},
     "output_type": "display_data"
    }
   ],
   "source": [
    "transposed_df = city_agg_df.set_index('city_name').T\n",
    "print(\"Transposed. Now rows = parties, columns = cities. Shape:\", transposed_df.shape)\n",
    "display(transposed_df.head())"
   ]
  },
  {
   "cell_type": "markdown",
   "metadata": {},
   "source": [
    "2) Remove low-vote cities (columns) if total votes across parties are below a threshold\n"
   ]
  },
  {
   "cell_type": "code",
   "execution_count": 142,
   "metadata": {},
   "outputs": [
    {
     "name": "stdout",
     "output_type": "stream",
     "text": [
      "Removed low-vote cities. Shape: (41, 265)\n"
     ]
    },
    {
     "data": {
      "text/html": [
       "<div>\n",
       "<style scoped>\n",
       "    .dataframe tbody tr th:only-of-type {\n",
       "        vertical-align: middle;\n",
       "    }\n",
       "\n",
       "    .dataframe tbody tr th {\n",
       "        vertical-align: top;\n",
       "    }\n",
       "\n",
       "    .dataframe thead th {\n",
       "        text-align: right;\n",
       "    }\n",
       "</style>\n",
       "<table border=\"1\" class=\"dataframe\">\n",
       "  <thead>\n",
       "    <tr style=\"text-align: right;\">\n",
       "      <th>city_name</th>\n",
       "      <th>אבו גוש</th>\n",
       "      <th>אבו סנאן</th>\n",
       "      <th>אבו קורינאת שבט</th>\n",
       "      <th>אבו רובייעה שבט</th>\n",
       "      <th>אבו רוקייק שבט</th>\n",
       "      <th>אבן יהודה</th>\n",
       "      <th>אבני חפץ</th>\n",
       "      <th>אום אלפחם</th>\n",
       "      <th>אום בטין</th>\n",
       "      <th>אופקים</th>\n",
       "      <th>...</th>\n",
       "      <th>שלומי</th>\n",
       "      <th>שמשית</th>\n",
       "      <th>שעב</th>\n",
       "      <th>שער שומרון</th>\n",
       "      <th>שפרעם</th>\n",
       "      <th>שתולים</th>\n",
       "      <th>תל אביב  יפו</th>\n",
       "      <th>תל מונד</th>\n",
       "      <th>תל שבע</th>\n",
       "      <th>תקוע</th>\n",
       "    </tr>\n",
       "  </thead>\n",
       "  <tbody>\n",
       "    <tr>\n",
       "      <th>ballot_code</th>\n",
       "      <td>38.2</td>\n",
       "      <td>170.2</td>\n",
       "      <td>26.5</td>\n",
       "      <td>45.1</td>\n",
       "      <td>11.6</td>\n",
       "      <td>125.7</td>\n",
       "      <td>8.3</td>\n",
       "      <td>2216.9</td>\n",
       "      <td>5.0</td>\n",
       "      <td>690.5</td>\n",
       "      <td>...</td>\n",
       "      <td>51.2</td>\n",
       "      <td>6.0</td>\n",
       "      <td>31.2</td>\n",
       "      <td>414.7</td>\n",
       "      <td>1242.4</td>\n",
       "      <td>5.3</td>\n",
       "      <td>335134.5</td>\n",
       "      <td>101.6</td>\n",
       "      <td>148.7</td>\n",
       "      <td>10.0</td>\n",
       "    </tr>\n",
       "    <tr>\n",
       "      <th>party_avoda</th>\n",
       "      <td>14.0</td>\n",
       "      <td>34.0</td>\n",
       "      <td>5.0</td>\n",
       "      <td>10.0</td>\n",
       "      <td>0.0</td>\n",
       "      <td>540.0</td>\n",
       "      <td>0.0</td>\n",
       "      <td>51.0</td>\n",
       "      <td>1.0</td>\n",
       "      <td>116.0</td>\n",
       "      <td>...</td>\n",
       "      <td>65.0</td>\n",
       "      <td>173.0</td>\n",
       "      <td>27.0</td>\n",
       "      <td>56.0</td>\n",
       "      <td>316.0</td>\n",
       "      <td>19.0</td>\n",
       "      <td>24603.0</td>\n",
       "      <td>416.0</td>\n",
       "      <td>11.0</td>\n",
       "      <td>25.0</td>\n",
       "    </tr>\n",
       "    <tr>\n",
       "      <th>party_shahar_kalkali_hadash</th>\n",
       "      <td>1.0</td>\n",
       "      <td>0.0</td>\n",
       "      <td>0.0</td>\n",
       "      <td>0.0</td>\n",
       "      <td>0.0</td>\n",
       "      <td>14.0</td>\n",
       "      <td>0.0</td>\n",
       "      <td>7.0</td>\n",
       "      <td>1.0</td>\n",
       "      <td>21.0</td>\n",
       "      <td>...</td>\n",
       "      <td>10.0</td>\n",
       "      <td>2.0</td>\n",
       "      <td>0.0</td>\n",
       "      <td>21.0</td>\n",
       "      <td>3.0</td>\n",
       "      <td>12.0</td>\n",
       "      <td>1149.0</td>\n",
       "      <td>36.0</td>\n",
       "      <td>3.0</td>\n",
       "      <td>18.0</td>\n",
       "    </tr>\n",
       "    <tr>\n",
       "      <th>party_bayit_yehudi</th>\n",
       "      <td>1.0</td>\n",
       "      <td>3.0</td>\n",
       "      <td>1.0</td>\n",
       "      <td>0.0</td>\n",
       "      <td>0.0</td>\n",
       "      <td>59.0</td>\n",
       "      <td>23.0</td>\n",
       "      <td>3.0</td>\n",
       "      <td>0.0</td>\n",
       "      <td>89.0</td>\n",
       "      <td>...</td>\n",
       "      <td>23.0</td>\n",
       "      <td>4.0</td>\n",
       "      <td>0.0</td>\n",
       "      <td>264.0</td>\n",
       "      <td>4.0</td>\n",
       "      <td>21.0</td>\n",
       "      <td>1987.0</td>\n",
       "      <td>120.0</td>\n",
       "      <td>0.0</td>\n",
       "      <td>266.0</td>\n",
       "    </tr>\n",
       "    <tr>\n",
       "      <th>party_agudat_israel</th>\n",
       "      <td>3.0</td>\n",
       "      <td>0.0</td>\n",
       "      <td>0.0</td>\n",
       "      <td>5.0</td>\n",
       "      <td>0.0</td>\n",
       "      <td>26.0</td>\n",
       "      <td>10.0</td>\n",
       "      <td>16.0</td>\n",
       "      <td>0.0</td>\n",
       "      <td>2445.0</td>\n",
       "      <td>...</td>\n",
       "      <td>24.0</td>\n",
       "      <td>5.0</td>\n",
       "      <td>2.0</td>\n",
       "      <td>18.0</td>\n",
       "      <td>14.0</td>\n",
       "      <td>17.0</td>\n",
       "      <td>2204.0</td>\n",
       "      <td>19.0</td>\n",
       "      <td>1.0</td>\n",
       "      <td>13.0</td>\n",
       "    </tr>\n",
       "  </tbody>\n",
       "</table>\n",
       "<p>5 rows × 265 columns</p>\n",
       "</div>"
      ],
      "text/plain": [
       "city_name                    אבו גוש  אבו סנאן  אבו קורינאת שבט  \\\n",
       "ballot_code                     38.2     170.2             26.5   \n",
       "party_avoda                     14.0      34.0              5.0   \n",
       "party_shahar_kalkali_hadash      1.0       0.0              0.0   \n",
       "party_bayit_yehudi               1.0       3.0              1.0   \n",
       "party_agudat_israel              3.0       0.0              0.0   \n",
       "\n",
       "city_name                    אבו רובייעה שבט  אבו רוקייק שבט  אבן יהודה  \\\n",
       "ballot_code                             45.1            11.6      125.7   \n",
       "party_avoda                             10.0             0.0      540.0   \n",
       "party_shahar_kalkali_hadash              0.0             0.0       14.0   \n",
       "party_bayit_yehudi                       0.0             0.0       59.0   \n",
       "party_agudat_israel                      5.0             0.0       26.0   \n",
       "\n",
       "city_name                    אבני חפץ  אום אלפחם  אום בטין  אופקים  ...  \\\n",
       "ballot_code                       8.3     2216.9       5.0   690.5  ...   \n",
       "party_avoda                       0.0       51.0       1.0   116.0  ...   \n",
       "party_shahar_kalkali_hadash       0.0        7.0       1.0    21.0  ...   \n",
       "party_bayit_yehudi               23.0        3.0       0.0    89.0  ...   \n",
       "party_agudat_israel              10.0       16.0       0.0  2445.0  ...   \n",
       "\n",
       "city_name                    שלומי  שמשית   שעב  שער שומרון   שפרעם  שתולים  \\\n",
       "ballot_code                   51.2    6.0  31.2       414.7  1242.4     5.3   \n",
       "party_avoda                   65.0  173.0  27.0        56.0   316.0    19.0   \n",
       "party_shahar_kalkali_hadash   10.0    2.0   0.0        21.0     3.0    12.0   \n",
       "party_bayit_yehudi            23.0    4.0   0.0       264.0     4.0    21.0   \n",
       "party_agudat_israel           24.0    5.0   2.0        18.0    14.0    17.0   \n",
       "\n",
       "city_name                    תל אביב  יפו  תל מונד  תל שבע   תקוע  \n",
       "ballot_code                      335134.5    101.6   148.7   10.0  \n",
       "party_avoda                       24603.0    416.0    11.0   25.0  \n",
       "party_shahar_kalkali_hadash        1149.0     36.0     3.0   18.0  \n",
       "party_bayit_yehudi                 1987.0    120.0     0.0  266.0  \n",
       "party_agudat_israel                2204.0     19.0     1.0   13.0  \n",
       "\n",
       "[5 rows x 265 columns]"
      ]
     },
     "metadata": {},
     "output_type": "display_data"
    }
   ],
   "source": [
    "city_sums = transposed_df.sum(axis=0)\n",
    "low_vote_cities = city_sums[city_sums < 1000].index\n",
    "transposed_cleaned_df = transposed_df.drop(columns=low_vote_cities)\n",
    "print(\"Removed low-vote cities. Shape:\", transposed_cleaned_df.shape)\n",
    "display(transposed_cleaned_df.head())\n"
   ]
  },
  {
   "cell_type": "markdown",
   "metadata": {},
   "source": [
    "3) Convert the index (party names) into a column for metadata\n"
   ]
  },
  {
   "cell_type": "code",
   "execution_count": 143,
   "metadata": {},
   "outputs": [
    {
     "data": {
      "text/html": [
       "<div>\n",
       "<style scoped>\n",
       "    .dataframe tbody tr th:only-of-type {\n",
       "        vertical-align: middle;\n",
       "    }\n",
       "\n",
       "    .dataframe tbody tr th {\n",
       "        vertical-align: top;\n",
       "    }\n",
       "\n",
       "    .dataframe thead th {\n",
       "        text-align: right;\n",
       "    }\n",
       "</style>\n",
       "<table border=\"1\" class=\"dataframe\">\n",
       "  <thead>\n",
       "    <tr style=\"text-align: right;\">\n",
       "      <th>city_name</th>\n",
       "      <th>party_name</th>\n",
       "      <th>אבו גוש</th>\n",
       "      <th>אבו סנאן</th>\n",
       "      <th>אבו קורינאת שבט</th>\n",
       "      <th>אבו רובייעה שבט</th>\n",
       "      <th>אבו רוקייק שבט</th>\n",
       "      <th>אבן יהודה</th>\n",
       "      <th>אבני חפץ</th>\n",
       "      <th>אום אלפחם</th>\n",
       "      <th>אום בטין</th>\n",
       "      <th>...</th>\n",
       "      <th>שלומי</th>\n",
       "      <th>שמשית</th>\n",
       "      <th>שעב</th>\n",
       "      <th>שער שומרון</th>\n",
       "      <th>שפרעם</th>\n",
       "      <th>שתולים</th>\n",
       "      <th>תל אביב  יפו</th>\n",
       "      <th>תל מונד</th>\n",
       "      <th>תל שבע</th>\n",
       "      <th>תקוע</th>\n",
       "    </tr>\n",
       "  </thead>\n",
       "  <tbody>\n",
       "    <tr>\n",
       "      <th>0</th>\n",
       "      <td>ballot_code</td>\n",
       "      <td>38.2</td>\n",
       "      <td>170.2</td>\n",
       "      <td>26.5</td>\n",
       "      <td>45.1</td>\n",
       "      <td>11.6</td>\n",
       "      <td>125.7</td>\n",
       "      <td>8.3</td>\n",
       "      <td>2216.9</td>\n",
       "      <td>5.0</td>\n",
       "      <td>...</td>\n",
       "      <td>51.2</td>\n",
       "      <td>6.0</td>\n",
       "      <td>31.2</td>\n",
       "      <td>414.7</td>\n",
       "      <td>1242.4</td>\n",
       "      <td>5.3</td>\n",
       "      <td>335134.5</td>\n",
       "      <td>101.6</td>\n",
       "      <td>148.7</td>\n",
       "      <td>10.0</td>\n",
       "    </tr>\n",
       "    <tr>\n",
       "      <th>1</th>\n",
       "      <td>party_avoda</td>\n",
       "      <td>14.0</td>\n",
       "      <td>34.0</td>\n",
       "      <td>5.0</td>\n",
       "      <td>10.0</td>\n",
       "      <td>0.0</td>\n",
       "      <td>540.0</td>\n",
       "      <td>0.0</td>\n",
       "      <td>51.0</td>\n",
       "      <td>1.0</td>\n",
       "      <td>...</td>\n",
       "      <td>65.0</td>\n",
       "      <td>173.0</td>\n",
       "      <td>27.0</td>\n",
       "      <td>56.0</td>\n",
       "      <td>316.0</td>\n",
       "      <td>19.0</td>\n",
       "      <td>24603.0</td>\n",
       "      <td>416.0</td>\n",
       "      <td>11.0</td>\n",
       "      <td>25.0</td>\n",
       "    </tr>\n",
       "    <tr>\n",
       "      <th>2</th>\n",
       "      <td>party_shahar_kalkali_hadash</td>\n",
       "      <td>1.0</td>\n",
       "      <td>0.0</td>\n",
       "      <td>0.0</td>\n",
       "      <td>0.0</td>\n",
       "      <td>0.0</td>\n",
       "      <td>14.0</td>\n",
       "      <td>0.0</td>\n",
       "      <td>7.0</td>\n",
       "      <td>1.0</td>\n",
       "      <td>...</td>\n",
       "      <td>10.0</td>\n",
       "      <td>2.0</td>\n",
       "      <td>0.0</td>\n",
       "      <td>21.0</td>\n",
       "      <td>3.0</td>\n",
       "      <td>12.0</td>\n",
       "      <td>1149.0</td>\n",
       "      <td>36.0</td>\n",
       "      <td>3.0</td>\n",
       "      <td>18.0</td>\n",
       "    </tr>\n",
       "    <tr>\n",
       "      <th>3</th>\n",
       "      <td>party_bayit_yehudi</td>\n",
       "      <td>1.0</td>\n",
       "      <td>3.0</td>\n",
       "      <td>1.0</td>\n",
       "      <td>0.0</td>\n",
       "      <td>0.0</td>\n",
       "      <td>59.0</td>\n",
       "      <td>23.0</td>\n",
       "      <td>3.0</td>\n",
       "      <td>0.0</td>\n",
       "      <td>...</td>\n",
       "      <td>23.0</td>\n",
       "      <td>4.0</td>\n",
       "      <td>0.0</td>\n",
       "      <td>264.0</td>\n",
       "      <td>4.0</td>\n",
       "      <td>21.0</td>\n",
       "      <td>1987.0</td>\n",
       "      <td>120.0</td>\n",
       "      <td>0.0</td>\n",
       "      <td>266.0</td>\n",
       "    </tr>\n",
       "    <tr>\n",
       "      <th>4</th>\n",
       "      <td>party_agudat_israel</td>\n",
       "      <td>3.0</td>\n",
       "      <td>0.0</td>\n",
       "      <td>0.0</td>\n",
       "      <td>5.0</td>\n",
       "      <td>0.0</td>\n",
       "      <td>26.0</td>\n",
       "      <td>10.0</td>\n",
       "      <td>16.0</td>\n",
       "      <td>0.0</td>\n",
       "      <td>...</td>\n",
       "      <td>24.0</td>\n",
       "      <td>5.0</td>\n",
       "      <td>2.0</td>\n",
       "      <td>18.0</td>\n",
       "      <td>14.0</td>\n",
       "      <td>17.0</td>\n",
       "      <td>2204.0</td>\n",
       "      <td>19.0</td>\n",
       "      <td>1.0</td>\n",
       "      <td>13.0</td>\n",
       "    </tr>\n",
       "  </tbody>\n",
       "</table>\n",
       "<p>5 rows × 266 columns</p>\n",
       "</div>"
      ],
      "text/plain": [
       "city_name                   party_name  אבו גוש  אבו סנאן  אבו קורינאת שבט  \\\n",
       "0                          ballot_code     38.2     170.2             26.5   \n",
       "1                          party_avoda     14.0      34.0              5.0   \n",
       "2          party_shahar_kalkali_hadash      1.0       0.0              0.0   \n",
       "3                   party_bayit_yehudi      1.0       3.0              1.0   \n",
       "4                  party_agudat_israel      3.0       0.0              0.0   \n",
       "\n",
       "city_name  אבו רובייעה שבט  אבו רוקייק שבט  אבן יהודה  אבני חפץ  אום אלפחם  \\\n",
       "0                     45.1            11.6      125.7       8.3     2216.9   \n",
       "1                     10.0             0.0      540.0       0.0       51.0   \n",
       "2                      0.0             0.0       14.0       0.0        7.0   \n",
       "3                      0.0             0.0       59.0      23.0        3.0   \n",
       "4                      5.0             0.0       26.0      10.0       16.0   \n",
       "\n",
       "city_name  אום בטין  ...  שלומי  שמשית   שעב  שער שומרון   שפרעם  שתולים  \\\n",
       "0               5.0  ...   51.2    6.0  31.2       414.7  1242.4     5.3   \n",
       "1               1.0  ...   65.0  173.0  27.0        56.0   316.0    19.0   \n",
       "2               1.0  ...   10.0    2.0   0.0        21.0     3.0    12.0   \n",
       "3               0.0  ...   23.0    4.0   0.0       264.0     4.0    21.0   \n",
       "4               0.0  ...   24.0    5.0   2.0        18.0    14.0    17.0   \n",
       "\n",
       "city_name  תל אביב  יפו  תל מונד  תל שבע   תקוע  \n",
       "0              335134.5    101.6   148.7   10.0  \n",
       "1               24603.0    416.0    11.0   25.0  \n",
       "2                1149.0     36.0     3.0   18.0  \n",
       "3                1987.0    120.0     0.0  266.0  \n",
       "4                2204.0     19.0     1.0   13.0  \n",
       "\n",
       "[5 rows x 266 columns]"
      ]
     },
     "metadata": {},
     "output_type": "display_data"
    }
   ],
   "source": [
    "transposed_cleaned_df.reset_index(inplace=True)\n",
    "transposed_cleaned_df.rename(columns={'index': 'party_name'}, inplace=True)\n",
    "display(transposed_cleaned_df.head())"
   ]
  },
  {
   "cell_type": "markdown",
   "metadata": {},
   "source": [
    "4) Perform PCA, keeping 'party_name' as meta_columns\n"
   ]
  },
  {
   "cell_type": "code",
   "execution_count": 144,
   "metadata": {},
   "outputs": [
    {
     "name": "stdout",
     "output_type": "stream",
     "text": [
      "Reduced DataFrame (Parties). Shape: (41, 3)\n"
     ]
    },
    {
     "data": {
      "text/html": [
       "<div>\n",
       "<style scoped>\n",
       "    .dataframe tbody tr th:only-of-type {\n",
       "        vertical-align: middle;\n",
       "    }\n",
       "\n",
       "    .dataframe tbody tr th {\n",
       "        vertical-align: top;\n",
       "    }\n",
       "\n",
       "    .dataframe thead th {\n",
       "        text-align: right;\n",
       "    }\n",
       "</style>\n",
       "<table border=\"1\" class=\"dataframe\">\n",
       "  <thead>\n",
       "    <tr style=\"text-align: right;\">\n",
       "      <th></th>\n",
       "      <th>party_name</th>\n",
       "      <th>PC1</th>\n",
       "      <th>PC2</th>\n",
       "    </tr>\n",
       "  </thead>\n",
       "  <tbody>\n",
       "    <tr>\n",
       "      <th>0</th>\n",
       "      <td>ballot_code</td>\n",
       "      <td>9.383502</td>\n",
       "      <td>2.403139</td>\n",
       "    </tr>\n",
       "    <tr>\n",
       "      <th>1</th>\n",
       "      <td>party_avoda</td>\n",
       "      <td>2.060747</td>\n",
       "      <td>-1.609121</td>\n",
       "    </tr>\n",
       "    <tr>\n",
       "      <th>2</th>\n",
       "      <td>party_shahar_kalkali_hadash</td>\n",
       "      <td>-3.744702</td>\n",
       "      <td>-2.831357</td>\n",
       "    </tr>\n",
       "    <tr>\n",
       "      <th>3</th>\n",
       "      <td>party_bayit_yehudi</td>\n",
       "      <td>-0.400878</td>\n",
       "      <td>-2.752964</td>\n",
       "    </tr>\n",
       "    <tr>\n",
       "      <th>4</th>\n",
       "      <td>party_agudat_israel</td>\n",
       "      <td>-0.484285</td>\n",
       "      <td>-3.012451</td>\n",
       "    </tr>\n",
       "  </tbody>\n",
       "</table>\n",
       "</div>"
      ],
      "text/plain": [
       "                    party_name       PC1       PC2\n",
       "0                  ballot_code  9.383502  2.403139\n",
       "1                  party_avoda  2.060747 -1.609121\n",
       "2  party_shahar_kalkali_hadash -3.744702 -2.831357\n",
       "3           party_bayit_yehudi -0.400878 -2.752964\n",
       "4          party_agudat_israel -0.484285 -3.012451"
      ]
     },
     "metadata": {},
     "output_type": "display_data"
    }
   ],
   "source": [
    "meta_cols_parties = ['party_name']\n",
    "parties_reduced_df = dimensionality_reduction(\n",
    "    transposed_cleaned_df,\n",
    "    num_components=2,\n",
    "    meta_columns=meta_cols_parties\n",
    ")\n",
    "print(\"Reduced DataFrame (Parties). Shape:\", parties_reduced_df.shape)\n",
    "parties_reduced_df = parties_reduced_df.map(lambda x: x.real if isinstance(x, complex) else x)\n",
    "display(parties_reduced_df.head())"
   ]
  },
  {
   "cell_type": "markdown",
   "metadata": {},
   "source": [
    "5) Visualize the 2D PCA for parties\n"
   ]
  },
  {
   "cell_type": "code",
   "execution_count": 145,
   "metadata": {},
   "outputs": [
    {
     "data": {
      "application/vnd.plotly.v1+json": {
       "config": {
        "plotlyServerURL": "https://plot.ly"
       },
       "data": [
        {
         "customdata": [
          [
           "ballot_code"
          ],
          [
           "party_avoda"
          ],
          [
           "party_shahar_kalkali_hadash"
          ],
          [
           "party_bayit_yehudi"
          ],
          [
           "party_agudat_israel"
          ],
          [
           "party_daled"
          ],
          [
           "party_vavmem"
          ],
          [
           "party_shahar_koach_hevrati"
          ],
          [
           "party_kama"
          ],
          [
           "party_koach_lehashpia"
          ],
          [
           "party_tzomet"
          ],
          [
           "party_tet"
          ],
          [
           "party_israel_hofshit_demokratit"
          ],
          [
           "party_hakalkalit_hahadasha"
          ],
          [
           "party_ichud_bnei_habrit"
          ],
          [
           "party_tzav_hashaa"
          ],
          [
           "party_hagush_hatana'chi"
          ],
          [
           "party_kahol_lavan"
          ],
          [
           "party_ani_veata"
          ],
          [
           "party_israel_beitenu"
          ],
          [
           "party_likud"
          ],
          [
           "party_meretz"
          ],
          [
           "party_kavod_haadam"
          ],
          [
           "party_nativ"
          ],
          [
           "party_shma"
          ],
          [
           "party_haatzmaim_hachadashim"
          ],
          [
           "party_yesh_kivun"
          ],
          [
           "party_anachnu"
          ],
          [
           "party_raam"
          ],
          [
           "party_yesh_atid"
          ],
          [
           "party_pesofit"
          ],
          [
           "party_tze'irim_bo'arim"
          ],
          [
           "party_manhigut_hevratit"
          ],
          [
           "party_kol_hasviva_vehachai"
          ],
          [
           "party_halev_hayehudi"
          ],
          [
           "party_seder_chadash"
          ],
          [
           "party_kol"
          ],
          [
           "party_beometz_bishvilech"
          ],
          [
           "party_kavod_umasoret"
          ],
          [
           "party_shas"
          ],
          [
           "party_daat_tov_vera"
          ]
         ],
         "hovertemplate": "PC1=%{x}<br>PC2=%{y}<br>party_name=%{customdata[0]}<extra></extra>",
         "legendgroup": "",
         "marker": {
          "color": "#636efa",
          "symbol": "circle"
         },
         "mode": "markers",
         "name": "",
         "orientation": "v",
         "showlegend": false,
         "type": "scatter",
         "x": [
          9.383501855692806,
          2.0607465503174205,
          -3.744702292196174,
          -0.40087831922561146,
          -0.4842850167992591,
          -5.880998550529492,
          -5.899541211928494,
          -4.354987565382722,
          -4.3741780389147085,
          -4.3746952281389575,
          -4.374018396700906,
          23.247496549171732,
          -4.334473075512432,
          -3.806551509184782,
          -4.373378741037031,
          -4.374464170414896,
          -4.3657337976606945,
          15.215610670314028,
          -4.365938217524434,
          3.6264370761311024,
          43.00173038227944,
          0.4810929215532307,
          -4.369087180222542,
          -4.333298500122798,
          -4.373930906144898,
          -4.342703858332678,
          -4.331221486225208,
          -4.36804191456293,
          -7.562227418987081,
          31.499070577725554,
          -4.32686953051142,
          -4.076667125205221,
          -4.373722725624729,
          -4.324941507214275,
          -4.368866655794353,
          -4.343252916456008,
          -4.322719499729649,
          -3.691776459901295,
          -4.347946524304961,
          7.182503476922207,
          -4.332091719616922
         ],
         "xaxis": "x",
         "y": [
          2.4031392179394717,
          -1.609121356090606,
          -2.8313570280610776,
          -2.75296408172811,
          -3.0124514069689203,
          19.764381367444194,
          26.18732173722461,
          -2.8684571503430734,
          -2.900887541970977,
          -2.901990691037566,
          -2.8912537714747892,
          -1.6243601082552026,
          -2.855936715391459,
          -2.83196654623186,
          -2.896905689857271,
          -2.8886111188744437,
          -2.889748808303401,
          0.6174648119966099,
          -2.8772704883334543,
          -0.7456922986905169,
          3.5125249841851818,
          -0.2247352994817914,
          -2.8997781850934876,
          -2.8824325248691416,
          -2.8979767417920046,
          -2.869029640860844,
          -2.88909783961357,
          -2.8957412140873666,
          34.55092267206357,
          2.284298869056651,
          -2.8854614060676536,
          -2.8343627007941006,
          -2.7971939227655294,
          -2.8813600516662765,
          -2.880322225024149,
          -2.8746938107234317,
          -2.8562782168937835,
          -2.767423669297015,
          -2.893063145926877,
          -1.8403197960946227,
          -2.8718084672459137
         ],
         "yaxis": "y"
        }
       ],
       "layout": {
        "legend": {
         "tracegroupgap": 0
        },
        "template": {
         "data": {
          "bar": [
           {
            "error_x": {
             "color": "#2a3f5f"
            },
            "error_y": {
             "color": "#2a3f5f"
            },
            "marker": {
             "line": {
              "color": "#E5ECF6",
              "width": 0.5
             },
             "pattern": {
              "fillmode": "overlay",
              "size": 10,
              "solidity": 0.2
             }
            },
            "type": "bar"
           }
          ],
          "barpolar": [
           {
            "marker": {
             "line": {
              "color": "#E5ECF6",
              "width": 0.5
             },
             "pattern": {
              "fillmode": "overlay",
              "size": 10,
              "solidity": 0.2
             }
            },
            "type": "barpolar"
           }
          ],
          "carpet": [
           {
            "aaxis": {
             "endlinecolor": "#2a3f5f",
             "gridcolor": "white",
             "linecolor": "white",
             "minorgridcolor": "white",
             "startlinecolor": "#2a3f5f"
            },
            "baxis": {
             "endlinecolor": "#2a3f5f",
             "gridcolor": "white",
             "linecolor": "white",
             "minorgridcolor": "white",
             "startlinecolor": "#2a3f5f"
            },
            "type": "carpet"
           }
          ],
          "choropleth": [
           {
            "colorbar": {
             "outlinewidth": 0,
             "ticks": ""
            },
            "type": "choropleth"
           }
          ],
          "contour": [
           {
            "colorbar": {
             "outlinewidth": 0,
             "ticks": ""
            },
            "colorscale": [
             [
              0,
              "#0d0887"
             ],
             [
              0.1111111111111111,
              "#46039f"
             ],
             [
              0.2222222222222222,
              "#7201a8"
             ],
             [
              0.3333333333333333,
              "#9c179e"
             ],
             [
              0.4444444444444444,
              "#bd3786"
             ],
             [
              0.5555555555555556,
              "#d8576b"
             ],
             [
              0.6666666666666666,
              "#ed7953"
             ],
             [
              0.7777777777777778,
              "#fb9f3a"
             ],
             [
              0.8888888888888888,
              "#fdca26"
             ],
             [
              1,
              "#f0f921"
             ]
            ],
            "type": "contour"
           }
          ],
          "contourcarpet": [
           {
            "colorbar": {
             "outlinewidth": 0,
             "ticks": ""
            },
            "type": "contourcarpet"
           }
          ],
          "heatmap": [
           {
            "colorbar": {
             "outlinewidth": 0,
             "ticks": ""
            },
            "colorscale": [
             [
              0,
              "#0d0887"
             ],
             [
              0.1111111111111111,
              "#46039f"
             ],
             [
              0.2222222222222222,
              "#7201a8"
             ],
             [
              0.3333333333333333,
              "#9c179e"
             ],
             [
              0.4444444444444444,
              "#bd3786"
             ],
             [
              0.5555555555555556,
              "#d8576b"
             ],
             [
              0.6666666666666666,
              "#ed7953"
             ],
             [
              0.7777777777777778,
              "#fb9f3a"
             ],
             [
              0.8888888888888888,
              "#fdca26"
             ],
             [
              1,
              "#f0f921"
             ]
            ],
            "type": "heatmap"
           }
          ],
          "heatmapgl": [
           {
            "colorbar": {
             "outlinewidth": 0,
             "ticks": ""
            },
            "colorscale": [
             [
              0,
              "#0d0887"
             ],
             [
              0.1111111111111111,
              "#46039f"
             ],
             [
              0.2222222222222222,
              "#7201a8"
             ],
             [
              0.3333333333333333,
              "#9c179e"
             ],
             [
              0.4444444444444444,
              "#bd3786"
             ],
             [
              0.5555555555555556,
              "#d8576b"
             ],
             [
              0.6666666666666666,
              "#ed7953"
             ],
             [
              0.7777777777777778,
              "#fb9f3a"
             ],
             [
              0.8888888888888888,
              "#fdca26"
             ],
             [
              1,
              "#f0f921"
             ]
            ],
            "type": "heatmapgl"
           }
          ],
          "histogram": [
           {
            "marker": {
             "pattern": {
              "fillmode": "overlay",
              "size": 10,
              "solidity": 0.2
             }
            },
            "type": "histogram"
           }
          ],
          "histogram2d": [
           {
            "colorbar": {
             "outlinewidth": 0,
             "ticks": ""
            },
            "colorscale": [
             [
              0,
              "#0d0887"
             ],
             [
              0.1111111111111111,
              "#46039f"
             ],
             [
              0.2222222222222222,
              "#7201a8"
             ],
             [
              0.3333333333333333,
              "#9c179e"
             ],
             [
              0.4444444444444444,
              "#bd3786"
             ],
             [
              0.5555555555555556,
              "#d8576b"
             ],
             [
              0.6666666666666666,
              "#ed7953"
             ],
             [
              0.7777777777777778,
              "#fb9f3a"
             ],
             [
              0.8888888888888888,
              "#fdca26"
             ],
             [
              1,
              "#f0f921"
             ]
            ],
            "type": "histogram2d"
           }
          ],
          "histogram2dcontour": [
           {
            "colorbar": {
             "outlinewidth": 0,
             "ticks": ""
            },
            "colorscale": [
             [
              0,
              "#0d0887"
             ],
             [
              0.1111111111111111,
              "#46039f"
             ],
             [
              0.2222222222222222,
              "#7201a8"
             ],
             [
              0.3333333333333333,
              "#9c179e"
             ],
             [
              0.4444444444444444,
              "#bd3786"
             ],
             [
              0.5555555555555556,
              "#d8576b"
             ],
             [
              0.6666666666666666,
              "#ed7953"
             ],
             [
              0.7777777777777778,
              "#fb9f3a"
             ],
             [
              0.8888888888888888,
              "#fdca26"
             ],
             [
              1,
              "#f0f921"
             ]
            ],
            "type": "histogram2dcontour"
           }
          ],
          "mesh3d": [
           {
            "colorbar": {
             "outlinewidth": 0,
             "ticks": ""
            },
            "type": "mesh3d"
           }
          ],
          "parcoords": [
           {
            "line": {
             "colorbar": {
              "outlinewidth": 0,
              "ticks": ""
             }
            },
            "type": "parcoords"
           }
          ],
          "pie": [
           {
            "automargin": true,
            "type": "pie"
           }
          ],
          "scatter": [
           {
            "fillpattern": {
             "fillmode": "overlay",
             "size": 10,
             "solidity": 0.2
            },
            "type": "scatter"
           }
          ],
          "scatter3d": [
           {
            "line": {
             "colorbar": {
              "outlinewidth": 0,
              "ticks": ""
             }
            },
            "marker": {
             "colorbar": {
              "outlinewidth": 0,
              "ticks": ""
             }
            },
            "type": "scatter3d"
           }
          ],
          "scattercarpet": [
           {
            "marker": {
             "colorbar": {
              "outlinewidth": 0,
              "ticks": ""
             }
            },
            "type": "scattercarpet"
           }
          ],
          "scattergeo": [
           {
            "marker": {
             "colorbar": {
              "outlinewidth": 0,
              "ticks": ""
             }
            },
            "type": "scattergeo"
           }
          ],
          "scattergl": [
           {
            "marker": {
             "colorbar": {
              "outlinewidth": 0,
              "ticks": ""
             }
            },
            "type": "scattergl"
           }
          ],
          "scattermapbox": [
           {
            "marker": {
             "colorbar": {
              "outlinewidth": 0,
              "ticks": ""
             }
            },
            "type": "scattermapbox"
           }
          ],
          "scatterpolar": [
           {
            "marker": {
             "colorbar": {
              "outlinewidth": 0,
              "ticks": ""
             }
            },
            "type": "scatterpolar"
           }
          ],
          "scatterpolargl": [
           {
            "marker": {
             "colorbar": {
              "outlinewidth": 0,
              "ticks": ""
             }
            },
            "type": "scatterpolargl"
           }
          ],
          "scatterternary": [
           {
            "marker": {
             "colorbar": {
              "outlinewidth": 0,
              "ticks": ""
             }
            },
            "type": "scatterternary"
           }
          ],
          "surface": [
           {
            "colorbar": {
             "outlinewidth": 0,
             "ticks": ""
            },
            "colorscale": [
             [
              0,
              "#0d0887"
             ],
             [
              0.1111111111111111,
              "#46039f"
             ],
             [
              0.2222222222222222,
              "#7201a8"
             ],
             [
              0.3333333333333333,
              "#9c179e"
             ],
             [
              0.4444444444444444,
              "#bd3786"
             ],
             [
              0.5555555555555556,
              "#d8576b"
             ],
             [
              0.6666666666666666,
              "#ed7953"
             ],
             [
              0.7777777777777778,
              "#fb9f3a"
             ],
             [
              0.8888888888888888,
              "#fdca26"
             ],
             [
              1,
              "#f0f921"
             ]
            ],
            "type": "surface"
           }
          ],
          "table": [
           {
            "cells": {
             "fill": {
              "color": "#EBF0F8"
             },
             "line": {
              "color": "white"
             }
            },
            "header": {
             "fill": {
              "color": "#C8D4E3"
             },
             "line": {
              "color": "white"
             }
            },
            "type": "table"
           }
          ]
         },
         "layout": {
          "annotationdefaults": {
           "arrowcolor": "#2a3f5f",
           "arrowhead": 0,
           "arrowwidth": 1
          },
          "autotypenumbers": "strict",
          "coloraxis": {
           "colorbar": {
            "outlinewidth": 0,
            "ticks": ""
           }
          },
          "colorscale": {
           "diverging": [
            [
             0,
             "#8e0152"
            ],
            [
             0.1,
             "#c51b7d"
            ],
            [
             0.2,
             "#de77ae"
            ],
            [
             0.3,
             "#f1b6da"
            ],
            [
             0.4,
             "#fde0ef"
            ],
            [
             0.5,
             "#f7f7f7"
            ],
            [
             0.6,
             "#e6f5d0"
            ],
            [
             0.7,
             "#b8e186"
            ],
            [
             0.8,
             "#7fbc41"
            ],
            [
             0.9,
             "#4d9221"
            ],
            [
             1,
             "#276419"
            ]
           ],
           "sequential": [
            [
             0,
             "#0d0887"
            ],
            [
             0.1111111111111111,
             "#46039f"
            ],
            [
             0.2222222222222222,
             "#7201a8"
            ],
            [
             0.3333333333333333,
             "#9c179e"
            ],
            [
             0.4444444444444444,
             "#bd3786"
            ],
            [
             0.5555555555555556,
             "#d8576b"
            ],
            [
             0.6666666666666666,
             "#ed7953"
            ],
            [
             0.7777777777777778,
             "#fb9f3a"
            ],
            [
             0.8888888888888888,
             "#fdca26"
            ],
            [
             1,
             "#f0f921"
            ]
           ],
           "sequentialminus": [
            [
             0,
             "#0d0887"
            ],
            [
             0.1111111111111111,
             "#46039f"
            ],
            [
             0.2222222222222222,
             "#7201a8"
            ],
            [
             0.3333333333333333,
             "#9c179e"
            ],
            [
             0.4444444444444444,
             "#bd3786"
            ],
            [
             0.5555555555555556,
             "#d8576b"
            ],
            [
             0.6666666666666666,
             "#ed7953"
            ],
            [
             0.7777777777777778,
             "#fb9f3a"
            ],
            [
             0.8888888888888888,
             "#fdca26"
            ],
            [
             1,
             "#f0f921"
            ]
           ]
          },
          "colorway": [
           "#636efa",
           "#EF553B",
           "#00cc96",
           "#ab63fa",
           "#FFA15A",
           "#19d3f3",
           "#FF6692",
           "#B6E880",
           "#FF97FF",
           "#FECB52"
          ],
          "font": {
           "color": "#2a3f5f"
          },
          "geo": {
           "bgcolor": "white",
           "lakecolor": "white",
           "landcolor": "#E5ECF6",
           "showlakes": true,
           "showland": true,
           "subunitcolor": "white"
          },
          "hoverlabel": {
           "align": "left"
          },
          "hovermode": "closest",
          "mapbox": {
           "style": "light"
          },
          "paper_bgcolor": "white",
          "plot_bgcolor": "#E5ECF6",
          "polar": {
           "angularaxis": {
            "gridcolor": "white",
            "linecolor": "white",
            "ticks": ""
           },
           "bgcolor": "#E5ECF6",
           "radialaxis": {
            "gridcolor": "white",
            "linecolor": "white",
            "ticks": ""
           }
          },
          "scene": {
           "xaxis": {
            "backgroundcolor": "#E5ECF6",
            "gridcolor": "white",
            "gridwidth": 2,
            "linecolor": "white",
            "showbackground": true,
            "ticks": "",
            "zerolinecolor": "white"
           },
           "yaxis": {
            "backgroundcolor": "#E5ECF6",
            "gridcolor": "white",
            "gridwidth": 2,
            "linecolor": "white",
            "showbackground": true,
            "ticks": "",
            "zerolinecolor": "white"
           },
           "zaxis": {
            "backgroundcolor": "#E5ECF6",
            "gridcolor": "white",
            "gridwidth": 2,
            "linecolor": "white",
            "showbackground": true,
            "ticks": "",
            "zerolinecolor": "white"
           }
          },
          "shapedefaults": {
           "line": {
            "color": "#2a3f5f"
           }
          },
          "ternary": {
           "aaxis": {
            "gridcolor": "white",
            "linecolor": "white",
            "ticks": ""
           },
           "baxis": {
            "gridcolor": "white",
            "linecolor": "white",
            "ticks": ""
           },
           "bgcolor": "#E5ECF6",
           "caxis": {
            "gridcolor": "white",
            "linecolor": "white",
            "ticks": ""
           }
          },
          "title": {
           "x": 0.05
          },
          "xaxis": {
           "automargin": true,
           "gridcolor": "white",
           "linecolor": "white",
           "ticks": "",
           "title": {
            "standoff": 15
           },
           "zerolinecolor": "white",
           "zerolinewidth": 2
          },
          "yaxis": {
           "automargin": true,
           "gridcolor": "white",
           "linecolor": "white",
           "ticks": "",
           "title": {
            "standoff": 15
           },
           "zerolinecolor": "white",
           "zerolinewidth": 2
          }
         }
        },
        "title": {
         "text": "Parties PCA Visualization"
        },
        "xaxis": {
         "anchor": "y",
         "domain": [
          0,
          1
         ],
         "title": {
          "text": "PC1"
         }
        },
        "yaxis": {
         "anchor": "x",
         "domain": [
          0,
          1
         ],
         "title": {
          "text": "PC2"
         }
        }
       }
      }
     },
     "metadata": {},
     "output_type": "display_data"
    }
   ],
   "source": [
    "fig_parties = px.scatter(\n",
    "    parties_reduced_df,\n",
    "    x='PC1',\n",
    "    y='PC2',\n",
    "    hover_data=['party_name'],\n",
    "    title='Parties PCA Visualization'\n",
    ")\n",
    "fig_parties.show()"
   ]
  }
 ],
 "metadata": {
  "kernelspec": {
   "display_name": "base",
   "language": "python",
   "name": "python3"
  },
  "language_info": {
   "codemirror_mode": {
    "name": "ipython",
    "version": 3
   },
   "file_extension": ".py",
   "mimetype": "text/x-python",
   "name": "python",
   "nbconvert_exporter": "python",
   "pygments_lexer": "ipython3",
   "version": "3.12.2"
  }
 },
 "nbformat": 4,
 "nbformat_minor": 2
}
